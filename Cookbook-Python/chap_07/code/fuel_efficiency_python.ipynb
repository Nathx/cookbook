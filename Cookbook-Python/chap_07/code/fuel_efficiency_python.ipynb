{
 "cells": [
  {
   "cell_type": "markdown",
   "metadata": {},
   "source": [
    "## Preparing to Analyze and Importing Automobile Fuel Efficiencies"
   ]
  },
  {
   "cell_type": "code",
   "execution_count": 5,
   "metadata": {
    "collapsed": false
   },
   "outputs": [],
   "source": [
    "import pandas as pd\n",
    "import numpy as np\n",
    "from ggplot import *\n",
    "import matplotlib.pyplot as plt\n",
    "\n",
    "%matplotlib inline"
   ]
  },
  {
   "cell_type": "code",
   "execution_count": 6,
   "metadata": {
    "collapsed": false
   },
   "outputs": [
    {
     "name": "stdout",
     "output_type": "stream",
     "text": [
      "\u001b[31mfuel_efficiency_python.ipynb\u001b[m\u001b[m*\r\n"
     ]
    }
   ],
   "source": [
    "ls"
   ]
  },
  {
   "cell_type": "code",
   "execution_count": 9,
   "metadata": {
    "collapsed": true
   },
   "outputs": [
    {
     "name": "stderr",
     "output_type": "stream",
     "text": [
      "/Users/nathankiner/anaconda/lib/python2.7/site-packages/IPython/core/interactiveshell.py:2902: DtypeWarning: Columns (22,23,70,71,72,73) have mixed types. Specify dtype option on import or set low_memory=False.\n",
      "  interactivity=interactivity, compiler=compiler, result=result)\n"
     ]
    },
    {
     "data": {
      "text/plain": [
       "<bound method DataFrame.head of        barrels08  barrelsA08  charge120  charge240  city08  city08U  cityA08  \\\n",
       "0      15.689436           0          0          0      19        0        0   \n",
       "1      29.950562           0          0          0       9        0        0   \n",
       "2      12.195570           0          0          0      23        0        0   \n",
       "3      29.950562           0          0          0      10        0        0   \n",
       "4      17.337486           0          0          0      17        0        0   \n",
       "5      14.964294           0          0          0      21        0        0   \n",
       "6      13.184400           0          0          0      22        0        0   \n",
       "7      13.733750           0          0          0      23        0        0   \n",
       "8      12.657024           0          0          0      23        0        0   \n",
       "9      13.184400           0          0          0      23        0        0   \n",
       "10     12.657024           0          0          0      23        0        0   \n",
       "11     15.689436           0          0          0      18        0        0   \n",
       "12     13.733750           0          0          0      21        0        0   \n",
       "13     15.689436           0          0          0      18        0        0   \n",
       "14     25.336022           0          0          0      12        0        0   \n",
       "15     14.327048           0          0          0      20        0        0   \n",
       "16     16.480500           0          0          0      18        0        0   \n",
       "17     15.689436           0          0          0      19        0        0   \n",
       "18     17.337486           0          0          0      17        0        0   \n",
       "19     17.337486           0          0          0      17        0        0   \n",
       "20     20.589638           0          0          0      14        0        0   \n",
       "21     20.589638           0          0          0      14        0        0   \n",
       "22     25.336022           0          0          0      11        0        0   \n",
       "23     14.327048           0          0          0      21        0        0   \n",
       "24     17.337486           0          0          0      17        0        0   \n",
       "25     25.336022           0          0          0      11        0        0   \n",
       "26     15.689436           0          0          0      18        0        0   \n",
       "27     16.480500           0          0          0      17        0        0   \n",
       "28     16.480500           0          0          0      17        0        0   \n",
       "29     16.480500           0          0          0      17        0        0   \n",
       "...          ...         ...        ...        ...     ...      ...      ...   \n",
       "34257  12.657024           0          0          0      23        0        0   \n",
       "34258  14.327048           0          0          0      21        0        0   \n",
       "34259  13.184400           0          0          0      22        0        0   \n",
       "34260  15.689436           0          0          0      18        0        0   \n",
       "34261  16.480500           0          0          0      17        0        0   \n",
       "34262  14.964294           0          0          0      19        0        0   \n",
       "34263  14.327048           0          0          0      19        0        0   \n",
       "34264  13.733750           0          0          0      21        0        0   \n",
       "34265  21.974000           0          0          0      14        0        0   \n",
       "34266  15.689436           0          0          0      18        0        0   \n",
       "34267  15.689436           0          0          0      18        0        0   \n",
       "34268  13.184400           0          0          0      23        0        0   \n",
       "34269  11.756090           0          0          0      24        0        0   \n",
       "34270  10.987000           0          0          0      26        0        0   \n",
       "34271  29.950562           0          0          0      10        0        0   \n",
       "34272  18.304342           0          0          0      17        0        0   \n",
       "34273  15.689436           0          0          0      18        0        0   \n",
       "34274  15.689436           0          0          0      18        0        0   \n",
       "34275  18.304342           0          0          0      16        0        0   \n",
       "34276  27.467500           0          0          0      11        0        0   \n",
       "34277  16.480500           0          0          0      18        0        0   \n",
       "34278  12.657024           0          0          0      23        0        0   \n",
       "34279  13.733750           0          0          0      21        0        0   \n",
       "34280  11.756090           0          0          0      24        0        0   \n",
       "34281  13.184400           0          0          0      21        0        0   \n",
       "34282  14.964294           0          0          0      19        0        0   \n",
       "34283  14.327048           0          0          0      20        0        0   \n",
       "34284  15.689436           0          0          0      18        0        0   \n",
       "34285  15.689436           0          0          0      18        0        0   \n",
       "34286  18.304342           0          0          0      16        0        0   \n",
       "\n",
       "       cityA08U  cityCD  cityE   ...     youSaveSpend  guzzler   trans_dscr  \\\n",
       "0             0       0      0   ...            -1000      NaN          NaN   \n",
       "1             0       0      0   ...           -11500        T          NaN   \n",
       "2             0       0      0   ...             1750      NaN          SIL   \n",
       "3             0       0      0   ...           -11500      NaN          NaN   \n",
       "4             0       0      0   ...            -3500      NaN          NaN   \n",
       "5             0       0      0   ...             -500      NaN          NaN   \n",
       "6             0       0      0   ...             1000      NaN          NaN   \n",
       "7             0       0      0   ...              500      NaN          NaN   \n",
       "8             0       0      0   ...             1250      NaN          NaN   \n",
       "9             0       0      0   ...             1000      NaN          NaN   \n",
       "10            0       0      0   ...             1250      NaN          NaN   \n",
       "11            0       0      0   ...            -1000      NaN  2MODE CLKUP   \n",
       "12            0       0      0   ...              500      NaN          NaN   \n",
       "13            0       0      0   ...            -1000      NaN  2MODE CLKUP   \n",
       "14            0       0      0   ...            -8000      NaN          NaN   \n",
       "15            0       0      0   ...                0      NaN          NaN   \n",
       "16            0       0      0   ...            -1500      NaN          NaN   \n",
       "17            0       0      0   ...            -1000      NaN          SIL   \n",
       "18            0       0      0   ...            -3500      NaN        CLKUP   \n",
       "19            0       0      0   ...            -3500      NaN          NaN   \n",
       "20            0       0      0   ...            -6250        T          NaN   \n",
       "21            0       0      0   ...            -6250        T          NaN   \n",
       "22            0       0      0   ...            -8000        T        2MODE   \n",
       "23            0       0      0   ...                0      NaN        CLKUP   \n",
       "24            0       0      0   ...            -2250      NaN        CLKUP   \n",
       "25            0       0      0   ...            -8000      NaN          NaN   \n",
       "26            0       0      0   ...            -1000      NaN        CLKUP   \n",
       "27            0       0      0   ...            -1500      NaN        CLKUP   \n",
       "28            0       0      0   ...            -1500      NaN        CLKUP   \n",
       "29            0       0      0   ...            -1500      NaN        CLKUP   \n",
       "...         ...     ...    ...   ...              ...      ...          ...   \n",
       "34257         0       0      0   ...             1250      NaN          NaN   \n",
       "34258         0       0      0   ...                0      NaN        CLKUP   \n",
       "34259         0       0      0   ...             1000      NaN          NaN   \n",
       "34260         0       0      0   ...            -1000      NaN        CLKUP   \n",
       "34261         0       0      0   ...            -1500      NaN          NaN   \n",
       "34262         0       0      0   ...             -500      NaN        CLKUP   \n",
       "34263         0       0      0   ...                0      NaN        CLKUP   \n",
       "34264         0       0      0   ...              500      NaN          SIL   \n",
       "34265         0       0      0   ...            -5500      NaN          SIL   \n",
       "34266         0       0      0   ...            -2250      NaN          SIL   \n",
       "34267         0       0      0   ...            -1000      NaN        CLKUP   \n",
       "34268         0       0      0   ...             1000      NaN        CLKUP   \n",
       "34269         0       0      0   ...             2000      NaN          NaN   \n",
       "34270         0       0      0   ...             2500      NaN          SIL   \n",
       "34271         0       0      0   ...           -14000        T        4MODE   \n",
       "34272         0       0      0   ...            -3000      NaN          NaN   \n",
       "34273         0       0      0   ...            -1000      NaN          SIL   \n",
       "34274         0       0      0   ...            -2250      NaN          SIL   \n",
       "34275         0       0      0   ...            -3000      NaN          NaN   \n",
       "34276         0       0      0   ...            -9750      NaN          NaN   \n",
       "34277         0       0      0   ...            -1500      NaN          SIL   \n",
       "34278         0       0      0   ...             1250      NaN  2MODE CLKUP   \n",
       "34279         0       0      0   ...              500      NaN        CLKUP   \n",
       "34280         0       0      0   ...             2000      NaN          SIL   \n",
       "34281         0       0      0   ...             1000      NaN          SIL   \n",
       "34282         0       0      0   ...             -500      NaN        CLKUP   \n",
       "34283         0       0      0   ...                0      NaN          NaN   \n",
       "34284         0       0      0   ...            -1000      NaN        CLKUP   \n",
       "34285         0       0      0   ...            -1000      NaN          NaN   \n",
       "34286         0       0      0   ...            -4500      NaN        CLKUP   \n",
       "\n",
       "       tCharger  sCharger  atvType  fuelType2  rangeA  evMotor  mfrCode  \n",
       "0           NaN       NaN      NaN        NaN     NaN      NaN      NaN  \n",
       "1           NaN       NaN      NaN        NaN     NaN      NaN      NaN  \n",
       "2           NaN       NaN      NaN        NaN     NaN      NaN      NaN  \n",
       "3           NaN       NaN      NaN        NaN     NaN      NaN      NaN  \n",
       "4             T       NaN      NaN        NaN     NaN      NaN      NaN  \n",
       "5           NaN       NaN      NaN        NaN     NaN      NaN      NaN  \n",
       "6           NaN       NaN      NaN        NaN     NaN      NaN      NaN  \n",
       "7           NaN       NaN      NaN        NaN     NaN      NaN      NaN  \n",
       "8           NaN       NaN      NaN        NaN     NaN      NaN      NaN  \n",
       "9           NaN       NaN      NaN        NaN     NaN      NaN      NaN  \n",
       "10          NaN       NaN      NaN        NaN     NaN      NaN      NaN  \n",
       "11          NaN       NaN      NaN        NaN     NaN      NaN      NaN  \n",
       "12          NaN       NaN      NaN        NaN     NaN      NaN      NaN  \n",
       "13          NaN       NaN      NaN        NaN     NaN      NaN      NaN  \n",
       "14          NaN       NaN      NaN        NaN     NaN      NaN      NaN  \n",
       "15          NaN       NaN      NaN        NaN     NaN      NaN      NaN  \n",
       "16          NaN       NaN      NaN        NaN     NaN      NaN      NaN  \n",
       "17          NaN       NaN      NaN        NaN     NaN      NaN      NaN  \n",
       "18          NaN       NaN      NaN        NaN     NaN      NaN      NaN  \n",
       "19          NaN       NaN      NaN        NaN     NaN      NaN      NaN  \n",
       "20          NaN       NaN      NaN        NaN     NaN      NaN      NaN  \n",
       "21          NaN       NaN      NaN        NaN     NaN      NaN      NaN  \n",
       "22          NaN       NaN      NaN        NaN     NaN      NaN      NaN  \n",
       "23          NaN       NaN      NaN        NaN     NaN      NaN      NaN  \n",
       "24          NaN       NaN      NaN        NaN     NaN      NaN      NaN  \n",
       "25          NaN       NaN      NaN        NaN     NaN      NaN      NaN  \n",
       "26          NaN       NaN      NaN        NaN     NaN      NaN      NaN  \n",
       "27          NaN       NaN      NaN        NaN     NaN      NaN      NaN  \n",
       "28          NaN       NaN      NaN        NaN     NaN      NaN      NaN  \n",
       "29          NaN       NaN      NaN        NaN     NaN      NaN      NaN  \n",
       "...         ...       ...      ...        ...     ...      ...      ...  \n",
       "34257       NaN       NaN      NaN        NaN     NaN      NaN      NaN  \n",
       "34258       NaN       NaN      NaN        NaN     NaN      NaN      NaN  \n",
       "34259       NaN       NaN      NaN        NaN     NaN      NaN      NaN  \n",
       "34260       NaN       NaN      NaN        NaN     NaN      NaN      NaN  \n",
       "34261       NaN       NaN      NaN        NaN     NaN      NaN      NaN  \n",
       "34262       NaN       NaN      NaN        NaN     NaN      NaN      NaN  \n",
       "34263       NaN       NaN      NaN        NaN     NaN      NaN      NaN  \n",
       "34264       NaN       NaN      NaN        NaN     NaN      NaN      NaN  \n",
       "34265       NaN       NaN      NaN        NaN     NaN      NaN      NaN  \n",
       "34266       NaN       NaN      NaN        NaN     NaN      NaN      NaN  \n",
       "34267       NaN       NaN      NaN        NaN     NaN      NaN      NaN  \n",
       "34268       NaN       NaN      NaN        NaN     NaN      NaN      NaN  \n",
       "34269       NaN       NaN      NaN        NaN     NaN      NaN      NaN  \n",
       "34270       NaN       NaN      NaN        NaN     NaN      NaN      NaN  \n",
       "34271         T       NaN      NaN        NaN     NaN      NaN      NaN  \n",
       "34272         T       NaN      NaN        NaN     NaN      NaN      NaN  \n",
       "34273         T       NaN      NaN        NaN     NaN      NaN      NaN  \n",
       "34274         T       NaN      NaN        NaN     NaN      NaN      NaN  \n",
       "34275       NaN       NaN      NaN        NaN     NaN      NaN      NaN  \n",
       "34276       NaN       NaN      NaN        NaN     NaN      NaN      NaN  \n",
       "34277       NaN       NaN      NaN        NaN     NaN      NaN      NaN  \n",
       "34278       NaN       NaN      NaN        NaN     NaN      NaN      NaN  \n",
       "34279       NaN       NaN      NaN        NaN     NaN      NaN      NaN  \n",
       "34280       NaN       NaN      NaN        NaN     NaN      NaN      NaN  \n",
       "34281       NaN       NaN      NaN        NaN     NaN      NaN      NaN  \n",
       "34282       NaN       NaN      NaN        NaN     NaN      NaN      NaN  \n",
       "34283       NaN       NaN      NaN        NaN     NaN      NaN      NaN  \n",
       "34284       NaN       NaN      NaN        NaN     NaN      NaN      NaN  \n",
       "34285       NaN       NaN      NaN        NaN     NaN      NaN      NaN  \n",
       "34286         T       NaN      NaN        NaN     NaN      NaN      NaN  \n",
       "\n",
       "[34287 rows x 74 columns]>"
      ]
     },
     "execution_count": 9,
     "metadata": {},
     "output_type": "execute_result"
    }
   ],
   "source": [
    "vehicles = pd.read_csv(\"../data/vehicles.csv\")\n",
    "vehicles.head"
   ]
  },
  {
   "cell_type": "code",
   "execution_count": 10,
   "metadata": {
    "collapsed": false
   },
   "outputs": [
    {
     "data": {
      "text/plain": [
       "array(['cylinders', 'displ', 'fuelType2', 'rangeA', 'evMotor', 'mfrCode'], dtype=object)"
      ]
     },
     "execution_count": 10,
     "metadata": {},
     "output_type": "execute_result"
    }
   ],
   "source": [
    "column_names = vehicles.columns.values\n",
    "\n",
    "column_names[[22, 23, 70, 71, 72, 73]]"
   ]
  },
  {
   "cell_type": "markdown",
   "metadata": {},
   "source": [
    "## Exploring and Describing the Fuel Efficiency Data"
   ]
  },
  {
   "cell_type": "code",
   "execution_count": 11,
   "metadata": {
    "collapsed": false
   },
   "outputs": [
    {
     "data": {
      "text/plain": [
       "34287"
      ]
     },
     "execution_count": 11,
     "metadata": {},
     "output_type": "execute_result"
    }
   ],
   "source": [
    "len(vehicles)"
   ]
  },
  {
   "cell_type": "code",
   "execution_count": 12,
   "metadata": {
    "collapsed": false
   },
   "outputs": [
    {
     "name": "stdout",
     "output_type": "stream",
     "text": [
      "74\n",
      "Index([u'barrels08', u'barrelsA08', u'charge120', u'charge240', u'city08',\n",
      "       u'city08U', u'cityA08', u'cityA08U', u'cityCD', u'cityE', u'cityUF',\n",
      "       u'co2', u'co2A', u'co2TailpipeAGpm', u'co2TailpipeGpm', u'comb08',\n",
      "       u'comb08U', u'combA08', u'combA08U', u'combE', u'combinedCD',\n",
      "       u'combinedUF', u'cylinders', u'displ', u'drive', u'engId', u'eng_dscr',\n",
      "       u'feScore', u'fuelCost08', u'fuelCostA08', u'fuelType', u'fuelType1',\n",
      "       u'ghgScore', u'ghgScoreA', u'highway08', u'highway08U', u'highwayA08',\n",
      "       u'highwayA08U', u'highwayCD', u'highwayE', u'highwayUF', u'hlv', u'hpv',\n",
      "       u'id', u'lv2', u'lv4', u'make', u'model', u'mpgData', u'phevBlended',\n",
      "       u'pv2', u'pv4', u'range', u'rangeCity', u'rangeCityA', u'rangeHwy',\n",
      "       u'rangeHwyA', u'trany', u'UCity', u'UCityA', u'UHighway', u'UHighwayA',\n",
      "       u'VClass', u'year', u'youSaveSpend', u'guzzler', u'trans_dscr',\n",
      "       u'tCharger', u'sCharger', u'atvType', u'fuelType2', u'rangeA',\n",
      "       u'evMotor', u'mfrCode'],\n",
      "      dtype='object')\n"
     ]
    }
   ],
   "source": [
    "print len(vehicles.columns)\n",
    "print(vehicles.columns)"
   ]
  },
  {
   "cell_type": "code",
   "execution_count": 13,
   "metadata": {
    "collapsed": false
   },
   "outputs": [
    {
     "data": {
      "text/plain": [
       "31"
      ]
     },
     "execution_count": 13,
     "metadata": {},
     "output_type": "execute_result"
    }
   ],
   "source": [
    "len(pd.unique(vehicles.year))"
   ]
  },
  {
   "cell_type": "code",
   "execution_count": 14,
   "metadata": {
    "collapsed": false
   },
   "outputs": [
    {
     "data": {
      "text/plain": [
       "1984"
      ]
     },
     "execution_count": 14,
     "metadata": {},
     "output_type": "execute_result"
    }
   ],
   "source": [
    "min(vehicles.year)"
   ]
  },
  {
   "cell_type": "code",
   "execution_count": 15,
   "metadata": {
    "collapsed": false
   },
   "outputs": [
    {
     "data": {
      "text/plain": [
       "2014"
      ]
     },
     "execution_count": 15,
     "metadata": {},
     "output_type": "execute_result"
    }
   ],
   "source": [
    "max(vehicles['year'])"
   ]
  },
  {
   "cell_type": "code",
   "execution_count": 16,
   "metadata": {
    "collapsed": false
   },
   "outputs": [
    {
     "data": {
      "text/plain": [
       "Regular Gasoline     24587\n",
       "Premium Gasoline      8521\n",
       "Diesel                1025\n",
       "Natural Gas             57\n",
       "Electricity             56\n",
       "Midgrade Gasoline       41\n",
       "Name: fuelType1, dtype: int64"
      ]
     },
     "execution_count": 16,
     "metadata": {},
     "output_type": "execute_result"
    }
   ],
   "source": [
    "pd.value_counts(vehicles.fuelType1)"
   ]
  },
  {
   "cell_type": "code",
   "execution_count": 17,
   "metadata": {
    "collapsed": false
   },
   "outputs": [
    {
     "data": {
      "text/plain": [
       "Automatic 4-spd                     11029\n",
       "Manual 5-spd                         8213\n",
       "Automatic 3-spd                      3151\n",
       "Automatic 5-spd                      2149\n",
       "Manual 6-spd                         2009\n",
       "Automatic (S6)                       1877\n",
       "Manual 4-spd                         1483\n",
       "Automatic 6-spd                      1093\n",
       "Automatic (S5)                        813\n",
       "Automatic (variable gear ratios)      534\n",
       "Automatic 7-spd                       493\n",
       "Automatic (S8)                        366\n",
       "Automatic (S4)                        231\n",
       "Automatic (S7)                        182\n",
       "Auto(AM-S7)                            84\n",
       "Auto(AV-S6)                            80\n",
       "Automatic 8-spd                        78\n",
       "Manual 3-spd                           77\n",
       "Auto(AM6)                              68\n",
       "Auto(AM7)                              58\n",
       "Automatic (A1)                         41\n",
       "Auto(AM-S6)                            38\n",
       "Manual 7-spd                           24\n",
       "Auto(AV-S7)                            19\n",
       "Manual 4-spd Doubled                   17\n",
       "Auto(AV-S8)                            11\n",
       "Auto(AM5)                              10\n",
       "Automatic (AV-S6)                       9\n",
       "Automatic 9-spd                         8\n",
       "Automatic (AV)                          4\n",
       "Automatic (A6)                          4\n",
       "Automatic 8spd                          4\n",
       "Automatic (AM5)                         2\n",
       "Auto (AV)                               2\n",
       "Automatic (AM-S7)                       2\n",
       "Auto(L3)                                2\n",
       "Auto(L4)                                2\n",
       "Automatic (AM6)                         1\n",
       "Auto(A1)                                1\n",
       "Manual(M7)                              1\n",
       "Auto (AV-S6)                            1\n",
       "Automatic 6spd                          1\n",
       "Manual 5 spd                            1\n",
       "Auto (AV-S8)                            1\n",
       "Automatic (AM-S6)                       1\n",
       "Auto(A8)                                1\n",
       "Name: trany, dtype: int64"
      ]
     },
     "execution_count": 17,
     "metadata": {},
     "output_type": "execute_result"
    }
   ],
   "source": [
    "pd.value_counts(vehicles.trany)"
   ]
  },
  {
   "cell_type": "code",
   "execution_count": 18,
   "metadata": {
    "collapsed": false
   },
   "outputs": [
    {
     "data": {
      "text/plain": [
       "A    22451\n",
       "M    11825\n",
       "Name: trany2, dtype: int64"
      ]
     },
     "execution_count": 18,
     "metadata": {},
     "output_type": "execute_result"
    }
   ],
   "source": [
    "vehicles[\"trany2\"] = vehicles.trany.str[0]\n",
    "pd.value_counts(vehicles.trany2)"
   ]
  },
  {
   "cell_type": "markdown",
   "metadata": {},
   "source": [
    "## Analyzing Automobile Fuel Efficiency Over Time"
   ]
  },
  {
   "cell_type": "code",
   "execution_count": 19,
   "metadata": {
    "collapsed": false
   },
   "outputs": [
    {
     "name": "stdout",
     "output_type": "stream",
     "text": [
      "         comb08  highway08     city08  year\n",
      "           mean       mean       mean      \n",
      "year                                       \n",
      "1984  19.881874  23.075356  17.982688  1984\n",
      "1985  19.808348  23.042328  17.878307  1985\n",
      "1986  19.550413  22.699174  17.665289  1986\n",
      "1987  19.228549  22.445068  17.310345  1987\n",
      "1988  19.328319  22.702655  17.333628  1988\n",
      "1989  19.125759  22.465742  17.143972  1989\n",
      "1990  19.000928  22.337662  17.033395  1990\n",
      "1991  18.825972  22.253534  16.848940  1991\n",
      "1992  18.862623  22.439786  16.805531  1992\n",
      "1993  19.104300  22.780421  16.998170  1993\n",
      "1994  19.012220  22.725051  16.918534  1994\n",
      "1995  18.797311  22.671148  16.569804  1995\n",
      "1996  19.584735  23.569211  17.289780  1996\n",
      "1997  19.429134  23.451444  17.135171  1997\n",
      "1998  19.518473  23.546798  17.113300  1998\n",
      "1999  19.611502  23.552817  17.272300  1999\n",
      "2000  19.526190  23.414286  17.221429  2000\n",
      "2001  19.479693  23.328211  17.275521  2001\n",
      "2002  19.168205  23.030769  16.893333  2002\n",
      "2003  19.000958  22.836207  16.780651  2003\n",
      "2004  19.067736  23.064171  16.740642  2004\n",
      "2005  19.193825  23.297599  16.851630  2005\n",
      "2006  18.959239  23.048913  16.626812  2006\n",
      "2007  18.978686  23.083481  16.605684  2007\n",
      "2008  19.276327  23.455771  16.900590  2008\n",
      "2009  19.742616  24.032068  17.336709  2009\n",
      "2010  20.601443  24.972949  18.111812  2010\n",
      "2011  21.156791  25.498633  18.726527  2011\n",
      "2012  21.937554  26.418907  19.405898  2012\n",
      "2013  23.245139  27.841927  20.692308  2013\n",
      "2014  23.010830  27.787004  20.341155  2014\n"
     ]
    }
   ],
   "source": [
    "grouped = vehicles.groupby(\"year\")\n",
    "averaged = grouped['comb08','highway08','city08'].agg([np.mean])\n",
    "averaged['year'] = averaged.index\n",
    "print(averaged)"
   ]
  },
  {
   "cell_type": "code",
   "execution_count": 20,
   "metadata": {
    "collapsed": false
   },
   "outputs": [
    {
     "name": "stdout",
     "output_type": "stream",
     "text": [
      "Index([u'comb08_mean', u'highway08_mean', u'city08_mean', u'year'], dtype='object')\n"
     ]
    }
   ],
   "source": [
    "averaged.columns = ['comb08_mean','highway08_mean', 'city08_mean','year']\n",
    "print(averaged.columns)"
   ]
  },
  {
   "cell_type": "code",
   "execution_count": 21,
   "metadata": {
    "collapsed": false
   },
   "outputs": [
    {
     "name": "stderr",
     "output_type": "stream",
     "text": [
      "/Users/nathankiner/anaconda/lib/python2.7/site-packages/matplotlib/collections.py:590: FutureWarning: elementwise comparison failed; returning scalar instead, but in the future will perform elementwise comparison\n",
      "  if self._edgecolors == str('face'):\n"
     ]
    },
    {
     "data": {
      "image/png": "[encoded data removed]",
      "text/plain": [
       "<matplotlib.figure.Figure at 0x10c113190>"
      ]
     },
     "metadata": {},
     "output_type": "display_data"
    },
    {
     "name": "stdout",
     "output_type": "stream",
     "text": [
      "<ggplot: (281088833)>\n"
     ]
    }
   ],
   "source": [
    "print ggplot(averaged, aes('year', 'comb08_mean')) + geom_point(colour='steelblue') + xlab(\"Year\") + ylab(\"Average MPG\") + ggtitle(\"All cars\")\n"
   ]
  },
  {
   "cell_type": "code",
   "execution_count": 22,
   "metadata": {
    "collapsed": false
   },
   "outputs": [
    {
     "data": {
      "text/plain": [
       "array([nan, 'Diesel', 'Hybrid', 'Bifuel (CNG)', 'CNG', 'FFV', 'EV',\n",
       "       'Bifuel (LPG)', 'Plug-in Hybrid'], dtype=object)"
      ]
     },
     "execution_count": 22,
     "metadata": {},
     "output_type": "execute_result"
    }
   ],
   "source": [
    "pd.unique(vehicles.atvType)"
   ]
  },
  {
   "cell_type": "code",
   "execution_count": 23,
   "metadata": {
    "collapsed": false
   },
   "outputs": [
    {
     "data": {
      "text/plain": [
       "31661"
      ]
     },
     "execution_count": 23,
     "metadata": {},
     "output_type": "execute_result"
    }
   ],
   "source": [
    "criteria1 = vehicles.fuelType1.isin([\"Regular Gasoline\", \"Premium Gasoline\", \"Midgrade Gasoline\"])\n",
    "criteria2 = vehicles.fuelType2.isnull()\n",
    "criteria3 = vehicles.atvType != \"Hybrid\"\n",
    "vehicles_non_hybrid = vehicles[criteria1 & criteria2 & criteria3]\n",
    "len(vehicles_non_hybrid)"
   ]
  },
  {
   "cell_type": "code",
   "execution_count": 24,
   "metadata": {
    "collapsed": false
   },
   "outputs": [
    {
     "name": "stdout",
     "output_type": "stream",
     "text": [
      "           mean  year\n",
      "year                 \n",
      "1984  19.121622  1984\n",
      "1985  19.394686  1985\n",
      "1986  19.320457  1986\n",
      "1987  19.164568  1987\n",
      "1988  19.367607  1988\n",
      "1989  19.141964  1989\n",
      "1990  19.031459  1990\n",
      "1991  18.838060  1991\n",
      "1992  18.861566  1992\n",
      "1993  19.137383  1993\n",
      "1994  19.092632  1994\n",
      "1995  18.872591  1995\n",
      "1996  19.530962  1996\n",
      "1997  19.368000  1997\n",
      "1998  19.329545  1998\n",
      "1999  19.239759  1999\n",
      "2000  19.169345  2000\n",
      "2001  19.075058  2001\n",
      "2002  18.950270  2002\n",
      "2003  18.761711  2003\n",
      "2004  18.967339  2004\n",
      "2005  19.005510  2005\n",
      "2006  18.786398  2006\n",
      "2007  18.987512  2007\n",
      "2008  19.191781  2008\n",
      "2009  19.738095  2009\n",
      "2010  20.466736  2010\n",
      "2011  20.961755  2011\n",
      "2012  21.496767  2012\n",
      "2013  22.335118  2013\n",
      "2014  22.248027  2014\n"
     ]
    }
   ],
   "source": [
    "grouped = vehicles_non_hybrid.groupby(['year'])\n",
    "averaged = grouped['comb08'].agg([np.mean])\n",
    "averaged['year']  = averaged.index\n",
    "print(averaged)"
   ]
  },
  {
   "cell_type": "code",
   "execution_count": 25,
   "metadata": {
    "collapsed": false
   },
   "outputs": [
    {
     "data": {
      "image/png": "[encoded data removed]",
      "text/plain": [
       "<matplotlib.figure.Figure at 0x10d872d50>"
      ]
     },
     "metadata": {},
     "output_type": "display_data"
    },
    {
     "name": "stdout",
     "output_type": "stream",
     "text": [
      "<ggplot: (282620517)>\n"
     ]
    }
   ],
   "source": [
    "print ggplot(averaged, aes('year', 'mean')) + geom_point(colour='steelblue') + xlab(\"Year\") + ylab(\"Average MPG\") + ggtitle(\"Gasoline cars\")\n"
   ]
  },
  {
   "cell_type": "code",
   "execution_count": 26,
   "metadata": {
    "collapsed": true
   },
   "outputs": [
    {
     "data": {
      "text/plain": [
       "array([2.0, 4.9, 2.2, 5.2, 1.8, 1.6, 2.3, 2.8, 4.0, 5.0, 3.3, 3.1, 3.8,\n",
       "       4.6, 3.4, 3.0, 5.9, 2.5, 4.5, 6.8, 2.4, 2.9, 5.7, 4.3, 3.5, 5.8,\n",
       "       3.2, 4.2, 1.9, 2.6, 7.4, 3.9, 1.5, 1.3, 4.1, 8.0, 6.0, 3.6, 5.4,\n",
       "       5.6, 1.0, 2.1, 1.2, 6.5, 2.7, 4.7, 5.5, 1.1, 5.3, 4.4, 3.7, 6.7,\n",
       "       4.8, 1.7, 6.2, 8.3, 1.4, 6.1, 7.0, 8.4, '3.3', '3.8', '3.5', '4.5',\n",
       "       '5.0', '4.6', '4.2', '5.5', '6.0', '3.0', '1.5', '2.0', '2.8',\n",
       "       '2.4', '2.7', '2.3', '3.2', '2.5', '4.0', '4.7', '5.4', '5.7',\n",
       "       '4.3', '3.7', '4.8', '2.2', '1.8', '6.5', '3.6', '6.1', '6.2',\n",
       "       '1.6', '1.0', '4.4', '5.9', '1.3', '6.7', '5.6', '3.4', '7.0',\n",
       "       '5.2', '3.9', '5.3', '4.9', '2.9', '5.8', '3.1', '8.4', '1.1',\n",
       "       '2.1', '2.6', '1.4', '6.8', '1.7', '4.1', '1.9', '8.0', '6.3', nan,\n",
       "       '6.6', '6.4', '1.2', '7.4'], dtype=object)"
      ]
     },
     "execution_count": 26,
     "metadata": {},
     "output_type": "execute_result"
    }
   ],
   "source": [
    "pd.unique(vehicles_non_hybrid.displ)"
   ]
  },
  {
   "cell_type": "code",
   "execution_count": 27,
   "metadata": {
    "collapsed": false
   },
   "outputs": [],
   "source": [
    "criteria = vehicles_non_hybrid.displ.notnull()\n"
   ]
  },
  {
   "cell_type": "code",
   "execution_count": 28,
   "metadata": {
    "collapsed": false
   },
   "outputs": [],
   "source": [
    "vehicles_non_hybrid = vehicles_non_hybrid[criteria]\n"
   ]
  },
  {
   "cell_type": "code",
   "execution_count": 29,
   "metadata": {
    "collapsed": false
   },
   "outputs": [
    {
     "name": "stderr",
     "output_type": "stream",
     "text": [
      "/Users/nathankiner/anaconda/lib/python2.7/site-packages/pandas/core/indexing.py:420: SettingWithCopyWarning: \n",
      "A value is trying to be set on a copy of a slice from a DataFrame.\n",
      "Try using .loc[row_indexer,col_indexer] = value instead\n",
      "\n",
      "See the caveats in the documentation: http://pandas.pydata.org/pandas-docs/stable/indexing.html#indexing-view-versus-copy\n",
      "  self.obj[item] = s\n"
     ]
    }
   ],
   "source": [
    "vehicles_non_hybrid.loc[:,'displ'] = vehicles_non_hybrid.displ.astype('float')"
   ]
  },
  {
   "cell_type": "code",
   "execution_count": 30,
   "metadata": {
    "collapsed": false
   },
   "outputs": [],
   "source": [
    "criteria = vehicles_non_hybrid.comb08.notnull()\n"
   ]
  },
  {
   "cell_type": "code",
   "execution_count": 31,
   "metadata": {
    "collapsed": false
   },
   "outputs": [
    {
     "data": {
      "text/plain": [
       "(31659, 31659, 31659)"
      ]
     },
     "execution_count": 31,
     "metadata": {},
     "output_type": "execute_result"
    }
   ],
   "source": [
    "len(criteria), len(vehicles_non_hybrid), sum(criteria)"
   ]
  },
  {
   "cell_type": "code",
   "execution_count": 32,
   "metadata": {
    "collapsed": false
   },
   "outputs": [
    {
     "name": "stdout",
     "output_type": "stream",
     "text": [
      "31659\n"
     ]
    }
   ],
   "source": [
    "vehicles_non_hybrid = vehicles_non_hybrid[criteria]\n",
    "print len(vehicles_non_hybrid)\n",
    "vehicles_non_hybrid.comb08 = vehicles_non_hybrid.comb08.astype('float')\n"
   ]
  },
  {
   "cell_type": "code",
   "execution_count": 42,
   "metadata": {
    "collapsed": false
   },
   "outputs": [
    {
     "data": {
      "image/png": "[encoded data removed]",
      "text/plain": [
       "<matplotlib.figure.Figure at 0x108dcc310>"
      ]
     },
     "metadata": {},
     "output_type": "display_data"
    },
    {
     "data": {
      "text/plain": [
       "<ggplot: (280405929)>"
      ]
     },
     "execution_count": 42,
     "metadata": {},
     "output_type": "execute_result"
    }
   ],
   "source": [
    "#plt.scatter(vehicles_non_hybrid.displ.astype('float'), vehicles_non_hybrid.comb08.astype('float'), alpha=0.5)\n",
    "#plt.show()\n",
    "\n",
    "ggplot(aes(x = 'displ', y = 'comb08'), data = vehicles_non_hybrid,) + geom_point() + stat_smooth(colour=\"red\", se=True) + xlab(\"Engine Displacement\") + ylab(\"Average MPG\") + ggtitle(\"Gasoline cars\")\n"
   ]
  },
  {
   "cell_type": "code",
   "execution_count": 34,
   "metadata": {
    "collapsed": false
   },
   "outputs": [],
   "source": [
    "grouped_by_year = vehicles_non_hybrid.groupby(['year'])\n",
    "avg_grouped_by_year = grouped_by_year['displ', 'comb08'].agg([np.mean])"
   ]
  },
  {
   "cell_type": "code",
   "execution_count": 35,
   "metadata": {
    "collapsed": false
   },
   "outputs": [
    {
     "name": "stdout",
     "output_type": "stream",
     "text": [
      "         displ     comb08\n",
      "          mean       mean\n",
      "year                     \n",
      "1984  3.068449  19.121622\n",
      "1985  3.075990  19.389358\n",
      "1986  3.126514  19.320457\n",
      "1987  3.096474  19.164568\n",
      "1988  3.113558  19.367607\n",
      "1989  3.133393  19.141964\n",
      "1990  3.145472  19.031459\n",
      "1991  3.178957  18.838060\n",
      "1992  3.224954  18.861566\n",
      "1993  3.193832  19.137383\n",
      "1994  3.233053  19.092632\n",
      "1995  3.375161  18.872591\n",
      "1996  3.205929  19.530962\n",
      "1997  3.206267  19.368000\n",
      "1998  3.197348  19.329545\n",
      "1999  3.214819  19.239759\n",
      "2000  3.227070  19.169345\n",
      "2001  3.216051  19.075058\n",
      "2002  3.263568  18.950270\n",
      "2003  3.340428  18.761711\n",
      "2004  3.349568  18.967339\n",
      "2005  3.384022  19.005510\n",
      "2006  3.534387  18.786398\n",
      "2007  3.569452  18.987512\n",
      "2008  3.587032  19.191781\n",
      "2009  3.522095  19.738095\n",
      "2010  3.413306  20.466736\n",
      "2011  3.376828  20.961755\n",
      "2012  3.350862  21.496767\n",
      "2013  3.219807  22.335118\n",
      "2014  3.312176  22.248027\n"
     ]
    }
   ],
   "source": [
    "print avg_grouped_by_year"
   ]
  },
  {
   "cell_type": "code",
   "execution_count": 41,
   "metadata": {
    "collapsed": false
   },
   "outputs": [
    {
     "name": "stdout",
     "output_type": "stream",
     "text": [
      "    year variable_0 variable_1      value\n",
      "0   1984      displ       mean   3.068449\n",
      "1   1985      displ       mean   3.075990\n",
      "2   1986      displ       mean   3.126514\n",
      "3   1987      displ       mean   3.096474\n",
      "4   1988      displ       mean   3.113558\n",
      "5   1989      displ       mean   3.133393\n",
      "6   1990      displ       mean   3.145472\n",
      "7   1991      displ       mean   3.178957\n",
      "8   1992      displ       mean   3.224954\n",
      "9   1993      displ       mean   3.193832\n",
      "10  1994      displ       mean   3.233053\n",
      "11  1995      displ       mean   3.375161\n",
      "12  1996      displ       mean   3.205929\n",
      "13  1997      displ       mean   3.206267\n",
      "14  1998      displ       mean   3.197348\n",
      "15  1999      displ       mean   3.214819\n",
      "16  2000      displ       mean   3.227070\n",
      "17  2001      displ       mean   3.216051\n",
      "18  2002      displ       mean   3.263568\n",
      "19  2003      displ       mean   3.340428\n",
      "20  2004      displ       mean   3.349568\n",
      "21  2005      displ       mean   3.384022\n",
      "22  2006      displ       mean   3.534387\n",
      "23  2007      displ       mean   3.569452\n",
      "24  2008      displ       mean   3.587032\n",
      "25  2009      displ       mean   3.522095\n",
      "26  2010      displ       mean   3.413306\n",
      "27  2011      displ       mean   3.376828\n",
      "28  2012      displ       mean   3.350862\n",
      "29  2013      displ       mean   3.219807\n",
      "..   ...        ...        ...        ...\n",
      "32  1985     comb08       mean  19.389358\n",
      "33  1986     comb08       mean  19.320457\n",
      "34  1987     comb08       mean  19.164568\n",
      "35  1988     comb08       mean  19.367607\n",
      "36  1989     comb08       mean  19.141964\n",
      "37  1990     comb08       mean  19.031459\n",
      "38  1991     comb08       mean  18.838060\n",
      "39  1992     comb08       mean  18.861566\n",
      "40  1993     comb08       mean  19.137383\n",
      "41  1994     comb08       mean  19.092632\n",
      "42  1995     comb08       mean  18.872591\n",
      "43  1996     comb08       mean  19.530962\n",
      "44  1997     comb08       mean  19.368000\n",
      "45  1998     comb08       mean  19.329545\n",
      "46  1999     comb08       mean  19.239759\n",
      "47  2000     comb08       mean  19.169345\n",
      "48  2001     comb08       mean  19.075058\n",
      "49  2002     comb08       mean  18.950270\n",
      "50  2003     comb08       mean  18.761711\n",
      "51  2004     comb08       mean  18.967339\n",
      "52  2005     comb08       mean  19.005510\n",
      "53  2006     comb08       mean  18.786398\n",
      "54  2007     comb08       mean  18.987512\n",
      "55  2008     comb08       mean  19.191781\n",
      "56  2009     comb08       mean  19.738095\n",
      "57  2010     comb08       mean  20.466736\n",
      "58  2011     comb08       mean  20.961755\n",
      "59  2012     comb08       mean  21.496767\n",
      "60  2013     comb08       mean  22.335118\n",
      "61  2014     comb08       mean  22.248027\n",
      "\n",
      "[62 rows x 4 columns]\n"
     ]
    },
    {
     "data": {
      "image/png": "[encoded data removed]",
      "text/plain": [
       "<matplotlib.figure.Figure at 0x10bade4d0>"
      ]
     },
     "metadata": {},
     "output_type": "display_data"
    },
    {
     "data": {
      "text/plain": [
       "<ggplot: (280681989)>"
      ]
     },
     "execution_count": 41,
     "metadata": {},
     "output_type": "execute_result"
    }
   ],
   "source": [
    "avg_grouped_by_year['year'] = avg_grouped_by_year.index\n",
    "melted_avg_grouped_by_year = pd.melt(avg_grouped_by_year, id_vars='year')\n",
    "print melted_avg_grouped_by_year\n",
    "\n",
    "p = ggplot(aes(x='year', y='value', color = 'variable_0'), data=melted_avg_grouped_by_year)\n",
    "p + geom_point() + facet_wrap(\"variable_0\")\n",
    "    #stat_smooth(colour=\"red\", se=True, method='lm') + \\"
   ]
  },
  {
   "cell_type": "markdown",
   "metadata": {},
   "source": [
    "## Investigating the Makes and Models of Automobiles"
   ]
  },
  {
   "cell_type": "code",
   "execution_count": 37,
   "metadata": {
    "collapsed": false
   },
   "outputs": [
    {
     "data": {
      "text/plain": [
       "array([4.0, 12.0, 8.0, 6.0, 5.0, 10.0, 2.0, 3.0, 16.0, '6', '8', '12', '4',\n",
       "       '3', '5', '2', '10', '16', nan], dtype=object)"
      ]
     },
     "execution_count": 37,
     "metadata": {},
     "output_type": "execute_result"
    }
   ],
   "source": [
    "pd.unique(vehicles_non_hybrid.cylinders)"
   ]
  },
  {
   "cell_type": "code",
   "execution_count": 38,
   "metadata": {
    "collapsed": false
   },
   "outputs": [
    {
     "data": {
      "text/plain": [
       "array([  4.,  12.,   8.,   6.,   5.,  10.,   2.,   3.,  16.,  nan])"
      ]
     },
     "execution_count": 38,
     "metadata": {},
     "output_type": "execute_result"
    }
   ],
   "source": [
    "vehicles_non_hybrid.cylinders = vehicles_non_hybrid.cylinders.astype('float')\n",
    "pd.unique(vehicles_non_hybrid.cylinders)"
   ]
  },
  {
   "cell_type": "code",
   "execution_count": 39,
   "metadata": {
    "collapsed": false
   },
   "outputs": [
    {
     "data": {
      "text/plain": [
       "0        Alfa Romeo\n",
       "2             Dodge\n",
       "4            Subaru\n",
       "5            Subaru\n",
       "6            Subaru\n",
       "7            Toyota\n",
       "8            Toyota\n",
       "9            Toyota\n",
       "10           Toyota\n",
       "11       Volkswagen\n",
       "12       Volkswagen\n",
       "13       Volkswagen\n",
       "15       Volkswagen\n",
       "16            Volvo\n",
       "17            Volvo\n",
       "23            Buick\n",
       "35        Chevrolet\n",
       "48            Dodge\n",
       "51            Dodge\n",
       "52            Dodge\n",
       "53            Dodge\n",
       "64          Hyundai\n",
       "65          Hyundai\n",
       "75            Mazda\n",
       "76            Mazda\n",
       "81       Oldsmobile\n",
       "89         Plymouth\n",
       "90         Plymouth\n",
       "92         Plymouth\n",
       "103          Toyota\n",
       "            ...    \n",
       "34249    Mitsubishi\n",
       "34250    Oldsmobile\n",
       "34251    Oldsmobile\n",
       "34252    Oldsmobile\n",
       "34253    Oldsmobile\n",
       "34256      Plymouth\n",
       "34257      Plymouth\n",
       "34258      Plymouth\n",
       "34259      Plymouth\n",
       "34262       Pontiac\n",
       "34263       Pontiac\n",
       "34264       Pontiac\n",
       "34266       Pontiac\n",
       "34268       Pontiac\n",
       "34269       Pontiac\n",
       "34270       Pontiac\n",
       "34272          Saab\n",
       "34273          Saab\n",
       "34274          Saab\n",
       "34275          Saab\n",
       "34277          Saab\n",
       "34278        Saturn\n",
       "34279        Saturn\n",
       "34280        Saturn\n",
       "34281        Saturn\n",
       "34282        Subaru\n",
       "34283        Subaru\n",
       "34284        Subaru\n",
       "34285        Subaru\n",
       "34286        Subaru\n",
       "Name: make, dtype: object"
      ]
     },
     "execution_count": 39,
     "metadata": {},
     "output_type": "execute_result"
    }
   ],
   "source": [
    "vehicles_non_hybrid_4 = vehicles_non_hybrid[(vehicles_non_hybrid.cylinders == 4.0)]\n",
    "len(vehicles_non_hybrid_4)\n",
    "vehicles_non_hybrid_4.make"
   ]
  },
  {
   "cell_type": "code",
   "execution_count": 40,
   "metadata": {
    "collapsed": false
   },
   "outputs": [
    {
     "data": {
      "text/plain": [
       "<matplotlib.text.Text at 0x10bad2390>"
      ]
     },
     "execution_count": 40,
     "metadata": {},
     "output_type": "execute_result"
    },
    {
     "data": {
      "image/png": "[encoded data removed]",
      "text/plain": [
       "<matplotlib.figure.Figure at 0x109c06550>"
      ]
     },
     "metadata": {},
     "output_type": "display_data"
    }
   ],
   "source": [
    "grouped_by_year_4_cylinder = vehicles_non_hybrid_4.groupby(['year']).make.nunique()\n",
    "fig = grouped_by_year_4_cylinder.plot()\n",
    "fig.set_xlabel('Year')\n",
    "fig.set_ylabel('Number of 4-Cylinder Makes')\n",
    "\n",
    "\n"
   ]
  },
  {
   "cell_type": "code",
   "execution_count": 35,
   "metadata": {
    "collapsed": false
   },
   "outputs": [
    {
     "name": "stdout",
     "output_type": "stream",
     "text": [
      "set(['Dodge', 'Mitsubishi', 'Jeep', 'Chevrolet', 'Nissan', 'Honda', 'Toyota', 'Volkswagen', 'Mazda', 'Subaru', 'Chrysler', 'Ford'])\n"
     ]
    }
   ],
   "source": [
    "grouped_by_year_4_cylinder = vehicles_non_hybrid_4.groupby(['year'])\n",
    "\n",
    "unique_makes = []\n",
    "for name, group in grouped_by_year_4_cylinder:\n",
    "    unique_makes.append(set(pd.unique(group['make'])))\n",
    "    \n",
    "#test = grouped_by_year_4_cylinder['make']\n",
    "#print(test.groups)\n",
    "#print pd.unique(vehicles_non_hybrid_4['make'])\n",
    "\n",
    "unique_makes = reduce(set.intersection, unique_makes)\n",
    " \n",
    "print(unique_makes)"
   ]
  },
  {
   "cell_type": "code",
   "execution_count": 36,
   "metadata": {
    "collapsed": false
   },
   "outputs": [],
   "source": [
    "boolean_mask = []\n",
    "for index, row in vehicles_non_hybrid_4.iterrows():\n",
    "    make = row['make']\n",
    "    boolean_mask.append(make in unique_makes)\n",
    "\n",
    "df_common_makes = vehicles_non_hybrid_4[boolean_mask]"
   ]
  },
  {
   "cell_type": "markdown",
   "metadata": {},
   "source": [
    "avgMPG_commonMakes <- ddply(carsCommonMakes4, ~year + make, summarise, avgMPG = mean(comb08))\n",
    "\n",
    "ggplot(avgMPG_commonMakes, aes(year, avgMPG)) + geom_line() + facet_wrap(~make,  nrow = 3)\n",
    "\n"
   ]
  },
  {
   "cell_type": "code",
   "execution_count": 37,
   "metadata": {
    "collapsed": false
   },
   "outputs": [],
   "source": [
    "df_common_makes_grouped = df_common_makes.groupby(['year','make']).agg(np.mean).reset_index()"
   ]
  },
  {
   "cell_type": "code",
   "execution_count": 38,
   "metadata": {
    "collapsed": false
   },
   "outputs": [
    {
     "data": {
      "text/plain": [
       "<ggplot: (276871097)>"
      ]
     },
     "execution_count": 38,
     "metadata": {},
     "output_type": "execute_result"
    }
   ],
   "source": [
    "ggplot(aes(x='year', y='comb08'), data = df_common_makes_grouped) + geom_line() + facet_wrap('make')\n",
    "                                    \n",
    " "
   ]
  },
  {
   "cell_type": "code",
   "execution_count": 39,
   "metadata": {
    "collapsed": false
   },
   "outputs": [
    {
     "data": {
      "text/plain": [
       "7272"
      ]
     },
     "execution_count": 39,
     "metadata": {},
     "output_type": "execute_result"
    }
   ],
   "source": [
    "test = vehicles_non_hybrid_4[vehicles_non_hybrid_4['make'].isin(unique_makes)]\n",
    "len(test)"
   ]
  },
  {
   "cell_type": "code",
   "execution_count": null,
   "metadata": {
    "collapsed": false
   },
   "outputs": [],
   "source": []
  }
 ],
 "metadata": {
  "kernelspec": {
   "display_name": "Python 2",
   "language": "python",
   "name": "python2"
  },
  "language_info": {
   "codemirror_mode": {
    "name": "ipython",
    "version": 2
   },
   "file_extension": ".py",
   "mimetype": "text/x-python",
   "name": "python",
   "nbconvert_exporter": "python",
   "pygments_lexer": "ipython2",
   "version": "2.7.10"
  }
 },
 "nbformat": 4,
 "nbformat_minor": 0
}

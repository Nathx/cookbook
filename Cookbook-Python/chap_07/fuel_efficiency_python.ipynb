{
 "cells": [
  {
   "cell_type": "code",
   "execution_count": 6,
   "metadata": {
    "collapsed": false
   },
   "outputs": [],
   "source": [
    "import pandas as pd\n",
    "import numpy as np\n",
    "from ggplot import *\n",
    "import matplotlib.pyplot as plt\n",
    "\n",
    "%matplotlib inline"
   ]
  },
  {
   "cell_type": "code",
   "execution_count": 3,
   "metadata": {
    "collapsed": true
   },
   "outputs": [
    {
     "name": "stderr",
     "output_type": "stream",
     "text": [
      "/Users/nathankiner/anaconda/lib/python2.7/site-packages/IPython/core/interactiveshell.py:2902: DtypeWarning: Columns (22,23,70,71,72,73) have mixed types. Specify dtype option on import or set low_memory=False.\n",
      "  interactivity=interactivity, compiler=compiler, result=result)\n"
     ]
    },
    {
     "data": {
      "text/plain": [
       "<bound method DataFrame.head of        barrels08  barrelsA08  charge120  charge240  city08  city08U  cityA08  \\\n",
       "0      15.689436           0          0          0      19        0        0   \n",
       "1      29.950562           0          0          0       9        0        0   \n",
       "2      12.195570           0          0          0      23        0        0   \n",
       "3      29.950562           0          0          0      10        0        0   \n",
       "4      17.337486           0          0          0      17        0        0   \n",
       "5      14.964294           0          0          0      21        0        0   \n",
       "6      13.184400           0          0          0      22        0        0   \n",
       "7      13.733750           0          0          0      23        0        0   \n",
       "8      12.657024           0          0          0      23        0        0   \n",
       "9      13.184400           0          0          0      23        0        0   \n",
       "10     12.657024           0          0          0      23        0        0   \n",
       "11     15.689436           0          0          0      18        0        0   \n",
       "12     13.733750           0          0          0      21        0        0   \n",
       "13     15.689436           0          0          0      18        0        0   \n",
       "14     25.336022           0          0          0      12        0        0   \n",
       "15     14.327048           0          0          0      20        0        0   \n",
       "16     16.480500           0          0          0      18        0        0   \n",
       "17     15.689436           0          0          0      19        0        0   \n",
       "18     17.337486           0          0          0      17        0        0   \n",
       "19     17.337486           0          0          0      17        0        0   \n",
       "20     20.589638           0          0          0      14        0        0   \n",
       "21     20.589638           0          0          0      14        0        0   \n",
       "22     25.336022           0          0          0      11        0        0   \n",
       "23     14.327048           0          0          0      21        0        0   \n",
       "24     17.337486           0          0          0      17        0        0   \n",
       "25     25.336022           0          0          0      11        0        0   \n",
       "26     15.689436           0          0          0      18        0        0   \n",
       "27     16.480500           0          0          0      17        0        0   \n",
       "28     16.480500           0          0          0      17        0        0   \n",
       "29     16.480500           0          0          0      17        0        0   \n",
       "...          ...         ...        ...        ...     ...      ...      ...   \n",
       "34257  12.657024           0          0          0      23        0        0   \n",
       "34258  14.327048           0          0          0      21        0        0   \n",
       "34259  13.184400           0          0          0      22        0        0   \n",
       "34260  15.689436           0          0          0      18        0        0   \n",
       "34261  16.480500           0          0          0      17        0        0   \n",
       "34262  14.964294           0          0          0      19        0        0   \n",
       "34263  14.327048           0          0          0      19        0        0   \n",
       "34264  13.733750           0          0          0      21        0        0   \n",
       "34265  21.974000           0          0          0      14        0        0   \n",
       "34266  15.689436           0          0          0      18        0        0   \n",
       "34267  15.689436           0          0          0      18        0        0   \n",
       "34268  13.184400           0          0          0      23        0        0   \n",
       "34269  11.756090           0          0          0      24        0        0   \n",
       "34270  10.987000           0          0          0      26        0        0   \n",
       "34271  29.950562           0          0          0      10        0        0   \n",
       "34272  18.304342           0          0          0      17        0        0   \n",
       "34273  15.689436           0          0          0      18        0        0   \n",
       "34274  15.689436           0          0          0      18        0        0   \n",
       "34275  18.304342           0          0          0      16        0        0   \n",
       "34276  27.467500           0          0          0      11        0        0   \n",
       "34277  16.480500           0          0          0      18        0        0   \n",
       "34278  12.657024           0          0          0      23        0        0   \n",
       "34279  13.733750           0          0          0      21        0        0   \n",
       "34280  11.756090           0          0          0      24        0        0   \n",
       "34281  13.184400           0          0          0      21        0        0   \n",
       "34282  14.964294           0          0          0      19        0        0   \n",
       "34283  14.327048           0          0          0      20        0        0   \n",
       "34284  15.689436           0          0          0      18        0        0   \n",
       "34285  15.689436           0          0          0      18        0        0   \n",
       "34286  18.304342           0          0          0      16        0        0   \n",
       "\n",
       "       cityA08U  cityCD  cityE   ...     youSaveSpend  guzzler   trans_dscr  \\\n",
       "0             0       0      0   ...            -1000      NaN          NaN   \n",
       "1             0       0      0   ...           -11500        T          NaN   \n",
       "2             0       0      0   ...             1750      NaN          SIL   \n",
       "3             0       0      0   ...           -11500      NaN          NaN   \n",
       "4             0       0      0   ...            -3500      NaN          NaN   \n",
       "5             0       0      0   ...             -500      NaN          NaN   \n",
       "6             0       0      0   ...             1000      NaN          NaN   \n",
       "7             0       0      0   ...              500      NaN          NaN   \n",
       "8             0       0      0   ...             1250      NaN          NaN   \n",
       "9             0       0      0   ...             1000      NaN          NaN   \n",
       "10            0       0      0   ...             1250      NaN          NaN   \n",
       "11            0       0      0   ...            -1000      NaN  2MODE CLKUP   \n",
       "12            0       0      0   ...              500      NaN          NaN   \n",
       "13            0       0      0   ...            -1000      NaN  2MODE CLKUP   \n",
       "14            0       0      0   ...            -8000      NaN          NaN   \n",
       "15            0       0      0   ...                0      NaN          NaN   \n",
       "16            0       0      0   ...            -1500      NaN          NaN   \n",
       "17            0       0      0   ...            -1000      NaN          SIL   \n",
       "18            0       0      0   ...            -3500      NaN        CLKUP   \n",
       "19            0       0      0   ...            -3500      NaN          NaN   \n",
       "20            0       0      0   ...            -6250        T          NaN   \n",
       "21            0       0      0   ...            -6250        T          NaN   \n",
       "22            0       0      0   ...            -8000        T        2MODE   \n",
       "23            0       0      0   ...                0      NaN        CLKUP   \n",
       "24            0       0      0   ...            -2250      NaN        CLKUP   \n",
       "25            0       0      0   ...            -8000      NaN          NaN   \n",
       "26            0       0      0   ...            -1000      NaN        CLKUP   \n",
       "27            0       0      0   ...            -1500      NaN        CLKUP   \n",
       "28            0       0      0   ...            -1500      NaN        CLKUP   \n",
       "29            0       0      0   ...            -1500      NaN        CLKUP   \n",
       "...         ...     ...    ...   ...              ...      ...          ...   \n",
       "34257         0       0      0   ...             1250      NaN          NaN   \n",
       "34258         0       0      0   ...                0      NaN        CLKUP   \n",
       "34259         0       0      0   ...             1000      NaN          NaN   \n",
       "34260         0       0      0   ...            -1000      NaN        CLKUP   \n",
       "34261         0       0      0   ...            -1500      NaN          NaN   \n",
       "34262         0       0      0   ...             -500      NaN        CLKUP   \n",
       "34263         0       0      0   ...                0      NaN        CLKUP   \n",
       "34264         0       0      0   ...              500      NaN          SIL   \n",
       "34265         0       0      0   ...            -5500      NaN          SIL   \n",
       "34266         0       0      0   ...            -2250      NaN          SIL   \n",
       "34267         0       0      0   ...            -1000      NaN        CLKUP   \n",
       "34268         0       0      0   ...             1000      NaN        CLKUP   \n",
       "34269         0       0      0   ...             2000      NaN          NaN   \n",
       "34270         0       0      0   ...             2500      NaN          SIL   \n",
       "34271         0       0      0   ...           -14000        T        4MODE   \n",
       "34272         0       0      0   ...            -3000      NaN          NaN   \n",
       "34273         0       0      0   ...            -1000      NaN          SIL   \n",
       "34274         0       0      0   ...            -2250      NaN          SIL   \n",
       "34275         0       0      0   ...            -3000      NaN          NaN   \n",
       "34276         0       0      0   ...            -9750      NaN          NaN   \n",
       "34277         0       0      0   ...            -1500      NaN          SIL   \n",
       "34278         0       0      0   ...             1250      NaN  2MODE CLKUP   \n",
       "34279         0       0      0   ...              500      NaN        CLKUP   \n",
       "34280         0       0      0   ...             2000      NaN          SIL   \n",
       "34281         0       0      0   ...             1000      NaN          SIL   \n",
       "34282         0       0      0   ...             -500      NaN        CLKUP   \n",
       "34283         0       0      0   ...                0      NaN          NaN   \n",
       "34284         0       0      0   ...            -1000      NaN        CLKUP   \n",
       "34285         0       0      0   ...            -1000      NaN          NaN   \n",
       "34286         0       0      0   ...            -4500      NaN        CLKUP   \n",
       "\n",
       "       tCharger  sCharger  atvType  fuelType2  rangeA  evMotor  mfrCode  \n",
       "0           NaN       NaN      NaN        NaN     NaN      NaN      NaN  \n",
       "1           NaN       NaN      NaN        NaN     NaN      NaN      NaN  \n",
       "2           NaN       NaN      NaN        NaN     NaN      NaN      NaN  \n",
       "3           NaN       NaN      NaN        NaN     NaN      NaN      NaN  \n",
       "4             T       NaN      NaN        NaN     NaN      NaN      NaN  \n",
       "5           NaN       NaN      NaN        NaN     NaN      NaN      NaN  \n",
       "6           NaN       NaN      NaN        NaN     NaN      NaN      NaN  \n",
       "7           NaN       NaN      NaN        NaN     NaN      NaN      NaN  \n",
       "8           NaN       NaN      NaN        NaN     NaN      NaN      NaN  \n",
       "9           NaN       NaN      NaN        NaN     NaN      NaN      NaN  \n",
       "10          NaN       NaN      NaN        NaN     NaN      NaN      NaN  \n",
       "11          NaN       NaN      NaN        NaN     NaN      NaN      NaN  \n",
       "12          NaN       NaN      NaN        NaN     NaN      NaN      NaN  \n",
       "13          NaN       NaN      NaN        NaN     NaN      NaN      NaN  \n",
       "14          NaN       NaN      NaN        NaN     NaN      NaN      NaN  \n",
       "15          NaN       NaN      NaN        NaN     NaN      NaN      NaN  \n",
       "16          NaN       NaN      NaN        NaN     NaN      NaN      NaN  \n",
       "17          NaN       NaN      NaN        NaN     NaN      NaN      NaN  \n",
       "18          NaN       NaN      NaN        NaN     NaN      NaN      NaN  \n",
       "19          NaN       NaN      NaN        NaN     NaN      NaN      NaN  \n",
       "20          NaN       NaN      NaN        NaN     NaN      NaN      NaN  \n",
       "21          NaN       NaN      NaN        NaN     NaN      NaN      NaN  \n",
       "22          NaN       NaN      NaN        NaN     NaN      NaN      NaN  \n",
       "23          NaN       NaN      NaN        NaN     NaN      NaN      NaN  \n",
       "24          NaN       NaN      NaN        NaN     NaN      NaN      NaN  \n",
       "25          NaN       NaN      NaN        NaN     NaN      NaN      NaN  \n",
       "26          NaN       NaN      NaN        NaN     NaN      NaN      NaN  \n",
       "27          NaN       NaN      NaN        NaN     NaN      NaN      NaN  \n",
       "28          NaN       NaN      NaN        NaN     NaN      NaN      NaN  \n",
       "29          NaN       NaN      NaN        NaN     NaN      NaN      NaN  \n",
       "...         ...       ...      ...        ...     ...      ...      ...  \n",
       "34257       NaN       NaN      NaN        NaN     NaN      NaN      NaN  \n",
       "34258       NaN       NaN      NaN        NaN     NaN      NaN      NaN  \n",
       "34259       NaN       NaN      NaN        NaN     NaN      NaN      NaN  \n",
       "34260       NaN       NaN      NaN        NaN     NaN      NaN      NaN  \n",
       "34261       NaN       NaN      NaN        NaN     NaN      NaN      NaN  \n",
       "34262       NaN       NaN      NaN        NaN     NaN      NaN      NaN  \n",
       "34263       NaN       NaN      NaN        NaN     NaN      NaN      NaN  \n",
       "34264       NaN       NaN      NaN        NaN     NaN      NaN      NaN  \n",
       "34265       NaN       NaN      NaN        NaN     NaN      NaN      NaN  \n",
       "34266       NaN       NaN      NaN        NaN     NaN      NaN      NaN  \n",
       "34267       NaN       NaN      NaN        NaN     NaN      NaN      NaN  \n",
       "34268       NaN       NaN      NaN        NaN     NaN      NaN      NaN  \n",
       "34269       NaN       NaN      NaN        NaN     NaN      NaN      NaN  \n",
       "34270       NaN       NaN      NaN        NaN     NaN      NaN      NaN  \n",
       "34271         T       NaN      NaN        NaN     NaN      NaN      NaN  \n",
       "34272         T       NaN      NaN        NaN     NaN      NaN      NaN  \n",
       "34273         T       NaN      NaN        NaN     NaN      NaN      NaN  \n",
       "34274         T       NaN      NaN        NaN     NaN      NaN      NaN  \n",
       "34275       NaN       NaN      NaN        NaN     NaN      NaN      NaN  \n",
       "34276       NaN       NaN      NaN        NaN     NaN      NaN      NaN  \n",
       "34277       NaN       NaN      NaN        NaN     NaN      NaN      NaN  \n",
       "34278       NaN       NaN      NaN        NaN     NaN      NaN      NaN  \n",
       "34279       NaN       NaN      NaN        NaN     NaN      NaN      NaN  \n",
       "34280       NaN       NaN      NaN        NaN     NaN      NaN      NaN  \n",
       "34281       NaN       NaN      NaN        NaN     NaN      NaN      NaN  \n",
       "34282       NaN       NaN      NaN        NaN     NaN      NaN      NaN  \n",
       "34283       NaN       NaN      NaN        NaN     NaN      NaN      NaN  \n",
       "34284       NaN       NaN      NaN        NaN     NaN      NaN      NaN  \n",
       "34285       NaN       NaN      NaN        NaN     NaN      NaN      NaN  \n",
       "34286         T       NaN      NaN        NaN     NaN      NaN      NaN  \n",
       "\n",
       "[34287 rows x 74 columns]>"
      ]
     },
     "execution_count": 3,
     "metadata": {},
     "output_type": "execute_result"
    }
   ],
   "source": [
    "vehicles = pd.read_csv('data/vehicles.csv')\n",
    "vehicles.head"
   ]
  },
  {
   "cell_type": "code",
   "execution_count": 4,
   "metadata": {
    "collapsed": true
   },
   "outputs": [
    {
     "data": {
      "text/html": [
       "<div>\n",
       "<table border=\"1\" class=\"dataframe\">\n",
       "  <thead>\n",
       "    <tr style=\"text-align: right;\">\n",
       "      <th></th>\n",
       "      <th>barrels08</th>\n",
       "      <th>barrelsA08</th>\n",
       "      <th>charge120</th>\n",
       "      <th>charge240</th>\n",
       "      <th>city08</th>\n",
       "      <th>city08U</th>\n",
       "      <th>cityA08</th>\n",
       "      <th>cityA08U</th>\n",
       "      <th>cityCD</th>\n",
       "      <th>cityE</th>\n",
       "      <th>...</th>\n",
       "      <th>youSaveSpend</th>\n",
       "      <th>guzzler</th>\n",
       "      <th>trans_dscr</th>\n",
       "      <th>tCharger</th>\n",
       "      <th>sCharger</th>\n",
       "      <th>atvType</th>\n",
       "      <th>fuelType2</th>\n",
       "      <th>rangeA</th>\n",
       "      <th>evMotor</th>\n",
       "      <th>mfrCode</th>\n",
       "    </tr>\n",
       "  </thead>\n",
       "  <tbody>\n",
       "    <tr>\n",
       "      <th>0</th>\n",
       "      <td>15.689436</td>\n",
       "      <td>0</td>\n",
       "      <td>0</td>\n",
       "      <td>0</td>\n",
       "      <td>19</td>\n",
       "      <td>0</td>\n",
       "      <td>0</td>\n",
       "      <td>0</td>\n",
       "      <td>0</td>\n",
       "      <td>0</td>\n",
       "      <td>...</td>\n",
       "      <td>-1000</td>\n",
       "      <td>NaN</td>\n",
       "      <td>NaN</td>\n",
       "      <td>NaN</td>\n",
       "      <td>NaN</td>\n",
       "      <td>NaN</td>\n",
       "      <td>NaN</td>\n",
       "      <td>NaN</td>\n",
       "      <td>NaN</td>\n",
       "      <td>NaN</td>\n",
       "    </tr>\n",
       "    <tr>\n",
       "      <th>1</th>\n",
       "      <td>29.950562</td>\n",
       "      <td>0</td>\n",
       "      <td>0</td>\n",
       "      <td>0</td>\n",
       "      <td>9</td>\n",
       "      <td>0</td>\n",
       "      <td>0</td>\n",
       "      <td>0</td>\n",
       "      <td>0</td>\n",
       "      <td>0</td>\n",
       "      <td>...</td>\n",
       "      <td>-11500</td>\n",
       "      <td>T</td>\n",
       "      <td>NaN</td>\n",
       "      <td>NaN</td>\n",
       "      <td>NaN</td>\n",
       "      <td>NaN</td>\n",
       "      <td>NaN</td>\n",
       "      <td>NaN</td>\n",
       "      <td>NaN</td>\n",
       "      <td>NaN</td>\n",
       "    </tr>\n",
       "    <tr>\n",
       "      <th>2</th>\n",
       "      <td>12.195570</td>\n",
       "      <td>0</td>\n",
       "      <td>0</td>\n",
       "      <td>0</td>\n",
       "      <td>23</td>\n",
       "      <td>0</td>\n",
       "      <td>0</td>\n",
       "      <td>0</td>\n",
       "      <td>0</td>\n",
       "      <td>0</td>\n",
       "      <td>...</td>\n",
       "      <td>1750</td>\n",
       "      <td>NaN</td>\n",
       "      <td>SIL</td>\n",
       "      <td>NaN</td>\n",
       "      <td>NaN</td>\n",
       "      <td>NaN</td>\n",
       "      <td>NaN</td>\n",
       "      <td>NaN</td>\n",
       "      <td>NaN</td>\n",
       "      <td>NaN</td>\n",
       "    </tr>\n",
       "    <tr>\n",
       "      <th>3</th>\n",
       "      <td>29.950562</td>\n",
       "      <td>0</td>\n",
       "      <td>0</td>\n",
       "      <td>0</td>\n",
       "      <td>10</td>\n",
       "      <td>0</td>\n",
       "      <td>0</td>\n",
       "      <td>0</td>\n",
       "      <td>0</td>\n",
       "      <td>0</td>\n",
       "      <td>...</td>\n",
       "      <td>-11500</td>\n",
       "      <td>NaN</td>\n",
       "      <td>NaN</td>\n",
       "      <td>NaN</td>\n",
       "      <td>NaN</td>\n",
       "      <td>NaN</td>\n",
       "      <td>NaN</td>\n",
       "      <td>NaN</td>\n",
       "      <td>NaN</td>\n",
       "      <td>NaN</td>\n",
       "    </tr>\n",
       "    <tr>\n",
       "      <th>4</th>\n",
       "      <td>17.337486</td>\n",
       "      <td>0</td>\n",
       "      <td>0</td>\n",
       "      <td>0</td>\n",
       "      <td>17</td>\n",
       "      <td>0</td>\n",
       "      <td>0</td>\n",
       "      <td>0</td>\n",
       "      <td>0</td>\n",
       "      <td>0</td>\n",
       "      <td>...</td>\n",
       "      <td>-3500</td>\n",
       "      <td>NaN</td>\n",
       "      <td>NaN</td>\n",
       "      <td>T</td>\n",
       "      <td>NaN</td>\n",
       "      <td>NaN</td>\n",
       "      <td>NaN</td>\n",
       "      <td>NaN</td>\n",
       "      <td>NaN</td>\n",
       "      <td>NaN</td>\n",
       "    </tr>\n",
       "  </tbody>\n",
       "</table>\n",
       "<p>5 rows × 74 columns</p>\n",
       "</div>"
      ],
      "text/plain": [
       "   barrels08  barrelsA08  charge120  charge240  city08  city08U  cityA08  \\\n",
       "0  15.689436           0          0          0      19        0        0   \n",
       "1  29.950562           0          0          0       9        0        0   \n",
       "2  12.195570           0          0          0      23        0        0   \n",
       "3  29.950562           0          0          0      10        0        0   \n",
       "4  17.337486           0          0          0      17        0        0   \n",
       "\n",
       "   cityA08U  cityCD  cityE   ...     youSaveSpend  guzzler  trans_dscr  \\\n",
       "0         0       0      0   ...            -1000      NaN         NaN   \n",
       "1         0       0      0   ...           -11500        T         NaN   \n",
       "2         0       0      0   ...             1750      NaN         SIL   \n",
       "3         0       0      0   ...           -11500      NaN         NaN   \n",
       "4         0       0      0   ...            -3500      NaN         NaN   \n",
       "\n",
       "   tCharger  sCharger  atvType  fuelType2  rangeA  evMotor  mfrCode  \n",
       "0       NaN       NaN      NaN        NaN     NaN      NaN      NaN  \n",
       "1       NaN       NaN      NaN        NaN     NaN      NaN      NaN  \n",
       "2       NaN       NaN      NaN        NaN     NaN      NaN      NaN  \n",
       "3       NaN       NaN      NaN        NaN     NaN      NaN      NaN  \n",
       "4         T       NaN      NaN        NaN     NaN      NaN      NaN  \n",
       "\n",
       "[5 rows x 74 columns]"
      ]
     },
     "execution_count": 4,
     "metadata": {},
     "output_type": "execute_result"
    }
   ],
   "source": [
    "vehicles.head()"
   ]
  },
  {
   "cell_type": "code",
   "execution_count": 5,
   "metadata": {
    "collapsed": true
   },
   "outputs": [
    {
     "data": {
      "text/html": [
       "<div>\n",
       "<table border=\"1\" class=\"dataframe\">\n",
       "  <thead>\n",
       "    <tr style=\"text-align: right;\">\n",
       "      <th></th>\n",
       "      <th>barrels08</th>\n",
       "      <th>barrelsA08</th>\n",
       "      <th>charge120</th>\n",
       "      <th>charge240</th>\n",
       "      <th>city08</th>\n",
       "      <th>city08U</th>\n",
       "      <th>cityA08</th>\n",
       "      <th>cityA08U</th>\n",
       "      <th>cityCD</th>\n",
       "      <th>cityE</th>\n",
       "      <th>...</th>\n",
       "      <th>rangeCity</th>\n",
       "      <th>rangeCityA</th>\n",
       "      <th>rangeHwy</th>\n",
       "      <th>rangeHwyA</th>\n",
       "      <th>UCity</th>\n",
       "      <th>UCityA</th>\n",
       "      <th>UHighway</th>\n",
       "      <th>UHighwayA</th>\n",
       "      <th>year</th>\n",
       "      <th>youSaveSpend</th>\n",
       "    </tr>\n",
       "  </thead>\n",
       "  <tbody>\n",
       "    <tr>\n",
       "      <th>count</th>\n",
       "      <td>34287.000000</td>\n",
       "      <td>34287.000000</td>\n",
       "      <td>34287</td>\n",
       "      <td>34287.000000</td>\n",
       "      <td>34287.000000</td>\n",
       "      <td>34287.000000</td>\n",
       "      <td>34287.000000</td>\n",
       "      <td>34287.000000</td>\n",
       "      <td>34287.000000</td>\n",
       "      <td>34287.000000</td>\n",
       "      <td>...</td>\n",
       "      <td>34287.000000</td>\n",
       "      <td>34287.000000</td>\n",
       "      <td>34287.000000</td>\n",
       "      <td>34287.000000</td>\n",
       "      <td>34287.000000</td>\n",
       "      <td>34287.000000</td>\n",
       "      <td>34287.000000</td>\n",
       "      <td>34287.000000</td>\n",
       "      <td>34287.000000</td>\n",
       "      <td>34287.000000</td>\n",
       "    </tr>\n",
       "    <tr>\n",
       "      <th>mean</th>\n",
       "      <td>17.812380</td>\n",
       "      <td>0.200444</td>\n",
       "      <td>0</td>\n",
       "      <td>0.006986</td>\n",
       "      <td>17.524834</td>\n",
       "      <td>2.128269</td>\n",
       "      <td>0.400968</td>\n",
       "      <td>0.185282</td>\n",
       "      <td>0.000031</td>\n",
       "      <td>0.085709</td>\n",
       "      <td>...</td>\n",
       "      <td>0.085864</td>\n",
       "      <td>0.008904</td>\n",
       "      <td>0.078820</td>\n",
       "      <td>0.007980</td>\n",
       "      <td>22.004447</td>\n",
       "      <td>0.485748</td>\n",
       "      <td>32.836272</td>\n",
       "      <td>0.737956</td>\n",
       "      <td>1998.435588</td>\n",
       "      <td>-2943.316709</td>\n",
       "    </tr>\n",
       "    <tr>\n",
       "      <th>std</th>\n",
       "      <td>4.512742</td>\n",
       "      <td>1.107286</td>\n",
       "      <td>0</td>\n",
       "      <td>0.214384</td>\n",
       "      <td>5.487468</td>\n",
       "      <td>6.923200</td>\n",
       "      <td>2.730413</td>\n",
       "      <td>2.219360</td>\n",
       "      <td>0.003274</td>\n",
       "      <td>2.108530</td>\n",
       "      <td>...</td>\n",
       "      <td>3.323446</td>\n",
       "      <td>0.516695</td>\n",
       "      <td>3.184268</td>\n",
       "      <td>0.474381</td>\n",
       "      <td>7.643661</td>\n",
       "      <td>3.600778</td>\n",
       "      <td>8.938096</td>\n",
       "      <td>4.644600</td>\n",
       "      <td>9.530667</td>\n",
       "      <td>3449.664870</td>\n",
       "    </tr>\n",
       "    <tr>\n",
       "      <th>min</th>\n",
       "      <td>0.059892</td>\n",
       "      <td>0.000000</td>\n",
       "      <td>0</td>\n",
       "      <td>0.000000</td>\n",
       "      <td>6.000000</td>\n",
       "      <td>0.000000</td>\n",
       "      <td>0.000000</td>\n",
       "      <td>0.000000</td>\n",
       "      <td>0.000000</td>\n",
       "      <td>0.000000</td>\n",
       "      <td>...</td>\n",
       "      <td>0.000000</td>\n",
       "      <td>0.000000</td>\n",
       "      <td>0.000000</td>\n",
       "      <td>0.000000</td>\n",
       "      <td>0.000000</td>\n",
       "      <td>0.000000</td>\n",
       "      <td>0.000000</td>\n",
       "      <td>0.000000</td>\n",
       "      <td>1984.000000</td>\n",
       "      <td>-28250.000000</td>\n",
       "    </tr>\n",
       "    <tr>\n",
       "      <th>25%</th>\n",
       "      <td>14.964294</td>\n",
       "      <td>0.000000</td>\n",
       "      <td>0</td>\n",
       "      <td>0.000000</td>\n",
       "      <td>15.000000</td>\n",
       "      <td>0.000000</td>\n",
       "      <td>0.000000</td>\n",
       "      <td>0.000000</td>\n",
       "      <td>0.000000</td>\n",
       "      <td>0.000000</td>\n",
       "      <td>...</td>\n",
       "      <td>0.000000</td>\n",
       "      <td>0.000000</td>\n",
       "      <td>0.000000</td>\n",
       "      <td>0.000000</td>\n",
       "      <td>18.000000</td>\n",
       "      <td>0.000000</td>\n",
       "      <td>26.923100</td>\n",
       "      <td>0.000000</td>\n",
       "      <td>1990.000000</td>\n",
       "      <td>-4500.000000</td>\n",
       "    </tr>\n",
       "    <tr>\n",
       "      <th>50%</th>\n",
       "      <td>17.337486</td>\n",
       "      <td>0.000000</td>\n",
       "      <td>0</td>\n",
       "      <td>0.000000</td>\n",
       "      <td>17.000000</td>\n",
       "      <td>0.000000</td>\n",
       "      <td>0.000000</td>\n",
       "      <td>0.000000</td>\n",
       "      <td>0.000000</td>\n",
       "      <td>0.000000</td>\n",
       "      <td>...</td>\n",
       "      <td>0.000000</td>\n",
       "      <td>0.000000</td>\n",
       "      <td>0.000000</td>\n",
       "      <td>0.000000</td>\n",
       "      <td>21.000000</td>\n",
       "      <td>0.000000</td>\n",
       "      <td>32.100000</td>\n",
       "      <td>0.000000</td>\n",
       "      <td>1999.000000</td>\n",
       "      <td>-3000.000000</td>\n",
       "    </tr>\n",
       "    <tr>\n",
       "      <th>75%</th>\n",
       "      <td>20.589638</td>\n",
       "      <td>0.000000</td>\n",
       "      <td>0</td>\n",
       "      <td>0.000000</td>\n",
       "      <td>20.000000</td>\n",
       "      <td>0.000000</td>\n",
       "      <td>0.000000</td>\n",
       "      <td>0.000000</td>\n",
       "      <td>0.000000</td>\n",
       "      <td>0.000000</td>\n",
       "      <td>...</td>\n",
       "      <td>0.000000</td>\n",
       "      <td>0.000000</td>\n",
       "      <td>0.000000</td>\n",
       "      <td>0.000000</td>\n",
       "      <td>24.800000</td>\n",
       "      <td>0.000000</td>\n",
       "      <td>37.303100</td>\n",
       "      <td>0.000000</td>\n",
       "      <td>2007.000000</td>\n",
       "      <td>-500.000000</td>\n",
       "    </tr>\n",
       "    <tr>\n",
       "      <th>max</th>\n",
       "      <td>47.068308</td>\n",
       "      <td>8.320004</td>\n",
       "      <td>0</td>\n",
       "      <td>12.000000</td>\n",
       "      <td>138.000000</td>\n",
       "      <td>138.304000</td>\n",
       "      <td>124.000000</td>\n",
       "      <td>124.013200</td>\n",
       "      <td>0.350000</td>\n",
       "      <td>122.000000</td>\n",
       "      <td>...</td>\n",
       "      <td>262.700000</td>\n",
       "      <td>39.919600</td>\n",
       "      <td>266.800000</td>\n",
       "      <td>36.302000</td>\n",
       "      <td>197.577100</td>\n",
       "      <td>177.161700</td>\n",
       "      <td>156.000000</td>\n",
       "      <td>150.093500</td>\n",
       "      <td>2014.000000</td>\n",
       "      <td>8250.000000</td>\n",
       "    </tr>\n",
       "  </tbody>\n",
       "</table>\n",
       "<p>8 rows × 54 columns</p>\n",
       "</div>"
      ],
      "text/plain": [
       "          barrels08    barrelsA08  charge120     charge240        city08  \\\n",
       "count  34287.000000  34287.000000      34287  34287.000000  34287.000000   \n",
       "mean      17.812380      0.200444          0      0.006986     17.524834   \n",
       "std        4.512742      1.107286          0      0.214384      5.487468   \n",
       "min        0.059892      0.000000          0      0.000000      6.000000   \n",
       "25%       14.964294      0.000000          0      0.000000     15.000000   \n",
       "50%       17.337486      0.000000          0      0.000000     17.000000   \n",
       "75%       20.589638      0.000000          0      0.000000     20.000000   \n",
       "max       47.068308      8.320004          0     12.000000    138.000000   \n",
       "\n",
       "            city08U       cityA08      cityA08U        cityCD         cityE  \\\n",
       "count  34287.000000  34287.000000  34287.000000  34287.000000  34287.000000   \n",
       "mean       2.128269      0.400968      0.185282      0.000031      0.085709   \n",
       "std        6.923200      2.730413      2.219360      0.003274      2.108530   \n",
       "min        0.000000      0.000000      0.000000      0.000000      0.000000   \n",
       "25%        0.000000      0.000000      0.000000      0.000000      0.000000   \n",
       "50%        0.000000      0.000000      0.000000      0.000000      0.000000   \n",
       "75%        0.000000      0.000000      0.000000      0.000000      0.000000   \n",
       "max      138.304000    124.000000    124.013200      0.350000    122.000000   \n",
       "\n",
       "           ...          rangeCity    rangeCityA      rangeHwy     rangeHwyA  \\\n",
       "count      ...       34287.000000  34287.000000  34287.000000  34287.000000   \n",
       "mean       ...           0.085864      0.008904      0.078820      0.007980   \n",
       "std        ...           3.323446      0.516695      3.184268      0.474381   \n",
       "min        ...           0.000000      0.000000      0.000000      0.000000   \n",
       "25%        ...           0.000000      0.000000      0.000000      0.000000   \n",
       "50%        ...           0.000000      0.000000      0.000000      0.000000   \n",
       "75%        ...           0.000000      0.000000      0.000000      0.000000   \n",
       "max        ...         262.700000     39.919600    266.800000     36.302000   \n",
       "\n",
       "              UCity        UCityA      UHighway     UHighwayA          year  \\\n",
       "count  34287.000000  34287.000000  34287.000000  34287.000000  34287.000000   \n",
       "mean      22.004447      0.485748     32.836272      0.737956   1998.435588   \n",
       "std        7.643661      3.600778      8.938096      4.644600      9.530667   \n",
       "min        0.000000      0.000000      0.000000      0.000000   1984.000000   \n",
       "25%       18.000000      0.000000     26.923100      0.000000   1990.000000   \n",
       "50%       21.000000      0.000000     32.100000      0.000000   1999.000000   \n",
       "75%       24.800000      0.000000     37.303100      0.000000   2007.000000   \n",
       "max      197.577100    177.161700    156.000000    150.093500   2014.000000   \n",
       "\n",
       "       youSaveSpend  \n",
       "count  34287.000000  \n",
       "mean   -2943.316709  \n",
       "std     3449.664870  \n",
       "min   -28250.000000  \n",
       "25%    -4500.000000  \n",
       "50%    -3000.000000  \n",
       "75%     -500.000000  \n",
       "max     8250.000000  \n",
       "\n",
       "[8 rows x 54 columns]"
      ]
     },
     "execution_count": 5,
     "metadata": {},
     "output_type": "execute_result"
    }
   ],
   "source": [
    "vehicles.describe()"
   ]
  },
  {
   "cell_type": "code",
   "execution_count": 12,
   "metadata": {
    "collapsed": false
   },
   "outputs": [
    {
     "data": {
      "text/plain": [
       "array(['cylinders', 'displ', 'fuelType2', 'rangeA', 'evMotor', 'mfrCode'], dtype=object)"
      ]
     },
     "execution_count": 12,
     "metadata": {},
     "output_type": "execute_result"
    }
   ],
   "source": [
    "column_names = vehicles.columns.values\n",
    "column_names[[22,23,70,71,72,73]]"
   ]
  },
  {
   "cell_type": "code",
   "execution_count": 13,
   "metadata": {
    "collapsed": false
   },
   "outputs": [
    {
     "data": {
      "text/plain": [
       "34287"
      ]
     },
     "execution_count": 13,
     "metadata": {},
     "output_type": "execute_result"
    }
   ],
   "source": [
    "len(vehicles)"
   ]
  },
  {
   "cell_type": "code",
   "execution_count": 14,
   "metadata": {
    "collapsed": false
   },
   "outputs": [
    {
     "data": {
      "text/plain": [
       "74"
      ]
     },
     "execution_count": 14,
     "metadata": {},
     "output_type": "execute_result"
    }
   ],
   "source": [
    "len(vehicles.columns)"
   ]
  },
  {
   "cell_type": "code",
   "execution_count": 15,
   "metadata": {
    "collapsed": true
   },
   "outputs": [
    {
     "name": "stdout",
     "output_type": "stream",
     "text": [
      "Index([u'barrels08', u'barrelsA08', u'charge120', u'charge240', u'city08',\n",
      "       u'city08U', u'cityA08', u'cityA08U', u'cityCD', u'cityE', u'cityUF',\n",
      "       u'co2', u'co2A', u'co2TailpipeAGpm', u'co2TailpipeGpm', u'comb08',\n",
      "       u'comb08U', u'combA08', u'combA08U', u'combE', u'combinedCD',\n",
      "       u'combinedUF', u'cylinders', u'displ', u'drive', u'engId', u'eng_dscr',\n",
      "       u'feScore', u'fuelCost08', u'fuelCostA08', u'fuelType', u'fuelType1',\n",
      "       u'ghgScore', u'ghgScoreA', u'highway08', u'highway08U', u'highwayA08',\n",
      "       u'highwayA08U', u'highwayCD', u'highwayE', u'highwayUF', u'hlv', u'hpv',\n",
      "       u'id', u'lv2', u'lv4', u'make', u'model', u'mpgData', u'phevBlended',\n",
      "       u'pv2', u'pv4', u'range', u'rangeCity', u'rangeCityA', u'rangeHwy',\n",
      "       u'rangeHwyA', u'trany', u'UCity', u'UCityA', u'UHighway', u'UHighwayA',\n",
      "       u'VClass', u'year', u'youSaveSpend', u'guzzler', u'trans_dscr',\n",
      "       u'tCharger', u'sCharger', u'atvType', u'fuelType2', u'rangeA',\n",
      "       u'evMotor', u'mfrCode'],\n",
      "      dtype='object')\n"
     ]
    }
   ],
   "source": [
    "print(vehicles.columns)"
   ]
  },
  {
   "cell_type": "code",
   "execution_count": 16,
   "metadata": {
    "collapsed": false
   },
   "outputs": [
    {
     "data": {
      "text/plain": [
       "31"
      ]
     },
     "execution_count": 16,
     "metadata": {},
     "output_type": "execute_result"
    }
   ],
   "source": [
    "len(pd.unique(vehicles.year))"
   ]
  },
  {
   "cell_type": "code",
   "execution_count": 33,
   "metadata": {
    "collapsed": false
   },
   "outputs": [
    {
     "data": {
      "text/plain": [
       "array([4.0, 12.0, 8.0, 6.0, 5.0, 10.0, 2.0, 3.0, nan, 16.0, '6', '8', '12',\n",
       "       '4', '3', '5', '2', '10', '16'], dtype=object)"
      ]
     },
     "execution_count": 33,
     "metadata": {},
     "output_type": "execute_result"
    }
   ],
   "source": [
    "vehicles.loc[vehicles['cylinders'].isnull(), 'cylinders'] = np.nan\n",
    "pd.unique(vehicles['cylinders'])"
   ]
  },
  {
   "cell_type": "code",
   "execution_count": 37,
   "metadata": {
    "collapsed": false
   },
   "outputs": [
    {
     "data": {
      "text/plain": [
       "barrels08          float64\n",
       "barrelsA08         float64\n",
       "charge120          float64\n",
       "charge240          float64\n",
       "city08               int64\n",
       "city08U            float64\n",
       "cityA08              int64\n",
       "cityA08U           float64\n",
       "cityCD             float64\n",
       "cityE              float64\n",
       "cityUF             float64\n",
       "co2                  int64\n",
       "co2A                 int64\n",
       "co2TailpipeAGpm    float64\n",
       "co2TailpipeGpm     float64\n",
       "comb08               int64\n",
       "comb08U            float64\n",
       "combA08              int64\n",
       "combA08U           float64\n",
       "combE              float64\n",
       "combinedCD         float64\n",
       "combinedUF         float64\n",
       "cylinders          float64\n",
       "displ               object\n",
       "drive               object\n",
       "engId                int64\n",
       "eng_dscr            object\n",
       "feScore              int64\n",
       "fuelCost08           int64\n",
       "fuelCostA08          int64\n",
       "                    ...   \n",
       "lv2                  int64\n",
       "lv4                  int64\n",
       "make                object\n",
       "model               object\n",
       "mpgData             object\n",
       "phevBlended           bool\n",
       "pv2                  int64\n",
       "pv4                  int64\n",
       "range                int64\n",
       "rangeCity          float64\n",
       "rangeCityA         float64\n",
       "rangeHwy           float64\n",
       "rangeHwyA          float64\n",
       "trany               object\n",
       "UCity              float64\n",
       "UCityA             float64\n",
       "UHighway           float64\n",
       "UHighwayA          float64\n",
       "VClass              object\n",
       "year                 int64\n",
       "youSaveSpend         int64\n",
       "guzzler             object\n",
       "trans_dscr          object\n",
       "tCharger            object\n",
       "sCharger            object\n",
       "atvType             object\n",
       "fuelType2           object\n",
       "rangeA              object\n",
       "evMotor             object\n",
       "mfrCode             object\n",
       "dtype: object"
      ]
     },
     "execution_count": 37,
     "metadata": {},
     "output_type": "execute_result"
    }
   ],
   "source": [
    "vehicles['cylinders'] = vehicles['cylinders'].astype(float)\n",
    "vehicles.dtypes"
   ]
  },
  {
   "cell_type": "code",
   "execution_count": 38,
   "metadata": {
    "collapsed": false
   },
   "outputs": [
    {
     "data": {
      "text/plain": [
       "1984"
      ]
     },
     "execution_count": 38,
     "metadata": {},
     "output_type": "execute_result"
    }
   ],
   "source": [
    "min(vehicles.year)"
   ]
  },
  {
   "cell_type": "code",
   "execution_count": 39,
   "metadata": {
    "collapsed": false
   },
   "outputs": [
    {
     "data": {
      "text/plain": [
       "2014"
      ]
     },
     "execution_count": 39,
     "metadata": {},
     "output_type": "execute_result"
    }
   ],
   "source": [
    "max(vehicles.year)"
   ]
  },
  {
   "cell_type": "code",
   "execution_count": 44,
   "metadata": {
    "collapsed": false
   },
   "outputs": [
    {
     "data": {
      "text/plain": [
       "<matplotlib.axes._subplots.AxesSubplot at 0x1060862d0>"
      ]
     },
     "execution_count": 44,
     "metadata": {},
     "output_type": "execute_result"
    },
    {
     "data": {
      "image/png": "[encoded data removed]",
      "text/plain": [
       "<matplotlib.figure.Figure at 0x106caf610>"
      ]
     },
     "metadata": {},
     "output_type": "display_data"
    }
   ],
   "source": [
    "pd.value_counts(vehicles.fuelType1).plot(kind='bar')"
   ]
  },
  {
   "cell_type": "code",
   "execution_count": 45,
   "metadata": {
    "collapsed": false
   },
   "outputs": [
    {
     "data": {
      "text/plain": [
       "<matplotlib.axes._subplots.AxesSubplot at 0x10620c810>"
      ]
     },
     "execution_count": 45,
     "metadata": {},
     "output_type": "execute_result"
    },
    {
     "data": {
      "image/png": "[encoded data removed]",
      "text/plain": [
       "<matplotlib.figure.Figure at 0x10a555550>"
      ]
     },
     "metadata": {},
     "output_type": "display_data"
    }
   ],
   "source": [
    "pd.value_counts(vehicles.trany).plot(kind='bar')"
   ]
  },
  {
   "cell_type": "code",
   "execution_count": 46,
   "metadata": {
    "collapsed": true
   },
   "outputs": [],
   "source": [
    "vehicles['trany2'] = vehicles.trany.str[0]"
   ]
  },
  {
   "cell_type": "code",
   "execution_count": 47,
   "metadata": {
    "collapsed": false
   },
   "outputs": [
    {
     "data": {
      "text/plain": [
       "<matplotlib.axes._subplots.AxesSubplot at 0x10dba27d0>"
      ]
     },
     "execution_count": 47,
     "metadata": {},
     "output_type": "execute_result"
    },
    {
     "data": {
      "image/png": "[encoded data removed]",
      "text/plain": [
       "<matplotlib.figure.Figure at 0x10cc64750>"
      ]
     },
     "metadata": {},
     "output_type": "display_data"
    }
   ],
   "source": [
    "pd.value_counts(vehicles.trany2).plot(kind='bar')"
   ]
  },
  {
   "cell_type": "code",
   "execution_count": 49,
   "metadata": {
    "collapsed": false
   },
   "outputs": [
    {
     "name": "stdout",
     "output_type": "stream",
     "text": [
      "<pandas.core.groupby.DataFrameGroupBy object at 0x10dfe6d90>\n"
     ]
    }
   ],
   "source": [
    "grouped = vehicles.groupby('year')"
   ]
  },
  {
   "cell_type": "code",
   "execution_count": 50,
   "metadata": {
    "collapsed": false
   },
   "outputs": [
    {
     "data": {
      "text/html": [
       "<div>\n",
       "<table border=\"1\" class=\"dataframe\">\n",
       "  <thead>\n",
       "    <tr>\n",
       "      <th></th>\n",
       "      <th>comb08</th>\n",
       "      <th>highway08</th>\n",
       "      <th>city08</th>\n",
       "    </tr>\n",
       "    <tr>\n",
       "      <th></th>\n",
       "      <th>mean</th>\n",
       "      <th>mean</th>\n",
       "      <th>mean</th>\n",
       "    </tr>\n",
       "    <tr>\n",
       "      <th>year</th>\n",
       "      <th></th>\n",
       "      <th></th>\n",
       "      <th></th>\n",
       "    </tr>\n",
       "  </thead>\n",
       "  <tbody>\n",
       "    <tr>\n",
       "      <th>1984</th>\n",
       "      <td>19.881874</td>\n",
       "      <td>23.075356</td>\n",
       "      <td>17.982688</td>\n",
       "    </tr>\n",
       "    <tr>\n",
       "      <th>1985</th>\n",
       "      <td>19.808348</td>\n",
       "      <td>23.042328</td>\n",
       "      <td>17.878307</td>\n",
       "    </tr>\n",
       "    <tr>\n",
       "      <th>1986</th>\n",
       "      <td>19.550413</td>\n",
       "      <td>22.699174</td>\n",
       "      <td>17.665289</td>\n",
       "    </tr>\n",
       "    <tr>\n",
       "      <th>1987</th>\n",
       "      <td>19.228549</td>\n",
       "      <td>22.445068</td>\n",
       "      <td>17.310345</td>\n",
       "    </tr>\n",
       "    <tr>\n",
       "      <th>1988</th>\n",
       "      <td>19.328319</td>\n",
       "      <td>22.702655</td>\n",
       "      <td>17.333628</td>\n",
       "    </tr>\n",
       "    <tr>\n",
       "      <th>1989</th>\n",
       "      <td>19.125759</td>\n",
       "      <td>22.465742</td>\n",
       "      <td>17.143972</td>\n",
       "    </tr>\n",
       "    <tr>\n",
       "      <th>1990</th>\n",
       "      <td>19.000928</td>\n",
       "      <td>22.337662</td>\n",
       "      <td>17.033395</td>\n",
       "    </tr>\n",
       "    <tr>\n",
       "      <th>1991</th>\n",
       "      <td>18.825972</td>\n",
       "      <td>22.253534</td>\n",
       "      <td>16.848940</td>\n",
       "    </tr>\n",
       "    <tr>\n",
       "      <th>1992</th>\n",
       "      <td>18.862623</td>\n",
       "      <td>22.439786</td>\n",
       "      <td>16.805531</td>\n",
       "    </tr>\n",
       "    <tr>\n",
       "      <th>1993</th>\n",
       "      <td>19.104300</td>\n",
       "      <td>22.780421</td>\n",
       "      <td>16.998170</td>\n",
       "    </tr>\n",
       "    <tr>\n",
       "      <th>1994</th>\n",
       "      <td>19.012220</td>\n",
       "      <td>22.725051</td>\n",
       "      <td>16.918534</td>\n",
       "    </tr>\n",
       "    <tr>\n",
       "      <th>1995</th>\n",
       "      <td>18.797311</td>\n",
       "      <td>22.671148</td>\n",
       "      <td>16.569804</td>\n",
       "    </tr>\n",
       "    <tr>\n",
       "      <th>1996</th>\n",
       "      <td>19.584735</td>\n",
       "      <td>23.569211</td>\n",
       "      <td>17.289780</td>\n",
       "    </tr>\n",
       "    <tr>\n",
       "      <th>1997</th>\n",
       "      <td>19.429134</td>\n",
       "      <td>23.451444</td>\n",
       "      <td>17.135171</td>\n",
       "    </tr>\n",
       "    <tr>\n",
       "      <th>1998</th>\n",
       "      <td>19.518473</td>\n",
       "      <td>23.546798</td>\n",
       "      <td>17.113300</td>\n",
       "    </tr>\n",
       "    <tr>\n",
       "      <th>1999</th>\n",
       "      <td>19.611502</td>\n",
       "      <td>23.552817</td>\n",
       "      <td>17.272300</td>\n",
       "    </tr>\n",
       "    <tr>\n",
       "      <th>2000</th>\n",
       "      <td>19.526190</td>\n",
       "      <td>23.414286</td>\n",
       "      <td>17.221429</td>\n",
       "    </tr>\n",
       "    <tr>\n",
       "      <th>2001</th>\n",
       "      <td>19.479693</td>\n",
       "      <td>23.328211</td>\n",
       "      <td>17.275521</td>\n",
       "    </tr>\n",
       "    <tr>\n",
       "      <th>2002</th>\n",
       "      <td>19.168205</td>\n",
       "      <td>23.030769</td>\n",
       "      <td>16.893333</td>\n",
       "    </tr>\n",
       "    <tr>\n",
       "      <th>2003</th>\n",
       "      <td>19.000958</td>\n",
       "      <td>22.836207</td>\n",
       "      <td>16.780651</td>\n",
       "    </tr>\n",
       "    <tr>\n",
       "      <th>2004</th>\n",
       "      <td>19.067736</td>\n",
       "      <td>23.064171</td>\n",
       "      <td>16.740642</td>\n",
       "    </tr>\n",
       "    <tr>\n",
       "      <th>2005</th>\n",
       "      <td>19.193825</td>\n",
       "      <td>23.297599</td>\n",
       "      <td>16.851630</td>\n",
       "    </tr>\n",
       "    <tr>\n",
       "      <th>2006</th>\n",
       "      <td>18.959239</td>\n",
       "      <td>23.048913</td>\n",
       "      <td>16.626812</td>\n",
       "    </tr>\n",
       "    <tr>\n",
       "      <th>2007</th>\n",
       "      <td>18.978686</td>\n",
       "      <td>23.083481</td>\n",
       "      <td>16.605684</td>\n",
       "    </tr>\n",
       "    <tr>\n",
       "      <th>2008</th>\n",
       "      <td>19.276327</td>\n",
       "      <td>23.455771</td>\n",
       "      <td>16.900590</td>\n",
       "    </tr>\n",
       "    <tr>\n",
       "      <th>2009</th>\n",
       "      <td>19.742616</td>\n",
       "      <td>24.032068</td>\n",
       "      <td>17.336709</td>\n",
       "    </tr>\n",
       "    <tr>\n",
       "      <th>2010</th>\n",
       "      <td>20.601443</td>\n",
       "      <td>24.972949</td>\n",
       "      <td>18.111812</td>\n",
       "    </tr>\n",
       "    <tr>\n",
       "      <th>2011</th>\n",
       "      <td>21.156791</td>\n",
       "      <td>25.498633</td>\n",
       "      <td>18.726527</td>\n",
       "    </tr>\n",
       "    <tr>\n",
       "      <th>2012</th>\n",
       "      <td>21.937554</td>\n",
       "      <td>26.418907</td>\n",
       "      <td>19.405898</td>\n",
       "    </tr>\n",
       "    <tr>\n",
       "      <th>2013</th>\n",
       "      <td>23.245139</td>\n",
       "      <td>27.841927</td>\n",
       "      <td>20.692308</td>\n",
       "    </tr>\n",
       "    <tr>\n",
       "      <th>2014</th>\n",
       "      <td>23.010830</td>\n",
       "      <td>27.787004</td>\n",
       "      <td>20.341155</td>\n",
       "    </tr>\n",
       "  </tbody>\n",
       "</table>\n",
       "</div>"
      ],
      "text/plain": [
       "         comb08  highway08     city08\n",
       "           mean       mean       mean\n",
       "year                                 \n",
       "1984  19.881874  23.075356  17.982688\n",
       "1985  19.808348  23.042328  17.878307\n",
       "1986  19.550413  22.699174  17.665289\n",
       "1987  19.228549  22.445068  17.310345\n",
       "1988  19.328319  22.702655  17.333628\n",
       "1989  19.125759  22.465742  17.143972\n",
       "1990  19.000928  22.337662  17.033395\n",
       "1991  18.825972  22.253534  16.848940\n",
       "1992  18.862623  22.439786  16.805531\n",
       "1993  19.104300  22.780421  16.998170\n",
       "1994  19.012220  22.725051  16.918534\n",
       "1995  18.797311  22.671148  16.569804\n",
       "1996  19.584735  23.569211  17.289780\n",
       "1997  19.429134  23.451444  17.135171\n",
       "1998  19.518473  23.546798  17.113300\n",
       "1999  19.611502  23.552817  17.272300\n",
       "2000  19.526190  23.414286  17.221429\n",
       "2001  19.479693  23.328211  17.275521\n",
       "2002  19.168205  23.030769  16.893333\n",
       "2003  19.000958  22.836207  16.780651\n",
       "2004  19.067736  23.064171  16.740642\n",
       "2005  19.193825  23.297599  16.851630\n",
       "2006  18.959239  23.048913  16.626812\n",
       "2007  18.978686  23.083481  16.605684\n",
       "2008  19.276327  23.455771  16.900590\n",
       "2009  19.742616  24.032068  17.336709\n",
       "2010  20.601443  24.972949  18.111812\n",
       "2011  21.156791  25.498633  18.726527\n",
       "2012  21.937554  26.418907  19.405898\n",
       "2013  23.245139  27.841927  20.692308\n",
       "2014  23.010830  27.787004  20.341155"
      ]
     },
     "execution_count": 50,
     "metadata": {},
     "output_type": "execute_result"
    }
   ],
   "source": [
    "averaged = grouped['comb08', 'highway08', 'city08'].agg([np.mean])\n",
    "averaged"
   ]
  },
  {
   "cell_type": "code",
   "execution_count": 51,
   "metadata": {
    "collapsed": false
   },
   "outputs": [
    {
     "data": {
      "text/plain": [
       "<matplotlib.axes._subplots.AxesSubplot at 0x10c851650>"
      ]
     },
     "execution_count": 51,
     "metadata": {},
     "output_type": "execute_result"
    },
    {
     "data": {
      "image/png": "[encoded data removed]",
      "text/plain": [
       "<matplotlib.figure.Figure at 0x10dfe6350>"
      ]
     },
     "metadata": {},
     "output_type": "display_data"
    }
   ],
   "source": [
    "averaged.plot()"
   ]
  },
  {
   "cell_type": "code",
   "execution_count": 58,
   "metadata": {
    "collapsed": false
   },
   "outputs": [
    {
     "data": {
      "text/html": [
       "<div>\n",
       "<table border=\"1\" class=\"dataframe\">\n",
       "  <thead>\n",
       "    <tr style=\"text-align: right;\">\n",
       "      <th></th>\n",
       "      <th>comb08_mean</th>\n",
       "      <th>highway08_mean</th>\n",
       "      <th>city08_mean</th>\n",
       "    </tr>\n",
       "    <tr>\n",
       "      <th>year</th>\n",
       "      <th></th>\n",
       "      <th></th>\n",
       "      <th></th>\n",
       "    </tr>\n",
       "  </thead>\n",
       "  <tbody>\n",
       "    <tr>\n",
       "      <th>1984</th>\n",
       "      <td>19.881874</td>\n",
       "      <td>23.075356</td>\n",
       "      <td>17.982688</td>\n",
       "    </tr>\n",
       "    <tr>\n",
       "      <th>1985</th>\n",
       "      <td>19.808348</td>\n",
       "      <td>23.042328</td>\n",
       "      <td>17.878307</td>\n",
       "    </tr>\n",
       "    <tr>\n",
       "      <th>1986</th>\n",
       "      <td>19.550413</td>\n",
       "      <td>22.699174</td>\n",
       "      <td>17.665289</td>\n",
       "    </tr>\n",
       "    <tr>\n",
       "      <th>1987</th>\n",
       "      <td>19.228549</td>\n",
       "      <td>22.445068</td>\n",
       "      <td>17.310345</td>\n",
       "    </tr>\n",
       "    <tr>\n",
       "      <th>1988</th>\n",
       "      <td>19.328319</td>\n",
       "      <td>22.702655</td>\n",
       "      <td>17.333628</td>\n",
       "    </tr>\n",
       "    <tr>\n",
       "      <th>1989</th>\n",
       "      <td>19.125759</td>\n",
       "      <td>22.465742</td>\n",
       "      <td>17.143972</td>\n",
       "    </tr>\n",
       "    <tr>\n",
       "      <th>1990</th>\n",
       "      <td>19.000928</td>\n",
       "      <td>22.337662</td>\n",
       "      <td>17.033395</td>\n",
       "    </tr>\n",
       "    <tr>\n",
       "      <th>1991</th>\n",
       "      <td>18.825972</td>\n",
       "      <td>22.253534</td>\n",
       "      <td>16.848940</td>\n",
       "    </tr>\n",
       "    <tr>\n",
       "      <th>1992</th>\n",
       "      <td>18.862623</td>\n",
       "      <td>22.439786</td>\n",
       "      <td>16.805531</td>\n",
       "    </tr>\n",
       "    <tr>\n",
       "      <th>1993</th>\n",
       "      <td>19.104300</td>\n",
       "      <td>22.780421</td>\n",
       "      <td>16.998170</td>\n",
       "    </tr>\n",
       "    <tr>\n",
       "      <th>1994</th>\n",
       "      <td>19.012220</td>\n",
       "      <td>22.725051</td>\n",
       "      <td>16.918534</td>\n",
       "    </tr>\n",
       "    <tr>\n",
       "      <th>1995</th>\n",
       "      <td>18.797311</td>\n",
       "      <td>22.671148</td>\n",
       "      <td>16.569804</td>\n",
       "    </tr>\n",
       "    <tr>\n",
       "      <th>1996</th>\n",
       "      <td>19.584735</td>\n",
       "      <td>23.569211</td>\n",
       "      <td>17.289780</td>\n",
       "    </tr>\n",
       "    <tr>\n",
       "      <th>1997</th>\n",
       "      <td>19.429134</td>\n",
       "      <td>23.451444</td>\n",
       "      <td>17.135171</td>\n",
       "    </tr>\n",
       "    <tr>\n",
       "      <th>1998</th>\n",
       "      <td>19.518473</td>\n",
       "      <td>23.546798</td>\n",
       "      <td>17.113300</td>\n",
       "    </tr>\n",
       "    <tr>\n",
       "      <th>1999</th>\n",
       "      <td>19.611502</td>\n",
       "      <td>23.552817</td>\n",
       "      <td>17.272300</td>\n",
       "    </tr>\n",
       "    <tr>\n",
       "      <th>2000</th>\n",
       "      <td>19.526190</td>\n",
       "      <td>23.414286</td>\n",
       "      <td>17.221429</td>\n",
       "    </tr>\n",
       "    <tr>\n",
       "      <th>2001</th>\n",
       "      <td>19.479693</td>\n",
       "      <td>23.328211</td>\n",
       "      <td>17.275521</td>\n",
       "    </tr>\n",
       "    <tr>\n",
       "      <th>2002</th>\n",
       "      <td>19.168205</td>\n",
       "      <td>23.030769</td>\n",
       "      <td>16.893333</td>\n",
       "    </tr>\n",
       "    <tr>\n",
       "      <th>2003</th>\n",
       "      <td>19.000958</td>\n",
       "      <td>22.836207</td>\n",
       "      <td>16.780651</td>\n",
       "    </tr>\n",
       "    <tr>\n",
       "      <th>2004</th>\n",
       "      <td>19.067736</td>\n",
       "      <td>23.064171</td>\n",
       "      <td>16.740642</td>\n",
       "    </tr>\n",
       "    <tr>\n",
       "      <th>2005</th>\n",
       "      <td>19.193825</td>\n",
       "      <td>23.297599</td>\n",
       "      <td>16.851630</td>\n",
       "    </tr>\n",
       "    <tr>\n",
       "      <th>2006</th>\n",
       "      <td>18.959239</td>\n",
       "      <td>23.048913</td>\n",
       "      <td>16.626812</td>\n",
       "    </tr>\n",
       "    <tr>\n",
       "      <th>2007</th>\n",
       "      <td>18.978686</td>\n",
       "      <td>23.083481</td>\n",
       "      <td>16.605684</td>\n",
       "    </tr>\n",
       "    <tr>\n",
       "      <th>2008</th>\n",
       "      <td>19.276327</td>\n",
       "      <td>23.455771</td>\n",
       "      <td>16.900590</td>\n",
       "    </tr>\n",
       "    <tr>\n",
       "      <th>2009</th>\n",
       "      <td>19.742616</td>\n",
       "      <td>24.032068</td>\n",
       "      <td>17.336709</td>\n",
       "    </tr>\n",
       "    <tr>\n",
       "      <th>2010</th>\n",
       "      <td>20.601443</td>\n",
       "      <td>24.972949</td>\n",
       "      <td>18.111812</td>\n",
       "    </tr>\n",
       "    <tr>\n",
       "      <th>2011</th>\n",
       "      <td>21.156791</td>\n",
       "      <td>25.498633</td>\n",
       "      <td>18.726527</td>\n",
       "    </tr>\n",
       "    <tr>\n",
       "      <th>2012</th>\n",
       "      <td>21.937554</td>\n",
       "      <td>26.418907</td>\n",
       "      <td>19.405898</td>\n",
       "    </tr>\n",
       "    <tr>\n",
       "      <th>2013</th>\n",
       "      <td>23.245139</td>\n",
       "      <td>27.841927</td>\n",
       "      <td>20.692308</td>\n",
       "    </tr>\n",
       "    <tr>\n",
       "      <th>2014</th>\n",
       "      <td>23.010830</td>\n",
       "      <td>27.787004</td>\n",
       "      <td>20.341155</td>\n",
       "    </tr>\n",
       "  </tbody>\n",
       "</table>\n",
       "</div>"
      ],
      "text/plain": [
       "      comb08_mean  highway08_mean  city08_mean\n",
       "year                                          \n",
       "1984    19.881874       23.075356    17.982688\n",
       "1985    19.808348       23.042328    17.878307\n",
       "1986    19.550413       22.699174    17.665289\n",
       "1987    19.228549       22.445068    17.310345\n",
       "1988    19.328319       22.702655    17.333628\n",
       "1989    19.125759       22.465742    17.143972\n",
       "1990    19.000928       22.337662    17.033395\n",
       "1991    18.825972       22.253534    16.848940\n",
       "1992    18.862623       22.439786    16.805531\n",
       "1993    19.104300       22.780421    16.998170\n",
       "1994    19.012220       22.725051    16.918534\n",
       "1995    18.797311       22.671148    16.569804\n",
       "1996    19.584735       23.569211    17.289780\n",
       "1997    19.429134       23.451444    17.135171\n",
       "1998    19.518473       23.546798    17.113300\n",
       "1999    19.611502       23.552817    17.272300\n",
       "2000    19.526190       23.414286    17.221429\n",
       "2001    19.479693       23.328211    17.275521\n",
       "2002    19.168205       23.030769    16.893333\n",
       "2003    19.000958       22.836207    16.780651\n",
       "2004    19.067736       23.064171    16.740642\n",
       "2005    19.193825       23.297599    16.851630\n",
       "2006    18.959239       23.048913    16.626812\n",
       "2007    18.978686       23.083481    16.605684\n",
       "2008    19.276327       23.455771    16.900590\n",
       "2009    19.742616       24.032068    17.336709\n",
       "2010    20.601443       24.972949    18.111812\n",
       "2011    21.156791       25.498633    18.726527\n",
       "2012    21.937554       26.418907    19.405898\n",
       "2013    23.245139       27.841927    20.692308\n",
       "2014    23.010830       27.787004    20.341155"
      ]
     },
     "execution_count": 58,
     "metadata": {},
     "output_type": "execute_result"
    }
   ],
   "source": [
    "new_columns = []\n",
    "for i, j in averaged.columns:\n",
    "    new_columns.append(i + '_mean')\n",
    "averaged.columns = new_columns\n",
    "averaged"
   ]
  },
  {
   "cell_type": "code",
   "execution_count": 59,
   "metadata": {
    "collapsed": false
   },
   "outputs": [],
   "source": [
    "averaged['year'] = averaged.index"
   ]
  },
  {
   "cell_type": "code",
   "execution_count": 63,
   "metadata": {
    "collapsed": false
   },
   "outputs": [
    {
     "name": "stderr",
     "output_type": "stream",
     "text": [
      "/Users/nathankiner/anaconda/lib/python2.7/site-packages/matplotlib/collections.py:590: FutureWarning: elementwise comparison failed; returning scalar instead, but in the future will perform elementwise comparison\n",
      "  if self._edgecolors == str('face'):\n"
     ]
    },
    {
     "data": {
      "image/png": "[encoded data removed]",
      "text/plain": [
       "<matplotlib.figure.Figure at 0x10f99fe10>"
      ]
     },
     "metadata": {},
     "output_type": "display_data"
    },
    {
     "name": "stdout",
     "output_type": "stream",
     "text": [
      "<ggplot: (284804461)>\n"
     ]
    }
   ],
   "source": [
    "print ggplot(averaged, aes('year', 'comb08_mean')) + geom_point(color='steelblue') + xlab('Year') + ylab('Average MPG') + ggtitle('All cars')"
   ]
  },
  {
   "cell_type": "code",
   "execution_count": 64,
   "metadata": {
    "collapsed": false
   },
   "outputs": [
    {
     "data": {
      "text/plain": [
       "31661"
      ]
     },
     "execution_count": 64,
     "metadata": {},
     "output_type": "execute_result"
    }
   ],
   "source": [
    "criteria1 = vehicles.fuelType1.isin([\"Regular Gasoline\", \"Premium Gasoline\", \"Midgrade Gasoline\"])\n",
    "criteria2 = vehicles.fuelType2.isnull()\n",
    "criteria3 = vehicles.atvType != \"Hybrid\"\n",
    "vehicles_non_hybrid = vehicles[criteria1 & criteria2 & criteria3]\n",
    "len(vehicles_non_hybrid)"
   ]
  },
  {
   "cell_type": "code",
   "execution_count": 85,
   "metadata": {
    "collapsed": false
   },
   "outputs": [
    {
     "data": {
      "text/plain": [
       "<matplotlib.axes._subplots.AxesSubplot at 0x10fe00490>"
      ]
     },
     "execution_count": 85,
     "metadata": {},
     "output_type": "execute_result"
    },
    {
     "data": {
      "image/png": "[encoded data removed]",
      "text/plain": [
       "<matplotlib.figure.Figure at 0x1104bf790>"
      ]
     },
     "metadata": {},
     "output_type": "display_data"
    }
   ],
   "source": [
    "grouped = vehicles_non_hybrid.groupby(['year']).mean()\n",
    "grouped[['comb08', 'highway08', 'city08']].plot()"
   ]
  },
  {
   "cell_type": "code",
   "execution_count": 86,
   "metadata": {
    "collapsed": false
   },
   "outputs": [
    {
     "data": {
      "text/plain": [
       "array([2.0, 4.9, 2.2, 5.2, 1.8, 1.6, 2.3, 2.8, 4.0, 5.0, 3.3, 3.1, 3.8,\n",
       "       4.6, 3.4, 3.0, 5.9, 2.5, 4.5, 6.8, 2.4, 2.9, 5.7, 4.3, 3.5, 5.8,\n",
       "       3.2, 4.2, 1.9, 2.6, 7.4, 3.9, 1.5, 1.3, 4.1, 8.0, 6.0, 3.6, 5.4,\n",
       "       5.6, 1.0, 2.1, 1.2, 6.5, 2.7, 4.7, 5.5, 1.1, 5.3, 4.4, 3.7, 6.7,\n",
       "       4.8, 1.7, 6.2, 8.3, 1.4, 6.1, 7.0, 8.4, '3.3', '3.8', '3.5', '4.5',\n",
       "       '5.0', '4.6', '4.2', '5.5', '6.0', '3.0', '1.5', '2.0', '2.8',\n",
       "       '2.4', '2.7', '2.3', '3.2', '2.5', '4.0', '4.7', '5.4', '5.7',\n",
       "       '4.3', '3.7', '4.8', '2.2', '1.8', '6.5', '3.6', '6.1', '6.2',\n",
       "       '1.6', '1.0', '4.4', '5.9', '1.3', '6.7', '5.6', '3.4', '7.0',\n",
       "       '5.2', '3.9', '5.3', '4.9', '2.9', '5.8', '3.1', '8.4', '1.1',\n",
       "       '2.1', '2.6', '1.4', '6.8', '1.7', '4.1', '1.9', '8.0', '6.3', nan,\n",
       "       '6.6', '6.4', '1.2', '7.4'], dtype=object)"
      ]
     },
     "execution_count": 86,
     "metadata": {},
     "output_type": "execute_result"
    }
   ],
   "source": [
    "pd.unique(vehicles_non_hybrid.displ)"
   ]
  },
  {
   "cell_type": "code",
   "execution_count": 87,
   "metadata": {
    "collapsed": true
   },
   "outputs": [],
   "source": [
    "criteria = vehicles_non_hybrid.displ.notnull() & vehicles_non_hybrid.comb08.notnull()\n",
    "vehicles_non_hybrid = vehicles_non_hybrid[criteria]\n",
    "vehicles_non_hybrid.displ = vehicles_non_hybrid.displ.astype(float)\n",
    "vehicles_non_hybrid.comb08 = vehicles_non_hybrid.comb08.astype(float)"
   ]
  },
  {
   "cell_type": "code",
   "execution_count": 98,
   "metadata": {
    "collapsed": false
   },
   "outputs": [
    {
     "ename": "TypeError",
     "evalue": "__init__() takes exactly 3 arguments (2 given)",
     "output_type": "error",
     "traceback": [
      "\u001b[0;31m---------------------------------------------------------------------------\u001b[0m",
      "\u001b[0;31mTypeError\u001b[0m                                 Traceback (most recent call last)",
      "\u001b[0;32m<ipython-input-98-fe5048fec945>\u001b[0m in \u001b[0;36m<module>\u001b[0;34m()\u001b[0m\n\u001b[1;32m      1\u001b[0m print (ggplot(vehicles_non_hybrid) + \n\u001b[0;32m----> 2\u001b[0;31m        \u001b[0mgeom_point\u001b[0m\u001b[0;34m(\u001b[0m\u001b[0mcolor\u001b[0m\u001b[0;34m=\u001b[0m\u001b[0;34m'steelblue'\u001b[0m\u001b[0;34m)\u001b[0m \u001b[0;34m+\u001b[0m \u001b[0mxlab\u001b[0m\u001b[0;34m(\u001b[0m\u001b[0;34m'Displacement'\u001b[0m\u001b[0;34m)\u001b[0m \u001b[0;34m+\u001b[0m \u001b[0mylab\u001b[0m\u001b[0;34m(\u001b[0m\u001b[0;34m'Average MPG'\u001b[0m\u001b[0;34m)\u001b[0m \u001b[0;34m+\u001b[0m\u001b[0;34m\u001b[0m\u001b[0m\n\u001b[0m\u001b[1;32m      3\u001b[0m        ggtitle('Gasoline cars'))\n",
      "\u001b[0;31mTypeError\u001b[0m: __init__() takes exactly 3 arguments (2 given)"
     ]
    }
   ],
   "source": [
    "print (ggplot(vehicles_non_hybrid) + \n",
    "       geom_point(color='steelblue') + xlab('Displacement') + ylab('Average MPG') +\n",
    "       ggtitle('Gasoline cars'))"
   ]
  },
  {
   "cell_type": "code",
   "execution_count": 90,
   "metadata": {
    "collapsed": false
   },
   "outputs": [
    {
     "data": {
      "text/plain": [
       "<matplotlib.axes._subplots.AxesSubplot at 0x111ee67d0>"
      ]
     },
     "execution_count": 90,
     "metadata": {},
     "output_type": "execute_result"
    },
    {
     "data": {
      "image/png": "[encoded data removed]",
      "text/plain": [
       "<matplotlib.figure.Figure at 0x111d5ecd0>"
      ]
     },
     "metadata": {},
     "output_type": "display_data"
    }
   ],
   "source": [
    "vehicles_non_hybrid.groupby('year').mean().displ.plot()"
   ]
  },
  {
   "cell_type": "code",
   "execution_count": 126,
   "metadata": {
    "collapsed": false
   },
   "outputs": [
    {
     "ename": "ValueError",
     "evalue": "The truth value of an array with more than one element is ambiguous. Use a.any() or a.all()",
     "output_type": "error",
     "traceback": [
      "\u001b[0;31m---------------------------------------------------------------------------\u001b[0m",
      "\u001b[0;31mValueError\u001b[0m                                Traceback (most recent call last)",
      "\u001b[0;32m<ipython-input-126-0b1418de8261>\u001b[0m in \u001b[0;36m<module>\u001b[0;34m()\u001b[0m\n\u001b[1;32m      2\u001b[0m \u001b[0mstack\u001b[0m \u001b[0;34m=\u001b[0m \u001b[0maveraged\u001b[0m\u001b[0;34m[\u001b[0m\u001b[0;34m[\u001b[0m\u001b[0;34m'comb08'\u001b[0m\u001b[0;34m,\u001b[0m \u001b[0;34m'displ'\u001b[0m\u001b[0;34m]\u001b[0m\u001b[0;34m]\u001b[0m\u001b[0;34m.\u001b[0m\u001b[0mstack\u001b[0m\u001b[0;34m(\u001b[0m\u001b[0;34m)\u001b[0m\u001b[0;34m\u001b[0m\u001b[0m\n\u001b[1;32m      3\u001b[0m print (ggplot(stack, aes(x = stack.index.levels[0].values, y = stack.values, color = pd.unique(stack.index.levels[1].values))) +\n\u001b[0;32m----> 4\u001b[0;31m        geom_point() + facet_wrap(pd.unique(stack.index.levels[1].values)))\n\u001b[0m",
      "\u001b[0;32m/Users/nathankiner/anaconda/lib/python2.7/site-packages/ggplot/geoms/facet_wrap.pyc\u001b[0m in \u001b[0;36m__radd__\u001b[0;34m(self, gg)\u001b[0m\n\u001b[1;32m     24\u001b[0m         \u001b[0mgg\u001b[0m\u001b[0;34m.\u001b[0m\u001b[0mn_dim_x\u001b[0m \u001b[0;34m=\u001b[0m \u001b[0;36m1\u001b[0m\u001b[0;34m\u001b[0m\u001b[0m\n\u001b[1;32m     25\u001b[0m         \u001b[0mfacets\u001b[0m \u001b[0;34m=\u001b[0m \u001b[0;34m[\u001b[0m\u001b[0;34m]\u001b[0m\u001b[0;34m\u001b[0m\u001b[0m\n\u001b[0;32m---> 26\u001b[0;31m         \u001b[0;32mif\u001b[0m \u001b[0mself\u001b[0m\u001b[0;34m.\u001b[0m\u001b[0mx\u001b[0m\u001b[0;34m:\u001b[0m\u001b[0;34m\u001b[0m\u001b[0m\n\u001b[0m\u001b[1;32m     27\u001b[0m             \u001b[0mx\u001b[0m \u001b[0;34m=\u001b[0m \u001b[0mgg\u001b[0m\u001b[0;34m.\u001b[0m\u001b[0mdata\u001b[0m\u001b[0;34m.\u001b[0m\u001b[0mget\u001b[0m\u001b[0;34m(\u001b[0m\u001b[0mself\u001b[0m\u001b[0;34m.\u001b[0m\u001b[0mx\u001b[0m\u001b[0;34m)\u001b[0m\u001b[0;34m\u001b[0m\u001b[0m\n\u001b[1;32m     28\u001b[0m             \u001b[0mgg\u001b[0m\u001b[0;34m.\u001b[0m\u001b[0mn_dim_x\u001b[0m \u001b[0;34m=\u001b[0m \u001b[0mx\u001b[0m\u001b[0;34m.\u001b[0m\u001b[0mnunique\u001b[0m\u001b[0;34m(\u001b[0m\u001b[0;34m)\u001b[0m\u001b[0;34m\u001b[0m\u001b[0m\n",
      "\u001b[0;31mValueError\u001b[0m: The truth value of an array with more than one element is ambiguous. Use a.any() or a.all()"
     ]
    }
   ],
   "source": [
    "averaged = vehicles_non_hybrid.groupby('year').mean()\n",
    "stack = averaged[['comb08', 'displ']].stack()\n",
    "print (ggplot(stack, aes(x = stack.index.levels[0].values, y = stack.values, color = pd.unique(stack.index.levels[1].values))) +\n",
    "       geom_point() + facet_wrap(pd.unique(stack.index.levels[1].values)))"
   ]
  },
  {
   "cell_type": "code",
   "execution_count": 105,
   "metadata": {
    "collapsed": false
   },
   "outputs": [],
   "source": [
    "stack = averaged[['comb08', 'displ']].stack()"
   ]
  },
  {
   "cell_type": "code",
   "execution_count": 124,
   "metadata": {
    "collapsed": false
   },
   "outputs": [
    {
     "data": {
      "text/plain": [
       "array([1984, 1985, 1986, 1987, 1988, 1989, 1990, 1991, 1992, 1993, 1994,\n",
       "       1995, 1996, 1997, 1998, 1999, 2000, 2001, 2002, 2003, 2004, 2005,\n",
       "       2006, 2007, 2008, 2009, 2010, 2011, 2012, 2013, 2014])"
      ]
     },
     "execution_count": 124,
     "metadata": {},
     "output_type": "execute_result"
    }
   ],
   "source": [
    "stack.index.levels[0].values"
   ]
  },
  {
   "cell_type": "code",
   "execution_count": 117,
   "metadata": {
    "collapsed": false
   },
   "outputs": [
    {
     "data": {
      "text/html": [
       "<div>\n",
       "<table border=\"1\" class=\"dataframe\">\n",
       "  <thead>\n",
       "    <tr style=\"text-align: right;\">\n",
       "      <th></th>\n",
       "      <th></th>\n",
       "      <th>0</th>\n",
       "    </tr>\n",
       "    <tr>\n",
       "      <th>year</th>\n",
       "      <th></th>\n",
       "      <th></th>\n",
       "    </tr>\n",
       "  </thead>\n",
       "  <tbody>\n",
       "    <tr>\n",
       "      <th rowspan=\"2\" valign=\"top\">1984</th>\n",
       "      <th>comb08</th>\n",
       "      <td>19.121622</td>\n",
       "    </tr>\n",
       "    <tr>\n",
       "      <th>displ</th>\n",
       "      <td>3.068449</td>\n",
       "    </tr>\n",
       "    <tr>\n",
       "      <th rowspan=\"2\" valign=\"top\">1985</th>\n",
       "      <th>comb08</th>\n",
       "      <td>19.389358</td>\n",
       "    </tr>\n",
       "    <tr>\n",
       "      <th>displ</th>\n",
       "      <td>3.075990</td>\n",
       "    </tr>\n",
       "    <tr>\n",
       "      <th rowspan=\"2\" valign=\"top\">1986</th>\n",
       "      <th>comb08</th>\n",
       "      <td>19.320457</td>\n",
       "    </tr>\n",
       "    <tr>\n",
       "      <th>displ</th>\n",
       "      <td>3.126514</td>\n",
       "    </tr>\n",
       "    <tr>\n",
       "      <th rowspan=\"2\" valign=\"top\">1987</th>\n",
       "      <th>comb08</th>\n",
       "      <td>19.164568</td>\n",
       "    </tr>\n",
       "    <tr>\n",
       "      <th>displ</th>\n",
       "      <td>3.096474</td>\n",
       "    </tr>\n",
       "    <tr>\n",
       "      <th rowspan=\"2\" valign=\"top\">1988</th>\n",
       "      <th>comb08</th>\n",
       "      <td>19.367607</td>\n",
       "    </tr>\n",
       "    <tr>\n",
       "      <th>displ</th>\n",
       "      <td>3.113558</td>\n",
       "    </tr>\n",
       "    <tr>\n",
       "      <th rowspan=\"2\" valign=\"top\">1989</th>\n",
       "      <th>comb08</th>\n",
       "      <td>19.141964</td>\n",
       "    </tr>\n",
       "    <tr>\n",
       "      <th>displ</th>\n",
       "      <td>3.133393</td>\n",
       "    </tr>\n",
       "    <tr>\n",
       "      <th rowspan=\"2\" valign=\"top\">1990</th>\n",
       "      <th>comb08</th>\n",
       "      <td>19.031459</td>\n",
       "    </tr>\n",
       "    <tr>\n",
       "      <th>displ</th>\n",
       "      <td>3.145472</td>\n",
       "    </tr>\n",
       "    <tr>\n",
       "      <th rowspan=\"2\" valign=\"top\">1991</th>\n",
       "      <th>comb08</th>\n",
       "      <td>18.838060</td>\n",
       "    </tr>\n",
       "    <tr>\n",
       "      <th>displ</th>\n",
       "      <td>3.178957</td>\n",
       "    </tr>\n",
       "    <tr>\n",
       "      <th rowspan=\"2\" valign=\"top\">1992</th>\n",
       "      <th>comb08</th>\n",
       "      <td>18.861566</td>\n",
       "    </tr>\n",
       "    <tr>\n",
       "      <th>displ</th>\n",
       "      <td>3.224954</td>\n",
       "    </tr>\n",
       "    <tr>\n",
       "      <th rowspan=\"2\" valign=\"top\">1993</th>\n",
       "      <th>comb08</th>\n",
       "      <td>19.137383</td>\n",
       "    </tr>\n",
       "    <tr>\n",
       "      <th>displ</th>\n",
       "      <td>3.193832</td>\n",
       "    </tr>\n",
       "    <tr>\n",
       "      <th rowspan=\"2\" valign=\"top\">1994</th>\n",
       "      <th>comb08</th>\n",
       "      <td>19.092632</td>\n",
       "    </tr>\n",
       "    <tr>\n",
       "      <th>displ</th>\n",
       "      <td>3.233053</td>\n",
       "    </tr>\n",
       "    <tr>\n",
       "      <th rowspan=\"2\" valign=\"top\">1995</th>\n",
       "      <th>comb08</th>\n",
       "      <td>18.872591</td>\n",
       "    </tr>\n",
       "    <tr>\n",
       "      <th>displ</th>\n",
       "      <td>3.375161</td>\n",
       "    </tr>\n",
       "    <tr>\n",
       "      <th rowspan=\"2\" valign=\"top\">1996</th>\n",
       "      <th>comb08</th>\n",
       "      <td>19.530962</td>\n",
       "    </tr>\n",
       "    <tr>\n",
       "      <th>displ</th>\n",
       "      <td>3.205929</td>\n",
       "    </tr>\n",
       "    <tr>\n",
       "      <th rowspan=\"2\" valign=\"top\">1997</th>\n",
       "      <th>comb08</th>\n",
       "      <td>19.368000</td>\n",
       "    </tr>\n",
       "    <tr>\n",
       "      <th>displ</th>\n",
       "      <td>3.206267</td>\n",
       "    </tr>\n",
       "    <tr>\n",
       "      <th rowspan=\"2\" valign=\"top\">1998</th>\n",
       "      <th>comb08</th>\n",
       "      <td>19.329545</td>\n",
       "    </tr>\n",
       "    <tr>\n",
       "      <th>displ</th>\n",
       "      <td>3.197348</td>\n",
       "    </tr>\n",
       "    <tr>\n",
       "      <th>...</th>\n",
       "      <th>...</th>\n",
       "      <td>...</td>\n",
       "    </tr>\n",
       "    <tr>\n",
       "      <th rowspan=\"2\" valign=\"top\">2000</th>\n",
       "      <th>comb08</th>\n",
       "      <td>19.169345</td>\n",
       "    </tr>\n",
       "    <tr>\n",
       "      <th>displ</th>\n",
       "      <td>3.227070</td>\n",
       "    </tr>\n",
       "    <tr>\n",
       "      <th rowspan=\"2\" valign=\"top\">2001</th>\n",
       "      <th>comb08</th>\n",
       "      <td>19.075058</td>\n",
       "    </tr>\n",
       "    <tr>\n",
       "      <th>displ</th>\n",
       "      <td>3.216051</td>\n",
       "    </tr>\n",
       "    <tr>\n",
       "      <th rowspan=\"2\" valign=\"top\">2002</th>\n",
       "      <th>comb08</th>\n",
       "      <td>18.950270</td>\n",
       "    </tr>\n",
       "    <tr>\n",
       "      <th>displ</th>\n",
       "      <td>3.263568</td>\n",
       "    </tr>\n",
       "    <tr>\n",
       "      <th rowspan=\"2\" valign=\"top\">2003</th>\n",
       "      <th>comb08</th>\n",
       "      <td>18.761711</td>\n",
       "    </tr>\n",
       "    <tr>\n",
       "      <th>displ</th>\n",
       "      <td>3.340428</td>\n",
       "    </tr>\n",
       "    <tr>\n",
       "      <th rowspan=\"2\" valign=\"top\">2004</th>\n",
       "      <th>comb08</th>\n",
       "      <td>18.967339</td>\n",
       "    </tr>\n",
       "    <tr>\n",
       "      <th>displ</th>\n",
       "      <td>3.349568</td>\n",
       "    </tr>\n",
       "    <tr>\n",
       "      <th rowspan=\"2\" valign=\"top\">2005</th>\n",
       "      <th>comb08</th>\n",
       "      <td>19.005510</td>\n",
       "    </tr>\n",
       "    <tr>\n",
       "      <th>displ</th>\n",
       "      <td>3.384022</td>\n",
       "    </tr>\n",
       "    <tr>\n",
       "      <th rowspan=\"2\" valign=\"top\">2006</th>\n",
       "      <th>comb08</th>\n",
       "      <td>18.786398</td>\n",
       "    </tr>\n",
       "    <tr>\n",
       "      <th>displ</th>\n",
       "      <td>3.534387</td>\n",
       "    </tr>\n",
       "    <tr>\n",
       "      <th rowspan=\"2\" valign=\"top\">2007</th>\n",
       "      <th>comb08</th>\n",
       "      <td>18.987512</td>\n",
       "    </tr>\n",
       "    <tr>\n",
       "      <th>displ</th>\n",
       "      <td>3.569452</td>\n",
       "    </tr>\n",
       "    <tr>\n",
       "      <th rowspan=\"2\" valign=\"top\">2008</th>\n",
       "      <th>comb08</th>\n",
       "      <td>19.191781</td>\n",
       "    </tr>\n",
       "    <tr>\n",
       "      <th>displ</th>\n",
       "      <td>3.587032</td>\n",
       "    </tr>\n",
       "    <tr>\n",
       "      <th rowspan=\"2\" valign=\"top\">2009</th>\n",
       "      <th>comb08</th>\n",
       "      <td>19.738095</td>\n",
       "    </tr>\n",
       "    <tr>\n",
       "      <th>displ</th>\n",
       "      <td>3.522095</td>\n",
       "    </tr>\n",
       "    <tr>\n",
       "      <th rowspan=\"2\" valign=\"top\">2010</th>\n",
       "      <th>comb08</th>\n",
       "      <td>20.466736</td>\n",
       "    </tr>\n",
       "    <tr>\n",
       "      <th>displ</th>\n",
       "      <td>3.413306</td>\n",
       "    </tr>\n",
       "    <tr>\n",
       "      <th rowspan=\"2\" valign=\"top\">2011</th>\n",
       "      <th>comb08</th>\n",
       "      <td>20.961755</td>\n",
       "    </tr>\n",
       "    <tr>\n",
       "      <th>displ</th>\n",
       "      <td>3.376828</td>\n",
       "    </tr>\n",
       "    <tr>\n",
       "      <th rowspan=\"2\" valign=\"top\">2012</th>\n",
       "      <th>comb08</th>\n",
       "      <td>21.496767</td>\n",
       "    </tr>\n",
       "    <tr>\n",
       "      <th>displ</th>\n",
       "      <td>3.350862</td>\n",
       "    </tr>\n",
       "    <tr>\n",
       "      <th rowspan=\"2\" valign=\"top\">2013</th>\n",
       "      <th>comb08</th>\n",
       "      <td>22.335118</td>\n",
       "    </tr>\n",
       "    <tr>\n",
       "      <th>displ</th>\n",
       "      <td>3.219807</td>\n",
       "    </tr>\n",
       "    <tr>\n",
       "      <th rowspan=\"2\" valign=\"top\">2014</th>\n",
       "      <th>comb08</th>\n",
       "      <td>22.248027</td>\n",
       "    </tr>\n",
       "    <tr>\n",
       "      <th>displ</th>\n",
       "      <td>3.312176</td>\n",
       "    </tr>\n",
       "  </tbody>\n",
       "</table>\n",
       "<p>62 rows × 1 columns</p>\n",
       "</div>"
      ],
      "text/plain": [
       "                     0\n",
       "year                  \n",
       "1984 comb08  19.121622\n",
       "     displ    3.068449\n",
       "1985 comb08  19.389358\n",
       "     displ    3.075990\n",
       "1986 comb08  19.320457\n",
       "     displ    3.126514\n",
       "1987 comb08  19.164568\n",
       "     displ    3.096474\n",
       "1988 comb08  19.367607\n",
       "     displ    3.113558\n",
       "1989 comb08  19.141964\n",
       "     displ    3.133393\n",
       "1990 comb08  19.031459\n",
       "     displ    3.145472\n",
       "1991 comb08  18.838060\n",
       "     displ    3.178957\n",
       "1992 comb08  18.861566\n",
       "     displ    3.224954\n",
       "1993 comb08  19.137383\n",
       "     displ    3.193832\n",
       "1994 comb08  19.092632\n",
       "     displ    3.233053\n",
       "1995 comb08  18.872591\n",
       "     displ    3.375161\n",
       "1996 comb08  19.530962\n",
       "     displ    3.205929\n",
       "1997 comb08  19.368000\n",
       "     displ    3.206267\n",
       "1998 comb08  19.329545\n",
       "     displ    3.197348\n",
       "...                ...\n",
       "2000 comb08  19.169345\n",
       "     displ    3.227070\n",
       "2001 comb08  19.075058\n",
       "     displ    3.216051\n",
       "2002 comb08  18.950270\n",
       "     displ    3.263568\n",
       "2003 comb08  18.761711\n",
       "     displ    3.340428\n",
       "2004 comb08  18.967339\n",
       "     displ    3.349568\n",
       "2005 comb08  19.005510\n",
       "     displ    3.384022\n",
       "2006 comb08  18.786398\n",
       "     displ    3.534387\n",
       "2007 comb08  18.987512\n",
       "     displ    3.569452\n",
       "2008 comb08  19.191781\n",
       "     displ    3.587032\n",
       "2009 comb08  19.738095\n",
       "     displ    3.522095\n",
       "2010 comb08  20.466736\n",
       "     displ    3.413306\n",
       "2011 comb08  20.961755\n",
       "     displ    3.376828\n",
       "2012 comb08  21.496767\n",
       "     displ    3.350862\n",
       "2013 comb08  22.335118\n",
       "     displ    3.219807\n",
       "2014 comb08  22.248027\n",
       "     displ    3.312176\n",
       "\n",
       "[62 rows x 1 columns]"
      ]
     },
     "execution_count": 117,
     "metadata": {},
     "output_type": "execute_result"
    }
   ],
   "source": [
    "df"
   ]
  },
  {
   "cell_type": "code",
   "execution_count": null,
   "metadata": {
    "collapsed": true
   },
   "outputs": [],
   "source": []
  }
 ],
 "metadata": {
  "kernelspec": {
   "display_name": "Python 2",
   "language": "python",
   "name": "python2"
  },
  "language_info": {
   "codemirror_mode": {
    "name": "ipython",
    "version": 2
   },
   "file_extension": ".py",
   "mimetype": "text/x-python",
   "name": "python",
   "nbconvert_exporter": "python",
   "pygments_lexer": "ipython2",
   "version": "2.7.10"
  }
 },
 "nbformat": 4,
 "nbformat_minor": 0
}

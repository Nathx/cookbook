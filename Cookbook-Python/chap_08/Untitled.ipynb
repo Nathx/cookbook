{
 "cells": [
  {
   "cell_type": "code",
   "execution_count": null,
   "metadata": {
    "collapsed": false
   },
   "outputs": [],
   "source": [
    "#!/usr/bin/env python\n",
    "# seven.random\n",
    "# Generate a random graph\n",
    "#\n",
    "# Author:   Benjamin Bengfort <benjamin@bengfort.com>\n",
    "# Created:  Fri Jan 10 00:01:54 2014 -0500\n",
    "#\n",
    "# ID: rgraph.py [] benjamin@bengfort.com $\n",
    "\n",
    "\"\"\"\n",
    "Generate a random graph\n",
    "\"\"\"\n",
    "\n",
    "import networkx as nx\n",
    "import matplotlib.pyplot as plt\n",
    "\n",
    "#G=nx.karate_club_graph()\n",
    "#G=nx.florentine_families_graph()\n",
    "G=nx.davis_southern_women_graph()\n",
    "pos=nx.spring_layout(G)\n",
    "\n",
    "# find node near center (0.5,0.5)\n",
    "dmin=1\n",
    "ncenter=0\n",
    "for n in pos:\n",
    "    x,y=pos[n]\n",
    "    d=(x-0.5)**2+(y-0.5)**2\n",
    "    if d<dmin:\n",
    "        ncenter=n\n",
    "        dmin=d\n",
    "\n",
    "# color by path length from node near center\n",
    "p=nx.single_source_shortest_path_length(G,ncenter)\n",
    "\n",
    "\n",
    "# Draw the graph\n",
    "plt.figure(figsize=(8,8))\n",
    "nx.draw_networkx_edges(G,pos,nodelist=[ncenter],alpha=0.4)\n",
    "nx.draw_networkx_nodes(G,pos,nodelist=p.keys(),\n",
    "                       node_size=90,\n",
    "                       node_color=p.values(),\n",
    "                       cmap=plt.cm.Reds_r)\n",
    "\n",
    "plt.xlim(-0.05,1.05)\n",
    "plt.ylim(-0.05,1.05)\n",
    "plt.axis('off')\n",
    "plt.savefig('figure/example_social_viz.png')\n",
    "plt.show()\n"
   ]
  },
  {
   "cell_type": "code",
   "execution_count": null,
   "metadata": {
    "collapsed": true
   },
   "outputs": [],
   "source": []
  }
 ],
 "metadata": {
  "kernelspec": {
   "display_name": "Python 2",
   "language": "python",
   "name": "python2"
  },
  "language_info": {
   "codemirror_mode": {
    "name": "ipython",
    "version": 2
   },
   "file_extension": ".py",
   "mimetype": "text/x-python",
   "name": "python",
   "nbconvert_exporter": "python",
   "pygments_lexer": "ipython2",
   "version": "2.7.10"
  }
 },
 "nbformat": 4,
 "nbformat_minor": 0
}

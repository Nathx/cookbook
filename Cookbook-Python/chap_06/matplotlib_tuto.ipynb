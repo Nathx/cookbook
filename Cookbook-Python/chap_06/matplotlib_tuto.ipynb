{
 "cells": [
  {
   "cell_type": "code",
   "execution_count": 30,
   "metadata": {
    "collapsed": false
   },
   "outputs": [
    {
     "data": {
      "image/png": "[encoded data removed]",
      "text/plain": [
       "<matplotlib.figure.Figure at 0x105d27510>"
      ]
     },
     "metadata": {},
     "output_type": "display_data"
    }
   ],
   "source": [
    "# http://pythonprogramming.net/matplotlib-python-3-basics-tutorial/\n",
    "%matplotlib inline\n",
    "\n",
    "from matplotlib import pyplot as plt\n",
    "from matplotlib import style\n",
    "\n",
    "style.use('ggplot')\n",
    "\n",
    "x = [5,8,10]\n",
    "y = [12,16,6]\n",
    "\n",
    "x2 = [5,8,10]\n",
    "y2 = [7,9,20]\n",
    "\n",
    "plt.scatter(x,y, color='g', label='Bar 1')\n",
    "plt.scatter(x2, y2, color='b', label='Bar 2')\n",
    "\n",
    "plt.legend()\n",
    "\n",
    "plt.grid(True, color = 'k')\n",
    "\n",
    "plt.title('Epic Info')\n",
    "plt.ylabel('Y axis')\n",
    "plt.xlabel('X axis')\n",
    "\n",
    "plt.show()"
   ]
  },
  {
   "cell_type": "code",
   "execution_count": 26,
   "metadata": {
    "collapsed": false
   },
   "outputs": [
    {
     "ename": "IOError",
     "evalue": "[Errno 2] No such file or directory: 'SampleData.txt'",
     "output_type": "error",
     "traceback": [
      "\u001b[0;31m---------------------------------------------------------------------------\u001b[0m",
      "\u001b[0;31mIOError\u001b[0m                                   Traceback (most recent call last)",
      "\u001b[0;32m<ipython-input-26-80ece696ac6e>\u001b[0m in \u001b[0;36m<module>\u001b[0;34m()\u001b[0m\n\u001b[1;32m      8\u001b[0m \u001b[0mrect\u001b[0m\u001b[0;34m.\u001b[0m\u001b[0mset_facecolor\u001b[0m\u001b[0;34m(\u001b[0m\u001b[0;34m'#31312e'\u001b[0m\u001b[0;34m)\u001b[0m\u001b[0;34m\u001b[0m\u001b[0m\n\u001b[1;32m      9\u001b[0m \u001b[0;34m\u001b[0m\u001b[0m\n\u001b[0;32m---> 10\u001b[0;31m \u001b[0mreadFile\u001b[0m \u001b[0;34m=\u001b[0m \u001b[0mopen\u001b[0m\u001b[0;34m(\u001b[0m\u001b[0;34m'SampleData.txt'\u001b[0m\u001b[0;34m,\u001b[0m\u001b[0;34m'r'\u001b[0m\u001b[0;34m)\u001b[0m\u001b[0;34m\u001b[0m\u001b[0m\n\u001b[0m\u001b[1;32m     11\u001b[0m \u001b[0msepFile\u001b[0m \u001b[0;34m=\u001b[0m \u001b[0mreadFile\u001b[0m\u001b[0;34m.\u001b[0m\u001b[0mread\u001b[0m\u001b[0;34m(\u001b[0m\u001b[0;34m)\u001b[0m\u001b[0;34m.\u001b[0m\u001b[0msplit\u001b[0m\u001b[0;34m(\u001b[0m\u001b[0;34m'\\n'\u001b[0m\u001b[0;34m)\u001b[0m\u001b[0;34m\u001b[0m\u001b[0m\n\u001b[1;32m     12\u001b[0m \u001b[0mreadFile\u001b[0m\u001b[0;34m.\u001b[0m\u001b[0mclose\u001b[0m\u001b[0;34m(\u001b[0m\u001b[0;34m)\u001b[0m\u001b[0;34m\u001b[0m\u001b[0m\n",
      "\u001b[0;31mIOError\u001b[0m: [Errno 2] No such file or directory: 'SampleData.txt'"
     ]
    },
    {
     "data": {
      "text/plain": [
       "<matplotlib.figure.Figure at 0x105c06c50>"
      ]
     },
     "metadata": {},
     "output_type": "display_data"
    }
   ],
   "source": [
    "import matplotlib.pyplot as plt\n",
    "\n",
    "x = []\n",
    "y = []\n",
    "\n",
    "fig = plt.figure()\n",
    "rect = fig.patch\n",
    "rect.set_facecolor('#31312e')\n",
    "\n",
    "readFile = open('SampleData.txt','r')\n",
    "sepFile = readFile.read().split('\\n')\n",
    "readFile.close()\n",
    "\n",
    "for plotPair in sepFile:\n",
    "    xAndY = plotPair.split(',')\n",
    "    x.append(int(xAndY[0]))\n",
    "    y.append(int(xAndY[1]))\n",
    "\n",
    "ax1 = fig.add_subplot(2,2,1, axisbg='grey')\n",
    "ax1.plot(x, y, 'c', linewidth=3.3)\n",
    "ax1.tick_params(axis='x', colors='c')\n",
    "ax1.tick_params(axis='y', colors='c')\n",
    "ax1.spines['bottom'].set_color('w')\n",
    "ax1.spines['top'].set_color('w')\n",
    "ax1.spines['left'].set_color('w')\n",
    "ax1.spines['right'].set_color('w')\n",
    "ax1.yaxis.label.set_color('c')\n",
    "ax1.xaxis.label.set_color('c')\n",
    "ax1.set_title('Matplotlib graph', color = 'c')\n",
    "ax1.set_xlabel('x axis')\n",
    "ax1.set_ylabel('y axis')\n",
    "\n",
    "ax2 = fig.add_subplot(2,2,2, axisbg='grey')\n",
    "ax2.plot(x, y, 'c', linewidth=3.3)\n",
    "ax2.tick_params(axis='x', colors='c')\n",
    "ax2.tick_params(axis='y', colors='c')\n",
    "ax2.spines['bottom'].set_color('w')\n",
    "ax2.spines['top'].set_color('w')\n",
    "ax2.spines['left'].set_color('w')\n",
    "ax2.spines['right'].set_color('w')\n",
    "ax2.yaxis.label.set_color('c')\n",
    "ax2.xaxis.label.set_color('c')\n",
    "ax2.set_title('Matplotlib graph', color = 'c')\n",
    "ax2.set_xlabel('x axis')\n",
    "ax2.set_ylabel('y axis')\n",
    "\n",
    "ax3 = fig.add_subplot(2,1,2, axisbg='grey')\n",
    "ax3.plot(x, y, 'c', linewidth=3.3)\n",
    "ax3.tick_params(axis='x', colors='c')\n",
    "ax3.tick_params(axis='y', colors='c')\n",
    "ax3.spines['bottom'].set_color('w')\n",
    "ax3.spines['top'].set_color('w')\n",
    "ax3.spines['left'].set_color('w')\n",
    "ax3.spines['right'].set_color('w')\n",
    "ax3.yaxis.label.set_color('c')\n",
    "ax3.xaxis.label.set_color('c')\n",
    "ax3.set_title('Matplotlib graph', color = 'c')\n",
    "ax3.set_xlabel('x axis')\n",
    "ax3.set_ylabel('y axis')\n",
    "\n",
    "plt.show()   "
   ]
  },
  {
   "cell_type": "code",
   "execution_count": null,
   "metadata": {
    "collapsed": true
   },
   "outputs": [],
   "source": []
  }
 ],
 "metadata": {
  "kernelspec": {
   "display_name": "Python 2",
   "language": "python",
   "name": "python2"
  },
  "language_info": {
   "codemirror_mode": {
    "name": "ipython",
    "version": 2
   },
   "file_extension": ".py",
   "mimetype": "text/x-python",
   "name": "python",
   "nbconvert_exporter": "python",
   "pygments_lexer": "ipython2",
   "version": "2.7.10"
  }
 },
 "nbformat": 4,
 "nbformat_minor": 0
}

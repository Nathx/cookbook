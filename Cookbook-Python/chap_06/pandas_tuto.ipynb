{
 "cells": [
  {
   "cell_type": "code",
   "execution_count": 1,
   "metadata": {
    "collapsed": false
   },
   "outputs": [],
   "source": [
    "%matplotlib inline\n",
    "import pandas as pd\n",
    "import numpy as np\n",
    "import matplotlib.pyplot as plt"
   ]
  },
  {
   "cell_type": "code",
   "execution_count": 3,
   "metadata": {
    "collapsed": false
   },
   "outputs": [
    {
     "data": {
      "text/plain": [
       "0    1.0\n",
       "1    3.0\n",
       "2    4.2\n",
       "3    NaN\n",
       "4    6.0\n",
       "5    8.0\n",
       "dtype: float64"
      ]
     },
     "execution_count": 3,
     "metadata": {},
     "output_type": "execute_result"
    }
   ],
   "source": [
    "s = pd.Series([1,3,4.2,np.nan, 6,8])\n",
    "s"
   ]
  },
  {
   "cell_type": "code",
   "execution_count": 4,
   "metadata": {
    "collapsed": false
   },
   "outputs": [
    {
     "data": {
      "text/plain": [
       "DatetimeIndex(['2015-10-31', '2015-11-30', '2015-12-31', '2016-01-31',\n",
       "               '2016-02-29', '2016-03-31'],\n",
       "              dtype='datetime64[ns]', freq='M')"
      ]
     },
     "execution_count": 4,
     "metadata": {},
     "output_type": "execute_result"
    }
   ],
   "source": [
    "dates = pd.date_range('20151021', periods=6, freq='M')\n",
    "dates"
   ]
  },
  {
   "cell_type": "code",
   "execution_count": 5,
   "metadata": {
    "collapsed": false
   },
   "outputs": [
    {
     "data": {
      "text/html": [
       "<div>\n",
       "<table border=\"1\" class=\"dataframe\">\n",
       "  <thead>\n",
       "    <tr style=\"text-align: right;\">\n",
       "      <th></th>\n",
       "      <th>A</th>\n",
       "      <th>B</th>\n",
       "      <th>C</th>\n",
       "      <th>D</th>\n",
       "    </tr>\n",
       "  </thead>\n",
       "  <tbody>\n",
       "    <tr>\n",
       "      <th>2015-10-31</th>\n",
       "      <td>-0.565011</td>\n",
       "      <td>0.989261</td>\n",
       "      <td>0.436903</td>\n",
       "      <td>0.431832</td>\n",
       "    </tr>\n",
       "    <tr>\n",
       "      <th>2015-11-30</th>\n",
       "      <td>0.623765</td>\n",
       "      <td>-0.219367</td>\n",
       "      <td>0.093722</td>\n",
       "      <td>0.580510</td>\n",
       "    </tr>\n",
       "    <tr>\n",
       "      <th>2015-12-31</th>\n",
       "      <td>-0.350478</td>\n",
       "      <td>-0.124603</td>\n",
       "      <td>-2.400896</td>\n",
       "      <td>-1.115065</td>\n",
       "    </tr>\n",
       "    <tr>\n",
       "      <th>2016-01-31</th>\n",
       "      <td>0.196781</td>\n",
       "      <td>0.590917</td>\n",
       "      <td>0.249090</td>\n",
       "      <td>0.076621</td>\n",
       "    </tr>\n",
       "    <tr>\n",
       "      <th>2016-02-29</th>\n",
       "      <td>-0.173076</td>\n",
       "      <td>0.388587</td>\n",
       "      <td>0.886159</td>\n",
       "      <td>-0.498459</td>\n",
       "    </tr>\n",
       "    <tr>\n",
       "      <th>2016-03-31</th>\n",
       "      <td>-0.070825</td>\n",
       "      <td>1.190561</td>\n",
       "      <td>-0.417703</td>\n",
       "      <td>-2.144027</td>\n",
       "    </tr>\n",
       "  </tbody>\n",
       "</table>\n",
       "</div>"
      ],
      "text/plain": [
       "                   A         B         C         D\n",
       "2015-10-31 -0.565011  0.989261  0.436903  0.431832\n",
       "2015-11-30  0.623765 -0.219367  0.093722  0.580510\n",
       "2015-12-31 -0.350478 -0.124603 -2.400896 -1.115065\n",
       "2016-01-31  0.196781  0.590917  0.249090  0.076621\n",
       "2016-02-29 -0.173076  0.388587  0.886159 -0.498459\n",
       "2016-03-31 -0.070825  1.190561 -0.417703 -2.144027"
      ]
     },
     "execution_count": 5,
     "metadata": {},
     "output_type": "execute_result"
    }
   ],
   "source": [
    "df = pd.DataFrame(np.random.randn(6,4), index=dates, columns=list('ABCD'))\n",
    "df"
   ]
  },
  {
   "cell_type": "code",
   "execution_count": 6,
   "metadata": {
    "collapsed": false
   },
   "outputs": [
    {
     "data": {
      "text/plain": [
       "A           float64\n",
       "B    datetime64[ns]\n",
       "C           float32\n",
       "D             int32\n",
       "E          category\n",
       "F            object\n",
       "dtype: object"
      ]
     },
     "execution_count": 6,
     "metadata": {},
     "output_type": "execute_result"
    }
   ],
   "source": [
    "df2 = pd.DataFrame({\n",
    "        'A': 1.,\n",
    "        'B': pd.Timestamp('20151021'),\n",
    "        'C': pd.Series(1, index=list(range(4)), dtype='float32'),\n",
    "        'D': np.array([3**i for i in range(4)], dtype='int32'),\n",
    "        'E': pd.Categorical([\"test\", \"train\"]*2),\n",
    "        'F': list('love') \n",
    "    })\n",
    "df2\n",
    "df2.dtypes"
   ]
  },
  {
   "cell_type": "code",
   "execution_count": 26,
   "metadata": {
    "collapsed": false
   },
   "outputs": [
    {
     "data": {
      "text/html": [
       "<div>\n",
       "<table border=\"1\" class=\"dataframe\">\n",
       "  <thead>\n",
       "    <tr style=\"text-align: right;\">\n",
       "      <th></th>\n",
       "      <th>A</th>\n",
       "      <th>B</th>\n",
       "      <th>C</th>\n",
       "      <th>D</th>\n",
       "    </tr>\n",
       "  </thead>\n",
       "  <tbody>\n",
       "    <tr>\n",
       "      <th>2015-10-31</th>\n",
       "      <td>-0.958962</td>\n",
       "      <td>-0.668139</td>\n",
       "      <td>0.215051</td>\n",
       "      <td>-0.205290</td>\n",
       "    </tr>\n",
       "    <tr>\n",
       "      <th>2015-11-30</th>\n",
       "      <td>0.647750</td>\n",
       "      <td>-1.835859</td>\n",
       "      <td>-0.897387</td>\n",
       "      <td>-1.708646</td>\n",
       "    </tr>\n",
       "    <tr>\n",
       "      <th>2015-12-31</th>\n",
       "      <td>-0.685536</td>\n",
       "      <td>0.114655</td>\n",
       "      <td>1.285240</td>\n",
       "      <td>0.039606</td>\n",
       "    </tr>\n",
       "    <tr>\n",
       "      <th>2016-01-31</th>\n",
       "      <td>0.346325</td>\n",
       "      <td>0.309782</td>\n",
       "      <td>-1.684002</td>\n",
       "      <td>-0.731317</td>\n",
       "    </tr>\n",
       "    <tr>\n",
       "      <th>2016-02-29</th>\n",
       "      <td>-0.053710</td>\n",
       "      <td>1.021731</td>\n",
       "      <td>1.219823</td>\n",
       "      <td>-0.414801</td>\n",
       "    </tr>\n",
       "    <tr>\n",
       "      <th>2016-03-31</th>\n",
       "      <td>-1.036240</td>\n",
       "      <td>-0.905518</td>\n",
       "      <td>0.290285</td>\n",
       "      <td>-0.205974</td>\n",
       "    </tr>\n",
       "  </tbody>\n",
       "</table>\n",
       "</div>"
      ],
      "text/plain": [
       "                   A         B         C         D\n",
       "2015-10-31 -0.958962 -0.668139  0.215051 -0.205290\n",
       "2015-11-30  0.647750 -1.835859 -0.897387 -1.708646\n",
       "2015-12-31 -0.685536  0.114655  1.285240  0.039606\n",
       "2016-01-31  0.346325  0.309782 -1.684002 -0.731317\n",
       "2016-02-29 -0.053710  1.021731  1.219823 -0.414801\n",
       "2016-03-31 -1.036240 -0.905518  0.290285 -0.205974"
      ]
     },
     "execution_count": 26,
     "metadata": {},
     "output_type": "execute_result"
    }
   ],
   "source": [
    "df.A.values\n",
    "df2.describe()\n",
    "df"
   ]
  },
  {
   "cell_type": "code",
   "execution_count": 22,
   "metadata": {
    "collapsed": false
   },
   "outputs": [
    {
     "data": {
      "text/plain": [
       "-0.9589621168399769"
      ]
     },
     "execution_count": 22,
     "metadata": {},
     "output_type": "execute_result"
    }
   ],
   "source": [
    "df.at[dates[0], 'A']"
   ]
  },
  {
   "cell_type": "code",
   "execution_count": 34,
   "metadata": {
    "collapsed": false
   },
   "outputs": [
    {
     "data": {
      "text/html": [
       "<div>\n",
       "<table border=\"1\" class=\"dataframe\">\n",
       "  <thead>\n",
       "    <tr style=\"text-align: right;\">\n",
       "      <th></th>\n",
       "      <th>A</th>\n",
       "      <th>B</th>\n",
       "      <th>C</th>\n",
       "      <th>D</th>\n",
       "      <th>E</th>\n",
       "    </tr>\n",
       "  </thead>\n",
       "  <tbody>\n",
       "    <tr>\n",
       "      <th>2015-10-31</th>\n",
       "      <td>-0.958962</td>\n",
       "      <td>-0.668139</td>\n",
       "      <td>0.215051</td>\n",
       "      <td>-0.205290</td>\n",
       "      <td>one</td>\n",
       "    </tr>\n",
       "    <tr>\n",
       "      <th>2015-11-30</th>\n",
       "      <td>0.647750</td>\n",
       "      <td>-1.835859</td>\n",
       "      <td>-0.897387</td>\n",
       "      <td>-1.708646</td>\n",
       "      <td>one</td>\n",
       "    </tr>\n",
       "    <tr>\n",
       "      <th>2015-12-31</th>\n",
       "      <td>-0.685536</td>\n",
       "      <td>0.114655</td>\n",
       "      <td>1.285240</td>\n",
       "      <td>0.039606</td>\n",
       "      <td>two</td>\n",
       "    </tr>\n",
       "    <tr>\n",
       "      <th>2016-01-31</th>\n",
       "      <td>0.346325</td>\n",
       "      <td>0.309782</td>\n",
       "      <td>-1.684002</td>\n",
       "      <td>-0.731317</td>\n",
       "      <td>three</td>\n",
       "    </tr>\n",
       "    <tr>\n",
       "      <th>2016-02-29</th>\n",
       "      <td>-0.053710</td>\n",
       "      <td>1.021731</td>\n",
       "      <td>1.219823</td>\n",
       "      <td>-0.414801</td>\n",
       "      <td>four</td>\n",
       "    </tr>\n",
       "    <tr>\n",
       "      <th>2016-03-31</th>\n",
       "      <td>-1.036240</td>\n",
       "      <td>-0.905518</td>\n",
       "      <td>0.290285</td>\n",
       "      <td>-0.205974</td>\n",
       "      <td>three</td>\n",
       "    </tr>\n",
       "  </tbody>\n",
       "</table>\n",
       "</div>"
      ],
      "text/plain": [
       "                   A         B         C         D      E\n",
       "2015-10-31 -0.958962 -0.668139  0.215051 -0.205290    one\n",
       "2015-11-30  0.647750 -1.835859 -0.897387 -1.708646    one\n",
       "2015-12-31 -0.685536  0.114655  1.285240  0.039606    two\n",
       "2016-01-31  0.346325  0.309782 -1.684002 -0.731317  three\n",
       "2016-02-29 -0.053710  1.021731  1.219823 -0.414801   four\n",
       "2016-03-31 -1.036240 -0.905518  0.290285 -0.205974  three"
      ]
     },
     "execution_count": 34,
     "metadata": {},
     "output_type": "execute_result"
    }
   ],
   "source": [
    "df2 = df.copy()\n",
    "df2['E'] = ['one', 'one','two','three','four','three']\n",
    "df2"
   ]
  },
  {
   "cell_type": "code",
   "execution_count": 35,
   "metadata": {
    "collapsed": false
   },
   "outputs": [
    {
     "data": {
      "text/html": [
       "<div>\n",
       "<table border=\"1\" class=\"dataframe\">\n",
       "  <thead>\n",
       "    <tr style=\"text-align: right;\">\n",
       "      <th></th>\n",
       "      <th>A</th>\n",
       "      <th>B</th>\n",
       "      <th>C</th>\n",
       "      <th>D</th>\n",
       "      <th>E</th>\n",
       "    </tr>\n",
       "  </thead>\n",
       "  <tbody>\n",
       "    <tr>\n",
       "      <th>2015-12-31</th>\n",
       "      <td>-0.685536</td>\n",
       "      <td>0.114655</td>\n",
       "      <td>1.285240</td>\n",
       "      <td>0.039606</td>\n",
       "      <td>two</td>\n",
       "    </tr>\n",
       "    <tr>\n",
       "      <th>2016-02-29</th>\n",
       "      <td>-0.053710</td>\n",
       "      <td>1.021731</td>\n",
       "      <td>1.219823</td>\n",
       "      <td>-0.414801</td>\n",
       "      <td>four</td>\n",
       "    </tr>\n",
       "  </tbody>\n",
       "</table>\n",
       "</div>"
      ],
      "text/plain": [
       "                   A         B         C         D     E\n",
       "2015-12-31 -0.685536  0.114655  1.285240  0.039606   two\n",
       "2016-02-29 -0.053710  1.021731  1.219823 -0.414801  four"
      ]
     },
     "execution_count": 35,
     "metadata": {},
     "output_type": "execute_result"
    }
   ],
   "source": [
    "df2[df2.E.isin(['two','four'])]"
   ]
  },
  {
   "cell_type": "code",
   "execution_count": 40,
   "metadata": {
    "collapsed": true
   },
   "outputs": [],
   "source": [
    "s1 = pd.Series([1,2,3,4,5,6], index=pd.date_range('20150921', periods=6, freq='M'))\n",
    "df['F'] = s1"
   ]
  },
  {
   "cell_type": "code",
   "execution_count": 41,
   "metadata": {
    "collapsed": false
   },
   "outputs": [
    {
     "data": {
      "text/html": [
       "<div>\n",
       "<table border=\"1\" class=\"dataframe\">\n",
       "  <thead>\n",
       "    <tr style=\"text-align: right;\">\n",
       "      <th></th>\n",
       "      <th>A</th>\n",
       "      <th>B</th>\n",
       "      <th>C</th>\n",
       "      <th>D</th>\n",
       "      <th>F</th>\n",
       "    </tr>\n",
       "  </thead>\n",
       "  <tbody>\n",
       "    <tr>\n",
       "      <th>2015-10-31</th>\n",
       "      <td>-0.958962</td>\n",
       "      <td>-0.668139</td>\n",
       "      <td>0.215051</td>\n",
       "      <td>-0.205290</td>\n",
       "      <td>2</td>\n",
       "    </tr>\n",
       "    <tr>\n",
       "      <th>2015-11-30</th>\n",
       "      <td>0.647750</td>\n",
       "      <td>-1.835859</td>\n",
       "      <td>-0.897387</td>\n",
       "      <td>-1.708646</td>\n",
       "      <td>3</td>\n",
       "    </tr>\n",
       "    <tr>\n",
       "      <th>2015-12-31</th>\n",
       "      <td>-0.685536</td>\n",
       "      <td>0.114655</td>\n",
       "      <td>1.285240</td>\n",
       "      <td>0.039606</td>\n",
       "      <td>4</td>\n",
       "    </tr>\n",
       "    <tr>\n",
       "      <th>2016-01-31</th>\n",
       "      <td>0.346325</td>\n",
       "      <td>0.309782</td>\n",
       "      <td>-1.684002</td>\n",
       "      <td>-0.731317</td>\n",
       "      <td>5</td>\n",
       "    </tr>\n",
       "    <tr>\n",
       "      <th>2016-02-29</th>\n",
       "      <td>-0.053710</td>\n",
       "      <td>1.021731</td>\n",
       "      <td>1.219823</td>\n",
       "      <td>-0.414801</td>\n",
       "      <td>6</td>\n",
       "    </tr>\n",
       "    <tr>\n",
       "      <th>2016-03-31</th>\n",
       "      <td>-1.036240</td>\n",
       "      <td>-0.905518</td>\n",
       "      <td>0.290285</td>\n",
       "      <td>-0.205974</td>\n",
       "      <td>NaN</td>\n",
       "    </tr>\n",
       "  </tbody>\n",
       "</table>\n",
       "</div>"
      ],
      "text/plain": [
       "                   A         B         C         D   F\n",
       "2015-10-31 -0.958962 -0.668139  0.215051 -0.205290   2\n",
       "2015-11-30  0.647750 -1.835859 -0.897387 -1.708646   3\n",
       "2015-12-31 -0.685536  0.114655  1.285240  0.039606   4\n",
       "2016-01-31  0.346325  0.309782 -1.684002 -0.731317   5\n",
       "2016-02-29 -0.053710  1.021731  1.219823 -0.414801   6\n",
       "2016-03-31 -1.036240 -0.905518  0.290285 -0.205974 NaN"
      ]
     },
     "execution_count": 41,
     "metadata": {},
     "output_type": "execute_result"
    }
   ],
   "source": [
    "df"
   ]
  },
  {
   "cell_type": "code",
   "execution_count": 42,
   "metadata": {
    "collapsed": true
   },
   "outputs": [],
   "source": [
    "df1 = df.reindex(index=dates[0:4], columns=list(df.columns) + ['E'])"
   ]
  },
  {
   "cell_type": "code",
   "execution_count": 55,
   "metadata": {
    "collapsed": false
   },
   "outputs": [
    {
     "data": {
      "text/html": [
       "<div>\n",
       "<table border=\"1\" class=\"dataframe\">\n",
       "  <thead>\n",
       "    <tr style=\"text-align: right;\">\n",
       "      <th></th>\n",
       "      <th>A</th>\n",
       "      <th>B</th>\n",
       "      <th>C</th>\n",
       "      <th>D</th>\n",
       "      <th>F</th>\n",
       "      <th>E</th>\n",
       "    </tr>\n",
       "  </thead>\n",
       "  <tbody>\n",
       "    <tr>\n",
       "      <th>2015-10-31</th>\n",
       "      <td>-0.958962</td>\n",
       "      <td>-0.668139</td>\n",
       "      <td>0.215051</td>\n",
       "      <td>-0.205290</td>\n",
       "      <td>NaN</td>\n",
       "      <td>1</td>\n",
       "    </tr>\n",
       "    <tr>\n",
       "      <th>2015-11-30</th>\n",
       "      <td>0.647750</td>\n",
       "      <td>-1.835859</td>\n",
       "      <td>-0.897387</td>\n",
       "      <td>-1.708646</td>\n",
       "      <td>3</td>\n",
       "      <td>1</td>\n",
       "    </tr>\n",
       "    <tr>\n",
       "      <th>2015-12-31</th>\n",
       "      <td>-0.685536</td>\n",
       "      <td>0.114655</td>\n",
       "      <td>1.285240</td>\n",
       "      <td>0.039606</td>\n",
       "      <td>4</td>\n",
       "      <td>1</td>\n",
       "    </tr>\n",
       "    <tr>\n",
       "      <th>2016-01-31</th>\n",
       "      <td>0.346325</td>\n",
       "      <td>0.309782</td>\n",
       "      <td>-1.684002</td>\n",
       "      <td>-0.731317</td>\n",
       "      <td>5</td>\n",
       "      <td>NaN</td>\n",
       "    </tr>\n",
       "  </tbody>\n",
       "</table>\n",
       "</div>"
      ],
      "text/plain": [
       "                   A         B         C         D   F   E\n",
       "2015-10-31 -0.958962 -0.668139  0.215051 -0.205290 NaN   1\n",
       "2015-11-30  0.647750 -1.835859 -0.897387 -1.708646   3   1\n",
       "2015-12-31 -0.685536  0.114655  1.285240  0.039606   4   1\n",
       "2016-01-31  0.346325  0.309782 -1.684002 -0.731317   5 NaN"
      ]
     },
     "execution_count": 55,
     "metadata": {},
     "output_type": "execute_result"
    }
   ],
   "source": [
    "df1.fillna(method='pad', limit=1)"
   ]
  },
  {
   "cell_type": "code",
   "execution_count": 56,
   "metadata": {
    "collapsed": false
   },
   "outputs": [
    {
     "data": {
      "text/html": [
       "<div>\n",
       "<table border=\"1\" class=\"dataframe\">\n",
       "  <thead>\n",
       "    <tr style=\"text-align: right;\">\n",
       "      <th></th>\n",
       "      <th>A</th>\n",
       "      <th>B</th>\n",
       "      <th>C</th>\n",
       "      <th>D</th>\n",
       "      <th>F</th>\n",
       "      <th>E</th>\n",
       "    </tr>\n",
       "  </thead>\n",
       "  <tbody>\n",
       "    <tr>\n",
       "      <th>2015-10-31</th>\n",
       "      <td>False</td>\n",
       "      <td>False</td>\n",
       "      <td>False</td>\n",
       "      <td>False</td>\n",
       "      <td>True</td>\n",
       "      <td>False</td>\n",
       "    </tr>\n",
       "    <tr>\n",
       "      <th>2015-11-30</th>\n",
       "      <td>False</td>\n",
       "      <td>False</td>\n",
       "      <td>False</td>\n",
       "      <td>False</td>\n",
       "      <td>False</td>\n",
       "      <td>False</td>\n",
       "    </tr>\n",
       "    <tr>\n",
       "      <th>2015-12-31</th>\n",
       "      <td>False</td>\n",
       "      <td>False</td>\n",
       "      <td>False</td>\n",
       "      <td>False</td>\n",
       "      <td>False</td>\n",
       "      <td>True</td>\n",
       "    </tr>\n",
       "    <tr>\n",
       "      <th>2016-01-31</th>\n",
       "      <td>False</td>\n",
       "      <td>False</td>\n",
       "      <td>False</td>\n",
       "      <td>False</td>\n",
       "      <td>False</td>\n",
       "      <td>True</td>\n",
       "    </tr>\n",
       "  </tbody>\n",
       "</table>\n",
       "</div>"
      ],
      "text/plain": [
       "                A      B      C      D      F      E\n",
       "2015-10-31  False  False  False  False   True  False\n",
       "2015-11-30  False  False  False  False  False  False\n",
       "2015-12-31  False  False  False  False  False   True\n",
       "2016-01-31  False  False  False  False  False   True"
      ]
     },
     "execution_count": 56,
     "metadata": {},
     "output_type": "execute_result"
    }
   ],
   "source": [
    "pd.isnull(df1)"
   ]
  },
  {
   "cell_type": "code",
   "execution_count": 63,
   "metadata": {
    "collapsed": false
   },
   "outputs": [
    {
     "data": {
      "text/html": [
       "<div>\n",
       "<table border=\"1\" class=\"dataframe\">\n",
       "  <thead>\n",
       "    <tr style=\"text-align: right;\">\n",
       "      <th></th>\n",
       "      <th>A</th>\n",
       "      <th>B</th>\n",
       "      <th>C</th>\n",
       "      <th>D</th>\n",
       "      <th>F</th>\n",
       "      <th>E</th>\n",
       "    </tr>\n",
       "  </thead>\n",
       "  <tbody>\n",
       "    <tr>\n",
       "      <th>2015-10-31</th>\n",
       "      <td>-0.958962</td>\n",
       "      <td>-0.668139</td>\n",
       "      <td>0.215051</td>\n",
       "      <td>-0.205290</td>\n",
       "      <td>NaN</td>\n",
       "      <td>1</td>\n",
       "    </tr>\n",
       "    <tr>\n",
       "      <th>2015-11-30</th>\n",
       "      <td>NaN</td>\n",
       "      <td>NaN</td>\n",
       "      <td>NaN</td>\n",
       "      <td>NaN</td>\n",
       "      <td>NaN</td>\n",
       "      <td>NaN</td>\n",
       "    </tr>\n",
       "    <tr>\n",
       "      <th>2015-12-31</th>\n",
       "      <td>-0.685536</td>\n",
       "      <td>0.114655</td>\n",
       "      <td>1.285240</td>\n",
       "      <td>0.039606</td>\n",
       "      <td>4</td>\n",
       "      <td>NaN</td>\n",
       "    </tr>\n",
       "    <tr>\n",
       "      <th>2016-01-31</th>\n",
       "      <td>0.346325</td>\n",
       "      <td>0.309782</td>\n",
       "      <td>-1.684002</td>\n",
       "      <td>-0.731317</td>\n",
       "      <td>5</td>\n",
       "      <td>NaN</td>\n",
       "    </tr>\n",
       "  </tbody>\n",
       "</table>\n",
       "</div>"
      ],
      "text/plain": [
       "                   A         B         C         D   F   E\n",
       "2015-10-31 -0.958962 -0.668139  0.215051 -0.205290 NaN   1\n",
       "2015-11-30       NaN       NaN       NaN       NaN NaN NaN\n",
       "2015-12-31 -0.685536  0.114655  1.285240  0.039606   4 NaN\n",
       "2016-01-31  0.346325  0.309782 -1.684002 -0.731317   5 NaN"
      ]
     },
     "execution_count": 63,
     "metadata": {},
     "output_type": "execute_result"
    }
   ],
   "source": [
    "df1"
   ]
  },
  {
   "cell_type": "code",
   "execution_count": 74,
   "metadata": {
    "collapsed": false
   },
   "outputs": [],
   "source": [
    "df1 = df1.fillna(df1.mean())"
   ]
  },
  {
   "cell_type": "code",
   "execution_count": 75,
   "metadata": {
    "collapsed": false
   },
   "outputs": [
    {
     "data": {
      "text/plain": [
       "2015-10-31    0.647110\n",
       "2015-11-30    0.770967\n",
       "2015-12-31    0.958994\n",
       "2016-01-31    0.706798\n",
       "Freq: M, dtype: float64"
      ]
     },
     "execution_count": 75,
     "metadata": {},
     "output_type": "execute_result"
    }
   ],
   "source": [
    "df1.mean(1)"
   ]
  },
  {
   "cell_type": "code",
   "execution_count": 76,
   "metadata": {
    "collapsed": false
   },
   "outputs": [
    {
     "data": {
      "text/plain": [
       "2015-10-31   NaN\n",
       "2015-11-30     1\n",
       "2015-12-31     3\n",
       "2016-01-31   NaN\n",
       "Freq: M, dtype: float64"
      ]
     },
     "execution_count": 76,
     "metadata": {},
     "output_type": "execute_result"
    }
   ],
   "source": [
    "s = pd.Series([None, 1,3,None], index = dates[0:4])\n",
    "s"
   ]
  },
  {
   "cell_type": "code",
   "execution_count": 83,
   "metadata": {
    "collapsed": false
   },
   "outputs": [
    {
     "data": {
      "text/html": [
       "<div>\n",
       "<table border=\"1\" class=\"dataframe\">\n",
       "  <thead>\n",
       "    <tr style=\"text-align: right;\">\n",
       "      <th></th>\n",
       "      <th>A</th>\n",
       "      <th>B</th>\n",
       "      <th>C</th>\n",
       "      <th>D</th>\n",
       "      <th>F</th>\n",
       "      <th>E</th>\n",
       "    </tr>\n",
       "  </thead>\n",
       "  <tbody>\n",
       "    <tr>\n",
       "      <th>2015-10-31</th>\n",
       "      <td>-0.958962</td>\n",
       "      <td>-0.668139</td>\n",
       "      <td>0.215051</td>\n",
       "      <td>-0.205290</td>\n",
       "      <td>4.5</td>\n",
       "      <td>1</td>\n",
       "    </tr>\n",
       "    <tr>\n",
       "      <th>2015-11-30</th>\n",
       "      <td>-0.432724</td>\n",
       "      <td>-0.081234</td>\n",
       "      <td>-0.061237</td>\n",
       "      <td>-0.299000</td>\n",
       "      <td>4.5</td>\n",
       "      <td>1</td>\n",
       "    </tr>\n",
       "    <tr>\n",
       "      <th>2015-12-31</th>\n",
       "      <td>-0.685536</td>\n",
       "      <td>0.114655</td>\n",
       "      <td>1.285240</td>\n",
       "      <td>0.039606</td>\n",
       "      <td>4.0</td>\n",
       "      <td>1</td>\n",
       "    </tr>\n",
       "    <tr>\n",
       "      <th>2016-01-31</th>\n",
       "      <td>0.346325</td>\n",
       "      <td>0.309782</td>\n",
       "      <td>-1.684002</td>\n",
       "      <td>-0.731317</td>\n",
       "      <td>5.0</td>\n",
       "      <td>1</td>\n",
       "    </tr>\n",
       "  </tbody>\n",
       "</table>\n",
       "</div>"
      ],
      "text/plain": [
       "                   A         B         C         D    F  E\n",
       "2015-10-31 -0.958962 -0.668139  0.215051 -0.205290  4.5  1\n",
       "2015-11-30 -0.432724 -0.081234 -0.061237 -0.299000  4.5  1\n",
       "2015-12-31 -0.685536  0.114655  1.285240  0.039606  4.0  1\n",
       "2016-01-31  0.346325  0.309782 -1.684002 -0.731317  5.0  1"
      ]
     },
     "execution_count": 83,
     "metadata": {},
     "output_type": "execute_result"
    }
   ],
   "source": [
    "df1"
   ]
  },
  {
   "cell_type": "code",
   "execution_count": 86,
   "metadata": {
    "collapsed": false
   },
   "outputs": [
    {
     "data": {
      "text/plain": [
       "4.5    2\n",
       "5.0    1\n",
       "4.0    1\n",
       "Name: F, dtype: int64"
      ]
     },
     "execution_count": 86,
     "metadata": {},
     "output_type": "execute_result"
    }
   ],
   "source": [
    "df1.F.value_counts()"
   ]
  },
  {
   "cell_type": "code",
   "execution_count": 88,
   "metadata": {
    "collapsed": false
   },
   "outputs": [
    {
     "data": {
      "text/html": [
       "<div>\n",
       "<table border=\"1\" class=\"dataframe\">\n",
       "  <thead>\n",
       "    <tr style=\"text-align: right;\">\n",
       "      <th></th>\n",
       "      <th>0</th>\n",
       "      <th>1</th>\n",
       "      <th>2</th>\n",
       "      <th>3</th>\n",
       "    </tr>\n",
       "  </thead>\n",
       "  <tbody>\n",
       "    <tr>\n",
       "      <th>0</th>\n",
       "      <td>0.584247</td>\n",
       "      <td>-1.340950</td>\n",
       "      <td>-0.218932</td>\n",
       "      <td>0.044229</td>\n",
       "    </tr>\n",
       "    <tr>\n",
       "      <th>1</th>\n",
       "      <td>0.115596</td>\n",
       "      <td>0.694788</td>\n",
       "      <td>-1.999149</td>\n",
       "      <td>-2.313371</td>\n",
       "    </tr>\n",
       "    <tr>\n",
       "      <th>2</th>\n",
       "      <td>1.002796</td>\n",
       "      <td>-0.744915</td>\n",
       "      <td>-1.390048</td>\n",
       "      <td>2.161679</td>\n",
       "    </tr>\n",
       "    <tr>\n",
       "      <th>3</th>\n",
       "      <td>0.751375</td>\n",
       "      <td>-0.577282</td>\n",
       "      <td>-1.400061</td>\n",
       "      <td>-1.408320</td>\n",
       "    </tr>\n",
       "    <tr>\n",
       "      <th>4</th>\n",
       "      <td>-1.339663</td>\n",
       "      <td>0.457674</td>\n",
       "      <td>0.328793</td>\n",
       "      <td>0.243270</td>\n",
       "    </tr>\n",
       "    <tr>\n",
       "      <th>5</th>\n",
       "      <td>-0.327296</td>\n",
       "      <td>-0.031824</td>\n",
       "      <td>-0.268248</td>\n",
       "      <td>-0.810144</td>\n",
       "    </tr>\n",
       "    <tr>\n",
       "      <th>6</th>\n",
       "      <td>0.779255</td>\n",
       "      <td>0.529583</td>\n",
       "      <td>-0.090942</td>\n",
       "      <td>-0.525734</td>\n",
       "    </tr>\n",
       "    <tr>\n",
       "      <th>7</th>\n",
       "      <td>0.299773</td>\n",
       "      <td>-3.054527</td>\n",
       "      <td>0.112191</td>\n",
       "      <td>0.122342</td>\n",
       "    </tr>\n",
       "    <tr>\n",
       "      <th>8</th>\n",
       "      <td>-0.041224</td>\n",
       "      <td>-0.523513</td>\n",
       "      <td>-0.470123</td>\n",
       "      <td>-0.682280</td>\n",
       "    </tr>\n",
       "    <tr>\n",
       "      <th>9</th>\n",
       "      <td>-0.806587</td>\n",
       "      <td>0.376720</td>\n",
       "      <td>1.532921</td>\n",
       "      <td>-0.035375</td>\n",
       "    </tr>\n",
       "  </tbody>\n",
       "</table>\n",
       "</div>"
      ],
      "text/plain": [
       "          0         1         2         3\n",
       "0  0.584247 -1.340950 -0.218932  0.044229\n",
       "1  0.115596  0.694788 -1.999149 -2.313371\n",
       "2  1.002796 -0.744915 -1.390048  2.161679\n",
       "3  0.751375 -0.577282 -1.400061 -1.408320\n",
       "4 -1.339663  0.457674  0.328793  0.243270\n",
       "5 -0.327296 -0.031824 -0.268248 -0.810144\n",
       "6  0.779255  0.529583 -0.090942 -0.525734\n",
       "7  0.299773 -3.054527  0.112191  0.122342\n",
       "8 -0.041224 -0.523513 -0.470123 -0.682280\n",
       "9 -0.806587  0.376720  1.532921 -0.035375"
      ]
     },
     "execution_count": 88,
     "metadata": {},
     "output_type": "execute_result"
    }
   ],
   "source": [
    "df = pd.DataFrame(np.random.randn(10,4))\n",
    "df"
   ]
  },
  {
   "cell_type": "code",
   "execution_count": 89,
   "metadata": {
    "collapsed": true
   },
   "outputs": [],
   "source": [
    "pieces = [df[:3], df[3:7], df[7:]]"
   ]
  },
  {
   "cell_type": "code",
   "execution_count": 97,
   "metadata": {
    "collapsed": false
   },
   "outputs": [
    {
     "data": {
      "text/html": [
       "<div>\n",
       "<table border=\"1\" class=\"dataframe\">\n",
       "  <thead>\n",
       "    <tr style=\"text-align: right;\">\n",
       "      <th></th>\n",
       "      <th>key</th>\n",
       "      <th>rval</th>\n",
       "    </tr>\n",
       "  </thead>\n",
       "  <tbody>\n",
       "    <tr>\n",
       "      <th>0</th>\n",
       "      <td>foo</td>\n",
       "      <td>4</td>\n",
       "    </tr>\n",
       "    <tr>\n",
       "      <th>1</th>\n",
       "      <td>foo</td>\n",
       "      <td>5</td>\n",
       "    </tr>\n",
       "  </tbody>\n",
       "</table>\n",
       "</div>"
      ],
      "text/plain": [
       "   key  rval\n",
       "0  foo     4\n",
       "1  foo     5"
      ]
     },
     "execution_count": 97,
     "metadata": {},
     "output_type": "execute_result"
    }
   ],
   "source": [
    "left = pd.DataFrame({'key': ['foo', 'foo'], 'lval': [1, 2]})\n",
    "right = pd.DataFrame({'key': ['foo', 'foo'], 'rval': [4, 5]})\n",
    "right"
   ]
  },
  {
   "cell_type": "code",
   "execution_count": 98,
   "metadata": {
    "collapsed": false
   },
   "outputs": [
    {
     "data": {
      "text/html": [
       "<div>\n",
       "<table border=\"1\" class=\"dataframe\">\n",
       "  <thead>\n",
       "    <tr style=\"text-align: right;\">\n",
       "      <th></th>\n",
       "      <th>key</th>\n",
       "      <th>lval</th>\n",
       "      <th>rval</th>\n",
       "    </tr>\n",
       "  </thead>\n",
       "  <tbody>\n",
       "    <tr>\n",
       "      <th>0</th>\n",
       "      <td>foo</td>\n",
       "      <td>1</td>\n",
       "      <td>4</td>\n",
       "    </tr>\n",
       "    <tr>\n",
       "      <th>1</th>\n",
       "      <td>foo</td>\n",
       "      <td>1</td>\n",
       "      <td>5</td>\n",
       "    </tr>\n",
       "    <tr>\n",
       "      <th>2</th>\n",
       "      <td>foo</td>\n",
       "      <td>2</td>\n",
       "      <td>4</td>\n",
       "    </tr>\n",
       "    <tr>\n",
       "      <th>3</th>\n",
       "      <td>foo</td>\n",
       "      <td>2</td>\n",
       "      <td>5</td>\n",
       "    </tr>\n",
       "  </tbody>\n",
       "</table>\n",
       "</div>"
      ],
      "text/plain": [
       "   key  lval  rval\n",
       "0  foo     1     4\n",
       "1  foo     1     5\n",
       "2  foo     2     4\n",
       "3  foo     2     5"
      ]
     },
     "execution_count": 98,
     "metadata": {},
     "output_type": "execute_result"
    }
   ],
   "source": [
    "pd.merge(left, right, on='key')"
   ]
  },
  {
   "cell_type": "code",
   "execution_count": 99,
   "metadata": {
    "collapsed": false
   },
   "outputs": [
    {
     "data": {
      "text/html": [
       "<div>\n",
       "<table border=\"1\" class=\"dataframe\">\n",
       "  <thead>\n",
       "    <tr style=\"text-align: right;\">\n",
       "      <th></th>\n",
       "      <th>0</th>\n",
       "      <th>1</th>\n",
       "      <th>2</th>\n",
       "      <th>3</th>\n",
       "    </tr>\n",
       "  </thead>\n",
       "  <tbody>\n",
       "    <tr>\n",
       "      <th>0</th>\n",
       "      <td>0.584247</td>\n",
       "      <td>-1.340950</td>\n",
       "      <td>-0.218932</td>\n",
       "      <td>0.044229</td>\n",
       "    </tr>\n",
       "    <tr>\n",
       "      <th>1</th>\n",
       "      <td>0.115596</td>\n",
       "      <td>0.694788</td>\n",
       "      <td>-1.999149</td>\n",
       "      <td>-2.313371</td>\n",
       "    </tr>\n",
       "    <tr>\n",
       "      <th>2</th>\n",
       "      <td>1.002796</td>\n",
       "      <td>-0.744915</td>\n",
       "      <td>-1.390048</td>\n",
       "      <td>2.161679</td>\n",
       "    </tr>\n",
       "    <tr>\n",
       "      <th>3</th>\n",
       "      <td>0.751375</td>\n",
       "      <td>-0.577282</td>\n",
       "      <td>-1.400061</td>\n",
       "      <td>-1.408320</td>\n",
       "    </tr>\n",
       "    <tr>\n",
       "      <th>4</th>\n",
       "      <td>-1.339663</td>\n",
       "      <td>0.457674</td>\n",
       "      <td>0.328793</td>\n",
       "      <td>0.243270</td>\n",
       "    </tr>\n",
       "    <tr>\n",
       "      <th>5</th>\n",
       "      <td>-0.327296</td>\n",
       "      <td>-0.031824</td>\n",
       "      <td>-0.268248</td>\n",
       "      <td>-0.810144</td>\n",
       "    </tr>\n",
       "    <tr>\n",
       "      <th>6</th>\n",
       "      <td>0.779255</td>\n",
       "      <td>0.529583</td>\n",
       "      <td>-0.090942</td>\n",
       "      <td>-0.525734</td>\n",
       "    </tr>\n",
       "    <tr>\n",
       "      <th>7</th>\n",
       "      <td>0.299773</td>\n",
       "      <td>-3.054527</td>\n",
       "      <td>0.112191</td>\n",
       "      <td>0.122342</td>\n",
       "    </tr>\n",
       "    <tr>\n",
       "      <th>8</th>\n",
       "      <td>-0.041224</td>\n",
       "      <td>-0.523513</td>\n",
       "      <td>-0.470123</td>\n",
       "      <td>-0.682280</td>\n",
       "    </tr>\n",
       "    <tr>\n",
       "      <th>9</th>\n",
       "      <td>-0.806587</td>\n",
       "      <td>0.376720</td>\n",
       "      <td>1.532921</td>\n",
       "      <td>-0.035375</td>\n",
       "    </tr>\n",
       "  </tbody>\n",
       "</table>\n",
       "</div>"
      ],
      "text/plain": [
       "          0         1         2         3\n",
       "0  0.584247 -1.340950 -0.218932  0.044229\n",
       "1  0.115596  0.694788 -1.999149 -2.313371\n",
       "2  1.002796 -0.744915 -1.390048  2.161679\n",
       "3  0.751375 -0.577282 -1.400061 -1.408320\n",
       "4 -1.339663  0.457674  0.328793  0.243270\n",
       "5 -0.327296 -0.031824 -0.268248 -0.810144\n",
       "6  0.779255  0.529583 -0.090942 -0.525734\n",
       "7  0.299773 -3.054527  0.112191  0.122342\n",
       "8 -0.041224 -0.523513 -0.470123 -0.682280\n",
       "9 -0.806587  0.376720  1.532921 -0.035375"
      ]
     },
     "execution_count": 99,
     "metadata": {},
     "output_type": "execute_result"
    }
   ],
   "source": [
    "df"
   ]
  },
  {
   "cell_type": "code",
   "execution_count": 100,
   "metadata": {
    "collapsed": true
   },
   "outputs": [],
   "source": [
    "s = df.iloc[3]"
   ]
  },
  {
   "cell_type": "code",
   "execution_count": 101,
   "metadata": {
    "collapsed": false
   },
   "outputs": [
    {
     "data": {
      "text/plain": [
       "0    0.751375\n",
       "1   -0.577282\n",
       "2   -1.400061\n",
       "3   -1.408320\n",
       "Name: 3, dtype: float64"
      ]
     },
     "execution_count": 101,
     "metadata": {},
     "output_type": "execute_result"
    }
   ],
   "source": [
    "s"
   ]
  },
  {
   "cell_type": "code",
   "execution_count": 103,
   "metadata": {
    "collapsed": false
   },
   "outputs": [
    {
     "data": {
      "text/html": [
       "<div>\n",
       "<table border=\"1\" class=\"dataframe\">\n",
       "  <thead>\n",
       "    <tr style=\"text-align: right;\">\n",
       "      <th></th>\n",
       "      <th>0</th>\n",
       "      <th>1</th>\n",
       "      <th>2</th>\n",
       "      <th>3</th>\n",
       "    </tr>\n",
       "  </thead>\n",
       "  <tbody>\n",
       "    <tr>\n",
       "      <th>0</th>\n",
       "      <td>0.584247</td>\n",
       "      <td>-1.340950</td>\n",
       "      <td>-0.218932</td>\n",
       "      <td>0.044229</td>\n",
       "    </tr>\n",
       "    <tr>\n",
       "      <th>1</th>\n",
       "      <td>0.115596</td>\n",
       "      <td>0.694788</td>\n",
       "      <td>-1.999149</td>\n",
       "      <td>-2.313371</td>\n",
       "    </tr>\n",
       "    <tr>\n",
       "      <th>2</th>\n",
       "      <td>1.002796</td>\n",
       "      <td>-0.744915</td>\n",
       "      <td>-1.390048</td>\n",
       "      <td>2.161679</td>\n",
       "    </tr>\n",
       "    <tr>\n",
       "      <th>3</th>\n",
       "      <td>0.751375</td>\n",
       "      <td>-0.577282</td>\n",
       "      <td>-1.400061</td>\n",
       "      <td>-1.408320</td>\n",
       "    </tr>\n",
       "    <tr>\n",
       "      <th>4</th>\n",
       "      <td>-1.339663</td>\n",
       "      <td>0.457674</td>\n",
       "      <td>0.328793</td>\n",
       "      <td>0.243270</td>\n",
       "    </tr>\n",
       "    <tr>\n",
       "      <th>5</th>\n",
       "      <td>-0.327296</td>\n",
       "      <td>-0.031824</td>\n",
       "      <td>-0.268248</td>\n",
       "      <td>-0.810144</td>\n",
       "    </tr>\n",
       "    <tr>\n",
       "      <th>6</th>\n",
       "      <td>0.779255</td>\n",
       "      <td>0.529583</td>\n",
       "      <td>-0.090942</td>\n",
       "      <td>-0.525734</td>\n",
       "    </tr>\n",
       "    <tr>\n",
       "      <th>7</th>\n",
       "      <td>0.299773</td>\n",
       "      <td>-3.054527</td>\n",
       "      <td>0.112191</td>\n",
       "      <td>0.122342</td>\n",
       "    </tr>\n",
       "    <tr>\n",
       "      <th>8</th>\n",
       "      <td>-0.041224</td>\n",
       "      <td>-0.523513</td>\n",
       "      <td>-0.470123</td>\n",
       "      <td>-0.682280</td>\n",
       "    </tr>\n",
       "    <tr>\n",
       "      <th>9</th>\n",
       "      <td>-0.806587</td>\n",
       "      <td>0.376720</td>\n",
       "      <td>1.532921</td>\n",
       "      <td>-0.035375</td>\n",
       "    </tr>\n",
       "    <tr>\n",
       "      <th>10</th>\n",
       "      <td>0.751375</td>\n",
       "      <td>-0.577282</td>\n",
       "      <td>-1.400061</td>\n",
       "      <td>-1.408320</td>\n",
       "    </tr>\n",
       "  </tbody>\n",
       "</table>\n",
       "</div>"
      ],
      "text/plain": [
       "           0         1         2         3\n",
       "0   0.584247 -1.340950 -0.218932  0.044229\n",
       "1   0.115596  0.694788 -1.999149 -2.313371\n",
       "2   1.002796 -0.744915 -1.390048  2.161679\n",
       "3   0.751375 -0.577282 -1.400061 -1.408320\n",
       "4  -1.339663  0.457674  0.328793  0.243270\n",
       "5  -0.327296 -0.031824 -0.268248 -0.810144\n",
       "6   0.779255  0.529583 -0.090942 -0.525734\n",
       "7   0.299773 -3.054527  0.112191  0.122342\n",
       "8  -0.041224 -0.523513 -0.470123 -0.682280\n",
       "9  -0.806587  0.376720  1.532921 -0.035375\n",
       "10  0.751375 -0.577282 -1.400061 -1.408320"
      ]
     },
     "execution_count": 103,
     "metadata": {},
     "output_type": "execute_result"
    }
   ],
   "source": [
    "df.append(s, ignore_index=True)"
   ]
  },
  {
   "cell_type": "code",
   "execution_count": 104,
   "metadata": {
    "collapsed": true
   },
   "outputs": [],
   "source": [
    "df.columns = list('ABCD')"
   ]
  },
  {
   "cell_type": "code",
   "execution_count": 105,
   "metadata": {
    "collapsed": false
   },
   "outputs": [
    {
     "data": {
      "text/html": [
       "<div>\n",
       "<table border=\"1\" class=\"dataframe\">\n",
       "  <thead>\n",
       "    <tr style=\"text-align: right;\">\n",
       "      <th></th>\n",
       "      <th>A</th>\n",
       "      <th>B</th>\n",
       "      <th>C</th>\n",
       "      <th>D</th>\n",
       "    </tr>\n",
       "  </thead>\n",
       "  <tbody>\n",
       "    <tr>\n",
       "      <th>0</th>\n",
       "      <td>0.584247</td>\n",
       "      <td>-1.340950</td>\n",
       "      <td>-0.218932</td>\n",
       "      <td>0.044229</td>\n",
       "    </tr>\n",
       "    <tr>\n",
       "      <th>1</th>\n",
       "      <td>0.115596</td>\n",
       "      <td>0.694788</td>\n",
       "      <td>-1.999149</td>\n",
       "      <td>-2.313371</td>\n",
       "    </tr>\n",
       "    <tr>\n",
       "      <th>2</th>\n",
       "      <td>1.002796</td>\n",
       "      <td>-0.744915</td>\n",
       "      <td>-1.390048</td>\n",
       "      <td>2.161679</td>\n",
       "    </tr>\n",
       "    <tr>\n",
       "      <th>3</th>\n",
       "      <td>0.751375</td>\n",
       "      <td>-0.577282</td>\n",
       "      <td>-1.400061</td>\n",
       "      <td>-1.408320</td>\n",
       "    </tr>\n",
       "    <tr>\n",
       "      <th>4</th>\n",
       "      <td>-1.339663</td>\n",
       "      <td>0.457674</td>\n",
       "      <td>0.328793</td>\n",
       "      <td>0.243270</td>\n",
       "    </tr>\n",
       "    <tr>\n",
       "      <th>5</th>\n",
       "      <td>-0.327296</td>\n",
       "      <td>-0.031824</td>\n",
       "      <td>-0.268248</td>\n",
       "      <td>-0.810144</td>\n",
       "    </tr>\n",
       "    <tr>\n",
       "      <th>6</th>\n",
       "      <td>0.779255</td>\n",
       "      <td>0.529583</td>\n",
       "      <td>-0.090942</td>\n",
       "      <td>-0.525734</td>\n",
       "    </tr>\n",
       "    <tr>\n",
       "      <th>7</th>\n",
       "      <td>0.299773</td>\n",
       "      <td>-3.054527</td>\n",
       "      <td>0.112191</td>\n",
       "      <td>0.122342</td>\n",
       "    </tr>\n",
       "    <tr>\n",
       "      <th>8</th>\n",
       "      <td>-0.041224</td>\n",
       "      <td>-0.523513</td>\n",
       "      <td>-0.470123</td>\n",
       "      <td>-0.682280</td>\n",
       "    </tr>\n",
       "    <tr>\n",
       "      <th>9</th>\n",
       "      <td>-0.806587</td>\n",
       "      <td>0.376720</td>\n",
       "      <td>1.532921</td>\n",
       "      <td>-0.035375</td>\n",
       "    </tr>\n",
       "  </tbody>\n",
       "</table>\n",
       "</div>"
      ],
      "text/plain": [
       "          A         B         C         D\n",
       "0  0.584247 -1.340950 -0.218932  0.044229\n",
       "1  0.115596  0.694788 -1.999149 -2.313371\n",
       "2  1.002796 -0.744915 -1.390048  2.161679\n",
       "3  0.751375 -0.577282 -1.400061 -1.408320\n",
       "4 -1.339663  0.457674  0.328793  0.243270\n",
       "5 -0.327296 -0.031824 -0.268248 -0.810144\n",
       "6  0.779255  0.529583 -0.090942 -0.525734\n",
       "7  0.299773 -3.054527  0.112191  0.122342\n",
       "8 -0.041224 -0.523513 -0.470123 -0.682280\n",
       "9 -0.806587  0.376720  1.532921 -0.035375"
      ]
     },
     "execution_count": 105,
     "metadata": {},
     "output_type": "execute_result"
    }
   ],
   "source": [
    "df"
   ]
  },
  {
   "cell_type": "code",
   "execution_count": 106,
   "metadata": {
    "collapsed": true
   },
   "outputs": [],
   "source": [
    "df = df.append(df.iloc[0:2], ignore_index=True)"
   ]
  },
  {
   "cell_type": "code",
   "execution_count": 107,
   "metadata": {
    "collapsed": false
   },
   "outputs": [
    {
     "data": {
      "text/html": [
       "<div>\n",
       "<table border=\"1\" class=\"dataframe\">\n",
       "  <thead>\n",
       "    <tr style=\"text-align: right;\">\n",
       "      <th></th>\n",
       "      <th>A</th>\n",
       "      <th>B</th>\n",
       "      <th>C</th>\n",
       "      <th>D</th>\n",
       "    </tr>\n",
       "  </thead>\n",
       "  <tbody>\n",
       "    <tr>\n",
       "      <th>0</th>\n",
       "      <td>0.584247</td>\n",
       "      <td>-1.340950</td>\n",
       "      <td>-0.218932</td>\n",
       "      <td>0.044229</td>\n",
       "    </tr>\n",
       "    <tr>\n",
       "      <th>1</th>\n",
       "      <td>0.115596</td>\n",
       "      <td>0.694788</td>\n",
       "      <td>-1.999149</td>\n",
       "      <td>-2.313371</td>\n",
       "    </tr>\n",
       "    <tr>\n",
       "      <th>2</th>\n",
       "      <td>1.002796</td>\n",
       "      <td>-0.744915</td>\n",
       "      <td>-1.390048</td>\n",
       "      <td>2.161679</td>\n",
       "    </tr>\n",
       "    <tr>\n",
       "      <th>3</th>\n",
       "      <td>0.751375</td>\n",
       "      <td>-0.577282</td>\n",
       "      <td>-1.400061</td>\n",
       "      <td>-1.408320</td>\n",
       "    </tr>\n",
       "    <tr>\n",
       "      <th>4</th>\n",
       "      <td>-1.339663</td>\n",
       "      <td>0.457674</td>\n",
       "      <td>0.328793</td>\n",
       "      <td>0.243270</td>\n",
       "    </tr>\n",
       "    <tr>\n",
       "      <th>5</th>\n",
       "      <td>-0.327296</td>\n",
       "      <td>-0.031824</td>\n",
       "      <td>-0.268248</td>\n",
       "      <td>-0.810144</td>\n",
       "    </tr>\n",
       "    <tr>\n",
       "      <th>6</th>\n",
       "      <td>0.779255</td>\n",
       "      <td>0.529583</td>\n",
       "      <td>-0.090942</td>\n",
       "      <td>-0.525734</td>\n",
       "    </tr>\n",
       "    <tr>\n",
       "      <th>7</th>\n",
       "      <td>0.299773</td>\n",
       "      <td>-3.054527</td>\n",
       "      <td>0.112191</td>\n",
       "      <td>0.122342</td>\n",
       "    </tr>\n",
       "    <tr>\n",
       "      <th>8</th>\n",
       "      <td>-0.041224</td>\n",
       "      <td>-0.523513</td>\n",
       "      <td>-0.470123</td>\n",
       "      <td>-0.682280</td>\n",
       "    </tr>\n",
       "    <tr>\n",
       "      <th>9</th>\n",
       "      <td>-0.806587</td>\n",
       "      <td>0.376720</td>\n",
       "      <td>1.532921</td>\n",
       "      <td>-0.035375</td>\n",
       "    </tr>\n",
       "    <tr>\n",
       "      <th>10</th>\n",
       "      <td>0.584247</td>\n",
       "      <td>-1.340950</td>\n",
       "      <td>-0.218932</td>\n",
       "      <td>0.044229</td>\n",
       "    </tr>\n",
       "    <tr>\n",
       "      <th>11</th>\n",
       "      <td>0.115596</td>\n",
       "      <td>0.694788</td>\n",
       "      <td>-1.999149</td>\n",
       "      <td>-2.313371</td>\n",
       "    </tr>\n",
       "  </tbody>\n",
       "</table>\n",
       "</div>"
      ],
      "text/plain": [
       "           A         B         C         D\n",
       "0   0.584247 -1.340950 -0.218932  0.044229\n",
       "1   0.115596  0.694788 -1.999149 -2.313371\n",
       "2   1.002796 -0.744915 -1.390048  2.161679\n",
       "3   0.751375 -0.577282 -1.400061 -1.408320\n",
       "4  -1.339663  0.457674  0.328793  0.243270\n",
       "5  -0.327296 -0.031824 -0.268248 -0.810144\n",
       "6   0.779255  0.529583 -0.090942 -0.525734\n",
       "7   0.299773 -3.054527  0.112191  0.122342\n",
       "8  -0.041224 -0.523513 -0.470123 -0.682280\n",
       "9  -0.806587  0.376720  1.532921 -0.035375\n",
       "10  0.584247 -1.340950 -0.218932  0.044229\n",
       "11  0.115596  0.694788 -1.999149 -2.313371"
      ]
     },
     "execution_count": 107,
     "metadata": {},
     "output_type": "execute_result"
    }
   ],
   "source": [
    "df"
   ]
  },
  {
   "cell_type": "code",
   "execution_count": 108,
   "metadata": {
    "collapsed": false
   },
   "outputs": [
    {
     "data": {
      "text/html": [
       "<div>\n",
       "<table border=\"1\" class=\"dataframe\">\n",
       "  <thead>\n",
       "    <tr style=\"text-align: right;\">\n",
       "      <th></th>\n",
       "      <th>A</th>\n",
       "      <th>B</th>\n",
       "      <th>C</th>\n",
       "      <th>D</th>\n",
       "      <th>E</th>\n",
       "      <th>F</th>\n",
       "    </tr>\n",
       "  </thead>\n",
       "  <tbody>\n",
       "    <tr>\n",
       "      <th>0</th>\n",
       "      <td>0.584247</td>\n",
       "      <td>-1.340950</td>\n",
       "      <td>-0.218932</td>\n",
       "      <td>0.044229</td>\n",
       "      <td>foo</td>\n",
       "      <td>one</td>\n",
       "    </tr>\n",
       "    <tr>\n",
       "      <th>1</th>\n",
       "      <td>0.115596</td>\n",
       "      <td>0.694788</td>\n",
       "      <td>-1.999149</td>\n",
       "      <td>-2.313371</td>\n",
       "      <td>bar</td>\n",
       "      <td>two</td>\n",
       "    </tr>\n",
       "    <tr>\n",
       "      <th>2</th>\n",
       "      <td>1.002796</td>\n",
       "      <td>-0.744915</td>\n",
       "      <td>-1.390048</td>\n",
       "      <td>2.161679</td>\n",
       "      <td>foo</td>\n",
       "      <td>three</td>\n",
       "    </tr>\n",
       "    <tr>\n",
       "      <th>3</th>\n",
       "      <td>0.751375</td>\n",
       "      <td>-0.577282</td>\n",
       "      <td>-1.400061</td>\n",
       "      <td>-1.408320</td>\n",
       "      <td>bar</td>\n",
       "      <td>one</td>\n",
       "    </tr>\n",
       "    <tr>\n",
       "      <th>4</th>\n",
       "      <td>-1.339663</td>\n",
       "      <td>0.457674</td>\n",
       "      <td>0.328793</td>\n",
       "      <td>0.243270</td>\n",
       "      <td>foo</td>\n",
       "      <td>two</td>\n",
       "    </tr>\n",
       "    <tr>\n",
       "      <th>5</th>\n",
       "      <td>-0.327296</td>\n",
       "      <td>-0.031824</td>\n",
       "      <td>-0.268248</td>\n",
       "      <td>-0.810144</td>\n",
       "      <td>bar</td>\n",
       "      <td>three</td>\n",
       "    </tr>\n",
       "    <tr>\n",
       "      <th>6</th>\n",
       "      <td>0.779255</td>\n",
       "      <td>0.529583</td>\n",
       "      <td>-0.090942</td>\n",
       "      <td>-0.525734</td>\n",
       "      <td>foo</td>\n",
       "      <td>one</td>\n",
       "    </tr>\n",
       "    <tr>\n",
       "      <th>7</th>\n",
       "      <td>0.299773</td>\n",
       "      <td>-3.054527</td>\n",
       "      <td>0.112191</td>\n",
       "      <td>0.122342</td>\n",
       "      <td>bar</td>\n",
       "      <td>two</td>\n",
       "    </tr>\n",
       "    <tr>\n",
       "      <th>8</th>\n",
       "      <td>-0.041224</td>\n",
       "      <td>-0.523513</td>\n",
       "      <td>-0.470123</td>\n",
       "      <td>-0.682280</td>\n",
       "      <td>foo</td>\n",
       "      <td>three</td>\n",
       "    </tr>\n",
       "    <tr>\n",
       "      <th>9</th>\n",
       "      <td>-0.806587</td>\n",
       "      <td>0.376720</td>\n",
       "      <td>1.532921</td>\n",
       "      <td>-0.035375</td>\n",
       "      <td>bar</td>\n",
       "      <td>one</td>\n",
       "    </tr>\n",
       "    <tr>\n",
       "      <th>10</th>\n",
       "      <td>0.584247</td>\n",
       "      <td>-1.340950</td>\n",
       "      <td>-0.218932</td>\n",
       "      <td>0.044229</td>\n",
       "      <td>foo</td>\n",
       "      <td>two</td>\n",
       "    </tr>\n",
       "    <tr>\n",
       "      <th>11</th>\n",
       "      <td>0.115596</td>\n",
       "      <td>0.694788</td>\n",
       "      <td>-1.999149</td>\n",
       "      <td>-2.313371</td>\n",
       "      <td>bar</td>\n",
       "      <td>three</td>\n",
       "    </tr>\n",
       "  </tbody>\n",
       "</table>\n",
       "</div>"
      ],
      "text/plain": [
       "           A         B         C         D    E      F\n",
       "0   0.584247 -1.340950 -0.218932  0.044229  foo    one\n",
       "1   0.115596  0.694788 -1.999149 -2.313371  bar    two\n",
       "2   1.002796 -0.744915 -1.390048  2.161679  foo  three\n",
       "3   0.751375 -0.577282 -1.400061 -1.408320  bar    one\n",
       "4  -1.339663  0.457674  0.328793  0.243270  foo    two\n",
       "5  -0.327296 -0.031824 -0.268248 -0.810144  bar  three\n",
       "6   0.779255  0.529583 -0.090942 -0.525734  foo    one\n",
       "7   0.299773 -3.054527  0.112191  0.122342  bar    two\n",
       "8  -0.041224 -0.523513 -0.470123 -0.682280  foo  three\n",
       "9  -0.806587  0.376720  1.532921 -0.035375  bar    one\n",
       "10  0.584247 -1.340950 -0.218932  0.044229  foo    two\n",
       "11  0.115596  0.694788 -1.999149 -2.313371  bar  three"
      ]
     },
     "execution_count": 108,
     "metadata": {},
     "output_type": "execute_result"
    }
   ],
   "source": [
    "df['E'] = ['foo', 'bar']*6\n",
    "df['F'] = ['one', 'two', 'three']*4\n",
    "df"
   ]
  },
  {
   "cell_type": "code",
   "execution_count": 124,
   "metadata": {
    "collapsed": false
   },
   "outputs": [
    {
     "name": "stdout",
     "output_type": "stream",
     "text": [
      "('bar', 'one')\n",
      "          A         B         C         D    E    F\n",
      "3  0.751375 -0.577282 -1.400061 -1.408320  bar  one\n",
      "9 -0.806587  0.376720  1.532921 -0.035375  bar  one\n",
      "('bar', 'three')\n",
      "           A         B         C         D    E      F\n",
      "5  -0.327296 -0.031824 -0.268248 -0.810144  bar  three\n",
      "11  0.115596  0.694788 -1.999149 -2.313371  bar  three\n",
      "('bar', 'two')\n",
      "          A         B         C         D    E    F\n",
      "1  0.115596  0.694788 -1.999149 -2.313371  bar  two\n",
      "7  0.299773 -3.054527  0.112191  0.122342  bar  two\n",
      "('foo', 'one')\n",
      "          A         B         C         D    E    F\n",
      "0  0.584247 -1.340950 -0.218932  0.044229  foo  one\n",
      "6  0.779255  0.529583 -0.090942 -0.525734  foo  one\n",
      "('foo', 'three')\n",
      "          A         B         C         D    E      F\n",
      "2  1.002796 -0.744915 -1.390048  2.161679  foo  three\n",
      "8 -0.041224 -0.523513 -0.470123 -0.682280  foo  three\n",
      "('foo', 'two')\n",
      "           A         B         C         D    E    F\n",
      "4  -1.339663  0.457674  0.328793  0.243270  foo  two\n",
      "10  0.584247 -1.340950 -0.218932  0.044229  foo  two\n"
     ]
    }
   ],
   "source": [
    "for name, group in df.groupby(['E','F']):\n",
    "    print name\n",
    "    print group"
   ]
  },
  {
   "cell_type": "code",
   "execution_count": 110,
   "metadata": {
    "collapsed": true
   },
   "outputs": [],
   "source": [
    "def getlettertype(letter):\n",
    "    if letter.lower() in 'aeiou':\n",
    "        return 'vowel'\n",
    "    else:\n",
    "        return 'consonant'"
   ]
  },
  {
   "cell_type": "code",
   "execution_count": 121,
   "metadata": {
    "collapsed": false
   },
   "outputs": [],
   "source": [
    "gb = df.groupby(getlettertype, axis=1)"
   ]
  },
  {
   "cell_type": "code",
   "execution_count": 123,
   "metadata": {
    "collapsed": false
   },
   "outputs": [
    {
     "data": {
      "text/plain": [
       "<pandas.core.groupby.SeriesGroupBy object at 0x10652f0d0>"
      ]
     },
     "execution_count": 123,
     "metadata": {},
     "output_type": "execute_result"
    }
   ],
   "source": [
    "gb.A"
   ]
  },
  {
   "cell_type": "code",
   "execution_count": 125,
   "metadata": {
    "collapsed": false
   },
   "outputs": [
    {
     "data": {
      "text/html": [
       "<div>\n",
       "<table border=\"1\" class=\"dataframe\">\n",
       "  <thead>\n",
       "    <tr style=\"text-align: right;\">\n",
       "      <th></th>\n",
       "      <th>A</th>\n",
       "      <th>B</th>\n",
       "      <th>C</th>\n",
       "      <th>D</th>\n",
       "      <th>E</th>\n",
       "      <th>F</th>\n",
       "    </tr>\n",
       "  </thead>\n",
       "  <tbody>\n",
       "    <tr>\n",
       "      <th>0</th>\n",
       "      <td>0.584247</td>\n",
       "      <td>-1.340950</td>\n",
       "      <td>-0.218932</td>\n",
       "      <td>0.044229</td>\n",
       "      <td>foo</td>\n",
       "      <td>one</td>\n",
       "    </tr>\n",
       "    <tr>\n",
       "      <th>1</th>\n",
       "      <td>0.115596</td>\n",
       "      <td>0.694788</td>\n",
       "      <td>-1.999149</td>\n",
       "      <td>-2.313371</td>\n",
       "      <td>bar</td>\n",
       "      <td>two</td>\n",
       "    </tr>\n",
       "    <tr>\n",
       "      <th>2</th>\n",
       "      <td>1.002796</td>\n",
       "      <td>-0.744915</td>\n",
       "      <td>-1.390048</td>\n",
       "      <td>2.161679</td>\n",
       "      <td>foo</td>\n",
       "      <td>three</td>\n",
       "    </tr>\n",
       "    <tr>\n",
       "      <th>3</th>\n",
       "      <td>0.751375</td>\n",
       "      <td>-0.577282</td>\n",
       "      <td>-1.400061</td>\n",
       "      <td>-1.408320</td>\n",
       "      <td>bar</td>\n",
       "      <td>one</td>\n",
       "    </tr>\n",
       "    <tr>\n",
       "      <th>4</th>\n",
       "      <td>-1.339663</td>\n",
       "      <td>0.457674</td>\n",
       "      <td>0.328793</td>\n",
       "      <td>0.243270</td>\n",
       "      <td>foo</td>\n",
       "      <td>two</td>\n",
       "    </tr>\n",
       "    <tr>\n",
       "      <th>5</th>\n",
       "      <td>-0.327296</td>\n",
       "      <td>-0.031824</td>\n",
       "      <td>-0.268248</td>\n",
       "      <td>-0.810144</td>\n",
       "      <td>bar</td>\n",
       "      <td>three</td>\n",
       "    </tr>\n",
       "    <tr>\n",
       "      <th>6</th>\n",
       "      <td>0.779255</td>\n",
       "      <td>0.529583</td>\n",
       "      <td>-0.090942</td>\n",
       "      <td>-0.525734</td>\n",
       "      <td>foo</td>\n",
       "      <td>one</td>\n",
       "    </tr>\n",
       "    <tr>\n",
       "      <th>7</th>\n",
       "      <td>0.299773</td>\n",
       "      <td>-3.054527</td>\n",
       "      <td>0.112191</td>\n",
       "      <td>0.122342</td>\n",
       "      <td>bar</td>\n",
       "      <td>two</td>\n",
       "    </tr>\n",
       "    <tr>\n",
       "      <th>8</th>\n",
       "      <td>-0.041224</td>\n",
       "      <td>-0.523513</td>\n",
       "      <td>-0.470123</td>\n",
       "      <td>-0.682280</td>\n",
       "      <td>foo</td>\n",
       "      <td>three</td>\n",
       "    </tr>\n",
       "    <tr>\n",
       "      <th>9</th>\n",
       "      <td>-0.806587</td>\n",
       "      <td>0.376720</td>\n",
       "      <td>1.532921</td>\n",
       "      <td>-0.035375</td>\n",
       "      <td>bar</td>\n",
       "      <td>one</td>\n",
       "    </tr>\n",
       "    <tr>\n",
       "      <th>10</th>\n",
       "      <td>0.584247</td>\n",
       "      <td>-1.340950</td>\n",
       "      <td>-0.218932</td>\n",
       "      <td>0.044229</td>\n",
       "      <td>foo</td>\n",
       "      <td>two</td>\n",
       "    </tr>\n",
       "    <tr>\n",
       "      <th>11</th>\n",
       "      <td>0.115596</td>\n",
       "      <td>0.694788</td>\n",
       "      <td>-1.999149</td>\n",
       "      <td>-2.313371</td>\n",
       "      <td>bar</td>\n",
       "      <td>three</td>\n",
       "    </tr>\n",
       "  </tbody>\n",
       "</table>\n",
       "</div>"
      ],
      "text/plain": [
       "           A         B         C         D    E      F\n",
       "0   0.584247 -1.340950 -0.218932  0.044229  foo    one\n",
       "1   0.115596  0.694788 -1.999149 -2.313371  bar    two\n",
       "2   1.002796 -0.744915 -1.390048  2.161679  foo  three\n",
       "3   0.751375 -0.577282 -1.400061 -1.408320  bar    one\n",
       "4  -1.339663  0.457674  0.328793  0.243270  foo    two\n",
       "5  -0.327296 -0.031824 -0.268248 -0.810144  bar  three\n",
       "6   0.779255  0.529583 -0.090942 -0.525734  foo    one\n",
       "7   0.299773 -3.054527  0.112191  0.122342  bar    two\n",
       "8  -0.041224 -0.523513 -0.470123 -0.682280  foo  three\n",
       "9  -0.806587  0.376720  1.532921 -0.035375  bar    one\n",
       "10  0.584247 -1.340950 -0.218932  0.044229  foo    two\n",
       "11  0.115596  0.694788 -1.999149 -2.313371  bar  three"
      ]
     },
     "execution_count": 125,
     "metadata": {},
     "output_type": "execute_result"
    }
   ],
   "source": [
    "df"
   ]
  },
  {
   "cell_type": "code",
   "execution_count": 2,
   "metadata": {
    "collapsed": false
   },
   "outputs": [
    {
     "data": {
      "text/plain": [
       "<matplotlib.axes._subplots.AxesSubplot at 0x1064a2a10>"
      ]
     },
     "execution_count": 2,
     "metadata": {},
     "output_type": "execute_result"
    },
    {
     "data": {
      "text/plain": [
       "<matplotlib.figure.Figure at 0x106489d10>"
      ]
     },
     "metadata": {},
     "output_type": "display_data"
    },
    {
     "data": {
      "image/png": "[encoded data removed]",
      "text/plain": [
       "<matplotlib.figure.Figure at 0x1064a2310>"
      ]
     },
     "metadata": {},
     "output_type": "display_data"
    }
   ],
   "source": [
    "df = pd.DataFrame(np.random.randn(1000,4), columns = list('ABCD'))\n",
    "plt.figure()\n",
    "df.cumsum().plot()"
   ]
  },
  {
   "cell_type": "code",
   "execution_count": 3,
   "metadata": {
    "collapsed": false
   },
   "outputs": [
    {
     "name": "stdout",
     "output_type": "stream",
     "text": [
      "100 loops, best of 3: 2.29 ms per loop\n",
      "The slowest run took 9.07 times longer than the fastest. This could mean that an intermediate result is being cached \n",
      "1000000 loops, best of 3: 342 ns per loop\n"
     ]
    }
   ],
   "source": [
    "n = 100000\n",
    "%timeit range(n)\n",
    "%timeit xrange(n)"
   ]
  }
 ],
 "metadata": {
  "kernelspec": {
   "display_name": "Python 2",
   "language": "python",
   "name": "python2"
  },
  "language_info": {
   "codemirror_mode": {
    "name": "ipython",
    "version": 2
   },
   "file_extension": ".py",
   "mimetype": "text/x-python",
   "name": "python",
   "nbconvert_exporter": "python",
   "pygments_lexer": "ipython2",
   "version": "2.7.10"
  }
 },
 "nbformat": 4,
 "nbformat_minor": 0
}

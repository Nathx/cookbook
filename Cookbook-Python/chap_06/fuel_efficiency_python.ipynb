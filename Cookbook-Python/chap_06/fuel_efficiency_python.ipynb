{
 "cells": [
  {
   "cell_type": "code",
   "execution_count": 1,
   "metadata": {
    "collapsed": false
   },
   "outputs": [
    {
     "name": "stdout",
     "output_type": "stream",
     "text": [
      "Untitled.ipynb                inheritance.ipynb\r\n",
      "chap_06_jinja.ipynb           matplotlib_tuto.ipynb\r\n",
      "chap_06_viz.ipynb             my_code.py\r\n",
      "\u001b[34mcode\u001b[m\u001b[m/                         pandas_tuto.ipynb\r\n",
      "\u001b[34mdata\u001b[m\u001b[m/                         report-20151021.html\r\n",
      "fuel_efficiency_python.ipynb\r\n"
     ]
    }
   ],
   "source": [
    "%ls"
   ]
  },
  {
   "cell_type": "code",
   "execution_count": 2,
   "metadata": {
    "collapsed": false
   },
   "outputs": [
    {
     "name": "stdout",
     "output_type": "stream",
     "text": [
      "/Users/nathankiner/Documents/Data Science/Cookbook\n"
     ]
    }
   ],
   "source": [
    "%cd ..\n",
    "!mkdir chap_07"
   ]
  },
  {
   "cell_type": "code",
   "execution_count": 3,
   "metadata": {
    "collapsed": false
   },
   "outputs": [
    {
     "name": "stdout",
     "output_type": "stream",
     "text": [
      "\u001b[34m0246OS_Code & Data\u001b[m\u001b[m/ \u001b[34mchap_04\u001b[m\u001b[m/            \u001b[34mchap_06\u001b[m\u001b[m/            \u001b[34mchap_2\u001b[m\u001b[m/\r\n",
      "\u001b[34mchap_03\u001b[m\u001b[m/            \u001b[34mchap_05\u001b[m\u001b[m/            \u001b[34mchap_07\u001b[m\u001b[m/\r\n"
     ]
    }
   ],
   "source": [
    "%ls"
   ]
  },
  {
   "cell_type": "code",
   "execution_count": 4,
   "metadata": {
    "collapsed": false
   },
   "outputs": [
    {
     "name": "stdout",
     "output_type": "stream",
     "text": [
      "/Users/nathankiner/Documents/Data Science/Cookbook/chap_07\n"
     ]
    }
   ],
   "source": [
    "%cd chap_07/"
   ]
  },
  {
   "cell_type": "code",
   "execution_count": null,
   "metadata": {
    "collapsed": true
   },
   "outputs": [],
   "source": []
  }
 ],
 "metadata": {
  "kernelspec": {
   "display_name": "Python 2",
   "language": "python",
   "name": "python2"
  },
  "language_info": {
   "codemirror_mode": {
    "name": "ipython",
    "version": 2
   },
   "file_extension": ".py",
   "mimetype": "text/x-python",
   "name": "python",
   "nbconvert_exporter": "python",
   "pygments_lexer": "ipython2",
   "version": "2.7.10"
  }
 },
 "nbformat": 4,
 "nbformat_minor": 0
}

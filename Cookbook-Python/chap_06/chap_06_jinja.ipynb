{
 "cells": [
  {
   "cell_type": "code",
   "execution_count": 2,
   "metadata": {
    "collapsed": false
   },
   "outputs": [
    {
     "data": {
      "text/plain": [
       "u'Greetings, Mr. Praline!'"
      ]
     },
     "execution_count": 2,
     "metadata": {},
     "output_type": "execute_result"
    }
   ],
   "source": [
    "from jinja2 import Template\n",
    "template = Template(u'Greetings, {{ name }}!')\n",
    "template.render(name='Mr. Praline')"
   ]
  },
  {
   "cell_type": "code",
   "execution_count": 20,
   "metadata": {
    "collapsed": false
   },
   "outputs": [],
   "source": [
    "from jinja2 import Environment, PackageLoader, FileSystemLoader\n",
    "import csv\n",
    "import json\n",
    "from datetime import datetime\n",
    "from itertools import groupby\n",
    "from operator import itemgetter\n",
    "\n",
    "def dataset(path, include):\n",
    "    column = 'Average income per tax unit'\n",
    "    \n",
    "    with open(path, 'r') as csvfile:\n",
    "        reader = csv.DictReader(csvfile)\n",
    "        key = itemgetter('Country')\n",
    "        \n",
    "        # Use groupby: memory efficient collection by country\n",
    "        for key, values in groupby(reader, key=key):\n",
    "            # Only yield countries that are included\n",
    "            if key in include:\n",
    "                yield key, [(int(value['Year']), \n",
    "                                 float(value[column]))\n",
    "                           for value in values if value[column]]\n",
    "                \n",
    "def extract_years(data):\n",
    "    for country in data:\n",
    "        for value in country[1]:\n",
    "            yield value[0]\n",
    "            \n",
    "def extract_series(data, years):\n",
    "    for country, cdata in data:\n",
    "        cdata  = dict(cdata)\n",
    "        series = [cdata[year] if year in cdata else None for year in years]\n",
    "        yield {\n",
    "            'name': country,\n",
    "            'data': series,\n",
    "        }\n",
    "        \n",
    "def write(context):\n",
    "    path = \"report-%s.html\" % datetime.now().strftime(\"%Y%m%d\")\n",
    "    #jinjaenv = Environment(loader=PackageLoader('reporting', 'templates'))\n",
    "    # 'templates' should be the path to the templates folder\n",
    "    # as written, it is assumed to be in the current directory\n",
    "    jinjaenv = Environment(loader = FileSystemLoader('code/templates'))\n",
    "    template = jinjaenv.get_template('report.html')\n",
    "    template.stream(context).dump(path)\n",
    "    \n",
    "def main(source):\n",
    "    include = (\"United States\", \"France\", \"Italy\", \n",
    "               \"Germany\", \"South Africa\", \"New Zealand\")\n",
    "    \n",
    "    data = list(dataset(source, include))\n",
    "    years = set(extract_years(data))\n",
    "    \n",
    "    context = {\n",
    "        'title': \"Average Income per Family, %i - %i\" %\n",
    "        (min(years), max(years)),\n",
    "        'years': json.dumps(list(years)),\n",
    "        'countries': [v[0] for v in data],\n",
    "        'series': json.dumps(list(extract_series(data, years)))\n",
    "    }\n",
    "    \n",
    "    write(context)\n",
    "    \n",
    "if __name__ == \"__main__\":\n",
    "    source = './data/income_dist.csv'\n",
    "    main(source)"
   ]
  },
  {
   "cell_type": "code",
   "execution_count": 15,
   "metadata": {
    "collapsed": false
   },
   "outputs": [
    {
     "name": "stdout",
     "output_type": "stream",
     "text": [
      "<jinja2.environment.TemplateStream object at 0x103a7e250>\n"
     ]
    }
   ],
   "source": [
    "print template.stream()"
   ]
  },
  {
   "cell_type": "code",
   "execution_count": null,
   "metadata": {
    "collapsed": true
   },
   "outputs": [],
   "source": []
  }
 ],
 "metadata": {
  "kernelspec": {
   "display_name": "Python 2",
   "language": "python",
   "name": "python2"
  },
  "language_info": {
   "codemirror_mode": {
    "name": "ipython",
    "version": 2
   },
   "file_extension": ".py",
   "mimetype": "text/x-python",
   "name": "python",
   "nbconvert_exporter": "python",
   "pygments_lexer": "ipython2",
   "version": "2.7.10"
  }
 },
 "nbformat": 4,
 "nbformat_minor": 0
}

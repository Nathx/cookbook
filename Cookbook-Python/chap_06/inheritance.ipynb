{
 "cells": [
  {
   "cell_type": "code",
   "execution_count": 11,
   "metadata": {
    "collapsed": true
   },
   "outputs": [],
   "source": [
    "class Parent(object):\n",
    "    \n",
    "    def implicit(self):\n",
    "        print \"PARENT implicit()\"\n",
    "        \n",
    "    def override(self):\n",
    "        print \"PARENT override\"\n",
    "        \n",
    "    def altered(self):\n",
    "        print \"PARENT altered\"\n",
    "\n",
    "class Child(object):\n",
    "    def __init__(self):\n",
    "        self.other = Parent()\n",
    "    \n",
    "    def implicit(self):\n",
    "        self.other.implicit()\n",
    "    def override(self):\n",
    "        print \"CHILD override\"\n",
    "        \n",
    "    def altered(self):\n",
    "        print \"CHILD, BEFORE PARENT altered\"\n",
    "        self.other.altered()\n",
    "        print \"CHILD, AFTER PARENT altered\""
   ]
  },
  {
   "cell_type": "code",
   "execution_count": 12,
   "metadata": {
    "collapsed": false
   },
   "outputs": [],
   "source": [
    "dad = Parent()\n",
    "son = Child()"
   ]
  },
  {
   "cell_type": "code",
   "execution_count": 13,
   "metadata": {
    "collapsed": false
   },
   "outputs": [
    {
     "name": "stdout",
     "output_type": "stream",
     "text": [
      "PARENT implicit()\n",
      "PARENT implicit()\n",
      "PARENT override\n",
      "CHILD override\n"
     ]
    }
   ],
   "source": [
    "dad.implicit()\n",
    "son.implicit()\n",
    "\n",
    "dad.override()\n",
    "son.override()"
   ]
  },
  {
   "cell_type": "code",
   "execution_count": 14,
   "metadata": {
    "collapsed": false
   },
   "outputs": [
    {
     "name": "stdout",
     "output_type": "stream",
     "text": [
      "PARENT altered\n",
      "CHILD, BEFORE PARENT altered\n",
      "PARENT altered\n",
      "CHILD, AFTER PARENT altered\n"
     ]
    }
   ],
   "source": [
    "dad.altered()\n",
    "son.altered()"
   ]
  },
  {
   "cell_type": "code",
   "execution_count": 20,
   "metadata": {
    "collapsed": false
   },
   "outputs": [
    {
     "data": {
      "text/plain": [
       "[0, 3, 6, 9]"
      ]
     },
     "execution_count": 20,
     "metadata": {},
     "output_type": "execute_result"
    }
   ],
   "source": [
    "a = range(20)\n",
    "a[:10:3]"
   ]
  },
  {
   "cell_type": "code",
   "execution_count": null,
   "metadata": {
    "collapsed": true
   },
   "outputs": [],
   "source": []
  }
 ],
 "metadata": {
  "kernelspec": {
   "display_name": "Python 2",
   "language": "python",
   "name": "python2"
  },
  "language_info": {
   "codemirror_mode": {
    "name": "ipython",
    "version": 2
   },
   "file_extension": ".py",
   "mimetype": "text/x-python",
   "name": "python",
   "nbconvert_exporter": "python",
   "pygments_lexer": "ipython2",
   "version": "2.7.10"
  }
 },
 "nbformat": 4,
 "nbformat_minor": 0
}

{
 "cells": [
  {
   "cell_type": "code",
   "execution_count": 1,
   "metadata": {
    "collapsed": true
   },
   "outputs": [],
   "source": [
    "from twython import Twython\n",
    "import time\n",
    "import math\n",
    "import json"
   ]
  },
  {
   "cell_type": "code",
   "execution_count": 2,
   "metadata": {
    "collapsed": true
   },
   "outputs": [],
   "source": [
    "def twitter_oauth_login():\n",
    "    API_KEY = 'T4afJ8JtkGuDdkCkN0q1zpxs9'\n",
    "    API_SECRET = 'Rl5tXrGt0rqanaBSYOIc3LIjNFbVlImKPYATXl7i7nGaFxHdk6'\n",
    "    ACCESS_TOKEN = '215666419-NsFtzS9ajR3YYfUx6scDAzbCI2oDp6attMoMf3IG'\n",
    "    ACCESS_TOKEN_SECRET = 'NiTMzyhQrGRQCFy6UxNbnant09Lwn2AD8UADF1KRbbOpX'\n",
    "    \n",
    "    twitter = Twython(API_KEY, API_SECRET, ACCESS_TOKEN, ACCESS_TOKEN_SECRET)\n",
    "    return twitter"
   ]
  },
  {
   "cell_type": "code",
   "execution_count": 3,
   "metadata": {
    "collapsed": true
   },
   "outputs": [],
   "source": [
    "twitter = twitter_oauth_login()"
   ]
  },
  {
   "cell_type": "code",
   "execution_count": 4,
   "metadata": {
    "collapsed": false
   },
   "outputs": [],
   "source": [
    "friends_ids = twitter.get_friends_ids(count=5000)\n",
    "friends_ids = friends_ids['ids']\n",
    "\n",
    "followers_ids = twitter.get_followers_ids(count=5000)\n",
    "followers_ids = followers_ids['ids']\n",
    "\n",
    "friends_set = set(friends_ids)\n",
    "followers_set = set(followers_ids)"
   ]
  },
  {
   "cell_type": "code",
   "execution_count": 12,
   "metadata": {
    "collapsed": false
   },
   "outputs": [
    {
     "name": "stdout",
     "output_type": "stream",
     "text": [
      "292\n"
     ]
    }
   ],
   "source": [
    "print(len(friends_set.union(followers_set)))"
   ]
  },
  {
   "cell_type": "code",
   "execution_count": 13,
   "metadata": {
    "collapsed": false
   },
   "outputs": [
    {
     "name": "stdout",
     "output_type": "stream",
     "text": [
      "27\n"
     ]
    }
   ],
   "source": [
    "print(len(friends_set & followers_set))"
   ]
  },
  {
   "cell_type": "code",
   "execution_count": 5,
   "metadata": {
    "collapsed": true
   },
   "outputs": [],
   "source": [
    "def pull_user_profiles(ids):\n",
    "    users = []\n",
    "    for i in range(0, len(ids), 100):\n",
    "        batch = ids[i:i+100]\n",
    "        users += twitter.lookup_user(user_id=batch)\n",
    "        print(twitter.get_lastfunction_header('x-rate-limit-remaining'))\n",
    "        \n",
    "    return users"
   ]
  },
  {
   "cell_type": "code",
   "execution_count": 6,
   "metadata": {
    "collapsed": false
   },
   "outputs": [
    {
     "name": "stdout",
     "output_type": "stream",
     "text": [
      "179\n",
      "178\n",
      "177\n",
      "176\n"
     ]
    }
   ],
   "source": [
    "friends_profiles = pull_user_profiles(friends_ids)\n",
    "followers_profiles = pull_user_profiles(followers_ids)"
   ]
  },
  {
   "cell_type": "code",
   "execution_count": 18,
   "metadata": {
    "collapsed": true
   },
   "outputs": [
    {
     "name": "stdout",
     "output_type": "stream",
     "text": [
      "[u'Medium', u'Quai_36', u'neilhalloran', u'MITxULab', u'ottoscharmer1', u'thedatainc', u'BIPBit', u'dataphilosopher', u'DataconomyMedia', u'axellelemaire', u'leszebres', u'MutinerieCrew', u'DataIsBeautiful', u'kaggle', u'antgoldbloom', u'brainmagazine', u'ronez', u'USBEKetRICA', u'3dprintindustry', u'OKFestival', u'pierre_alonso', u'csoghoian', u'skillshare', u'BerlinTechMeet', u'luciemontel', u'FrenchTechClub', u'nicolaspatte', u'TechCrunch', u'techreview', u'medialab', u'o0omeli', u'CNNum', u'frprosper', u'btabaka', u'dataveyes', u'we_do_data', u'pauljoannon', u'Toutenrab', u'vied12', u'annelisebouyer', u'jplusplus_', u'pirhoo', u'AxelleBalvay', u'LaFrenchTech', u'SchoolOfData', u'OKFN', u'bigdata', u'sup_numerique', u'peteskomoroch', u'DataJunkie', u'RNumerique', u'SocialNextwork', u'startupacademy', u'MehdiBenkler', u'salome_k', u'arthackday', u'Paris_Incub', u'baborlelefan', u'creativeapps', u'ungeekaparis', u'reservoirfunds', u'theleanstartup', u'goleanfr', u'co_up', u'rhizome', u'artcom', u'sciencehackday', u'bymaddyness', u'okhin', u'StartupWeekend', u'CreativeCodeBLN', u'GROWit3D', u'infobeautiful', u'LiamBoogar', u'visualinfo', u'VisualizingOrg', u'NASA_EO', u'DataPointed', u'Visually', u'la_fing', u'humourdedroite', u'3DDArchitecture', u'centralesupelec', u'PetitFantome', u'Avaaz', u'Michu_Micha', u'thechildoflov', u'mdchouk', u'Dirty_EST', u'JugurthaRebrab', u'Piercus', u'SiliconStudents', u'solangelafrange', u'Ohannessian', u'pierreSN', u'Chryde', u'ARTEfr', u'brighteyesband', u'Panteros666', u'MykkiBlanco', u'voxpopmagazine', u'ladamic', u'Lorelei_Blue', u'monsieursina', u'SNAcourse', u'3DThinkTank', u'HayleyMusry', u'kevin', u'Lazarus_mirages', u'_PopHip_', u'jmaphatie', u'valtrier', u'kyank', u'xavierlacot', u'bastnic', u'armel_lecoz', u'HackFwd', u'jack', u'BarackObama', u'aperopreneurs', u'guilhem', u'pascal_vion', u'karoub', u'DreeStewart', u'ibrak', u'Scobleizer', u'sgblank', u'ParisHackers', u'sweparis', u'deltheil', u'Etalab', u'LanaDelRey', u'JLMelenchon', u'NaomiAKlein', u'mcuban', u'tweetburst', u'ClementDelangue', u'Solidays', u'jongos', u'idrisayobello', u'whiteafrican', u'macsim_fr', u'SoundCloud', u'loic', u'Voxe', u'TNWinsider', u'TheNextWeb', u'HugoAmsellem', u'BerlinManiacs', u'pierrephilippeb', u'BeMyAppFR', u'joinbox', u'sepanesa', u'bretonLABS', u'AtTheDriveIn', u'Le_Loop', u'nicolaskb', u'RDVfutur', u'soundsquixotic', u'phonoblaster', u'gklst', u'rekatz', u'csanz', u'Grimezsz', u'ericries', u'fhollande', u'fleurpellerin', u'NietzscheQuotes', u'babgi', u'finkd', u'jimmy_wales', u'lechess', u'Xavier75', u'rbrouard', u'StartInParis', u'NUMAsprint', u'incubateur', u'businessangelfr', u'guillaumervls', u'frenchweb', u'alexanderljung', u'TEDxParis', u'ivodkayou', u'Korben', u'framasoft', u'DrownedinSound', u'laquadrature', u'titiou', u'aplusk', u'CecileDuflot', u'cemonsieur', u'BoussadiaAhmed', u'Ouvre_Boite', u'Flattr', u'RealTimeWWII', u'HackDayParis', u'EntrepreneursY', u'pdatha', u'Rainbowarabia', u'Sziget', u'ETRAPANOB', u'youngbloodbrass', u'arcadefire', u'MAMADIASPORA', u'GONJASUFI', u'radiocampus', u'gigsinparis', u'lamaroquinerie', u'Radio_NEO', u'grandcrew', u'discovernet', u'Audwy', u'OWNI', u'OwniEU', u'OWNI_live', u'larachacha', u'nicolasvoisin', u'NUMAparis', u'MXP4', u'oliviertesquet', u'mathemagie', u'fffffat', u'SylvainLapoix', u'martin_u', u'mart1oeil', u'MarineWarp', u'mrbidibule', u'laflechedor', u'ooctoFR', u'3emebureau', u'electrorockblog', u'gaitelyrique', u'PointEphemere', u'nouveaucasino', u'MusicNet_Works', u'ownimusic', u'federicacocco', u'dioyy', u'Glazart', u'snatchmag', u'Kriisiis', u'JulienSamain', u'sbataillon', u'gorillavsbear', u'pinglewood', u'pierrehaski', u'manhack', u'MarionMourgue', u'PartiPirate', u'ioudg', u'wikileaks', u'ioerror', u'piratepartyws', u'blogotheque', u'EELV', u'club_RUE89', u'Camille_69', u'3614music', u'S_C_', u'arretsurimages']\n"
     ]
    }
   ],
   "source": [
    "friends_screen_names = [p['screen_name'] for p in friends_profiles if 'screen_name' in p]\n",
    "print(friends_screen_names)"
   ]
  },
  {
   "cell_type": "code",
   "execution_count": 22,
   "metadata": {
    "collapsed": true
   },
   "outputs": [],
   "source": [
    "rate_limit_window = 15*60\n",
    "\n",
    "def pull_user_profiles_limit_aware(ids):\n",
    "    \n",
    "    users = []\n",
    "    start_time = time.time()\n",
    "\n",
    "    for i in range(0, len(ids), 100):\n",
    "        batch = ids[i:i+100]\n",
    "        users += twitter.lookup_user(user_id=batch)\n",
    "        \n",
    "        calls_left = float(twitter.get_lastfunction_header('x-rate-limit-remaining'))\n",
    "        time_remaining_in_window = rate_limit_window - (time.time() - start_time)\n",
    "        sleep_duration = math.ceil(time_remaining_in_window/calls_left)\n",
    "        print ('Sleeping for: ' + str(sleep_duration) + ' seconds; ' + str(calls_left) + ' API calls remaining.')\n",
    "        time.sleep(sleep_duration)\n",
    "        \n",
    "    return users"
   ]
  },
  {
   "cell_type": "code",
   "execution_count": 7,
   "metadata": {
    "collapsed": false
   },
   "outputs": [],
   "source": [
    "def save_json(filename, data):\n",
    "    with open(filename, 'wb') as outfile:\n",
    "        json.dump(data, outfile)\n",
    "        \n",
    "def load_json(filename):\n",
    "    with open(filename) as infile:\n",
    "        data = json.load(infile)\n",
    "    return data"
   ]
  },
  {
   "cell_type": "code",
   "execution_count": 8,
   "metadata": {
    "collapsed": true
   },
   "outputs": [],
   "source": [
    "fname = 'test_followers_profiles.json'\n",
    "save_json(fname, followers_profiles)"
   ]
  },
  {
   "cell_type": "code",
   "execution_count": null,
   "metadata": {
    "collapsed": true
   },
   "outputs": [],
   "source": []
  }
 ],
 "metadata": {
  "kernelspec": {
   "display_name": "Python 2",
   "language": "python",
   "name": "python2"
  },
  "language_info": {
   "codemirror_mode": {
    "name": "ipython",
    "version": 2
   },
   "file_extension": ".py",
   "mimetype": "text/x-python",
   "name": "python",
   "nbconvert_exporter": "python",
   "pygments_lexer": "ipython2",
   "version": "2.7.10"
  }
 },
 "nbformat": 4,
 "nbformat_minor": 0
}
